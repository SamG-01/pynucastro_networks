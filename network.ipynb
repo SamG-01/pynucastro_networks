{
 "cells": [
  {
   "cell_type": "code",
   "execution_count": 100,
   "metadata": {},
   "outputs": [],
   "source": [
    "from pynucastro.screening import chugunov_2009\n",
    "from keras_network import ScreeningFactorData, ScreeningFactorNetwork\n",
    "\n",
    "import pynucastro as pyna\n",
    "import numpy as np"
   ]
  },
  {
   "cell_type": "code",
   "execution_count": 101,
   "metadata": {},
   "outputs": [],
   "source": [
    "data = ScreeningFactorData(screen_func=chugunov_2009, threshold=1.01, size=2*10**5, seed=1)"
   ]
  },
  {
   "cell_type": "code",
   "execution_count": 102,
   "metadata": {},
   "outputs": [
    {
     "data": {
      "text/plain": [
       "{'train': array([[  8.53546487,   7.80185479, 221.65891599, ...,  78.26204045,\n",
       "          51.73053441,  95.20666509],\n",
       "        [  7.43247884,   7.79459779,   4.48380342, ...,  47.1063948 ,\n",
       "           7.44583828,  12.20054858],\n",
       "        [  7.93549436,   5.6933058 ,  53.11888764, ..., 152.43070134,\n",
       "          12.26132038,  24.27125047],\n",
       "        ...,\n",
       "        [  7.61002059,   6.07059977,  12.6067145 , ...,  68.82459955,\n",
       "          15.352061  ,  36.64394483],\n",
       "        [  7.87854679,   5.41044767,  55.13586294, ...,  67.63059194,\n",
       "          26.14423804,  48.29893955],\n",
       "        [  7.62821743,   4.03969554,   1.65776815, ...,  46.5980737 ,\n",
       "         103.70886851, 209.54656393]]),\n",
       " 'validate': array([[  8.81904723,   4.75623397, 172.87842454, ...,  18.85972751,\n",
       "          55.49373416, 120.3875333 ],\n",
       "        [  7.13127339,   5.87757719, 201.95006443, ...,  40.81004313,\n",
       "          35.84123381,  54.07940171],\n",
       "        [  8.23891941,   4.14795463,  10.25423572, ...,  12.38811751,\n",
       "         100.08071722, 209.8813294 ],\n",
       "        ...,\n",
       "        [  8.7698258 ,   6.26282954,   4.45783355, ...,  52.91049365,\n",
       "          12.03821192,  24.79112653],\n",
       "        [  8.724109  ,   7.06837446, 122.74137015, ..., 165.3474096 ,\n",
       "          50.58292434, 108.42252668],\n",
       "        [  8.28285674,   6.23554715,   2.55966217, ...,  80.65902639,\n",
       "          33.82748668,  74.64150477]]),\n",
       " 'test': array([[  7.69988822,   5.98316214,  52.58515134, ..., 159.65173496,\n",
       "          88.07672516, 173.06417802],\n",
       "        [  8.99563572,   7.37632674, 202.60817627, ..., 194.00954419,\n",
       "          80.37303984, 144.68014102],\n",
       "        [  8.23743308,   7.59124172, 104.81363776, ..., 133.07718308,\n",
       "          34.68620557,  61.22783203],\n",
       "        ...,\n",
       "        [  9.63292296,   6.76789202,  21.59405841, ...,  73.45018411,\n",
       "          58.8605548 , 110.34610334],\n",
       "        [  8.4495429 ,   6.76717929,  17.35230803, ..., 213.83449288,\n",
       "          93.55510251, 184.1072021 ],\n",
       "        [  7.09293153,   5.48336976,  10.28538501, ...,  36.30427441,\n",
       "         117.50625311, 236.60578535]])}"
      ]
     },
     "execution_count": 102,
     "metadata": {},
     "output_type": "execute_result"
    }
   ],
   "source": [
    "data.x"
   ]
  },
  {
   "cell_type": "code",
   "execution_count": 103,
   "metadata": {},
   "outputs": [
    {
     "data": {
      "text/plain": [
       "0.0021516666666666667"
      ]
     },
     "execution_count": 103,
     "metadata": {},
     "output_type": "execute_result"
    }
   ],
   "source": [
    "data.frac_pos"
   ]
  },
  {
   "cell_type": "code",
   "execution_count": 104,
   "metadata": {},
   "outputs": [],
   "source": [
    "network = ScreeningFactorNetwork(data=data, seed=1)"
   ]
  },
  {
   "cell_type": "code",
   "execution_count": 105,
   "metadata": {},
   "outputs": [
    {
     "data": {
      "text/plain": [
       "{0: 100.21563063190966, 1: 232.37800154918668}"
      ]
     },
     "metadata": {},
     "output_type": "display_data"
    }
   ],
   "source": [
    "class_weights = {k: v for k,v in network.class_weight.items()}\n",
    "class_weights[0] *= 40\n",
    "display(\n",
    "    class_weights\n",
    ")"
   ]
  },
  {
   "cell_type": "code",
   "execution_count": 106,
   "metadata": {},
   "outputs": [],
   "source": [
    "import keras\n",
    "network.callbacks = [\n",
    "    keras.callbacks.EarlyStopping(\n",
    "        monitor='fn',\n",
    "        verbose=1,\n",
    "        patience=25,\n",
    "        mode='min',\n",
    "        restore_best_weights=True\n",
    "    )\n",
    "]"
   ]
  },
  {
   "cell_type": "code",
   "execution_count": 107,
   "metadata": {},
   "outputs": [],
   "source": [
    "network.class_weight = class_weights\n",
    "network.compile(learning_rate=1.05e-4)"
   ]
  },
  {
   "cell_type": "code",
   "execution_count": 108,
   "metadata": {},
   "outputs": [
    {
     "name": "stdout",
     "output_type": "stream",
     "text": [
      "Epoch 1/500\n",
      "98/98 - 14s - 142ms/step - auc: 0.3772 - fn: 427.0000 - fp: 3028.0000 - loss: 14.4458 - precision: 0.0013 - recall: 0.0093 - tn: 196541.0000 - tp: 4.0000 - val_auc: 0.5632 - val_fn: 441.0000 - val_fp: 0.0000e+00 - val_loss: 0.0195 - val_precision: 0.0000e+00 - val_recall: 0.0000e+00 - val_tn: 199559.0000 - val_tp: 0.0000e+00\n",
      "Epoch 2/500\n",
      "98/98 - 5s - 55ms/step - auc: 0.8146 - fn: 431.0000 - fp: 0.0000e+00 - loss: 2.8240 - precision: 0.0000e+00 - recall: 0.0000e+00 - tn: 199569.0000 - tp: 0.0000e+00 - val_auc: 0.8769 - val_fn: 441.0000 - val_fp: 0.0000e+00 - val_loss: 0.0144 - val_precision: 0.0000e+00 - val_recall: 0.0000e+00 - val_tn: 199559.0000 - val_tp: 0.0000e+00\n",
      "Epoch 3/500\n",
      "98/98 - 5s - 48ms/step - auc: 0.9045 - fn: 431.0000 - fp: 0.0000e+00 - loss: 2.2070 - precision: 0.0000e+00 - recall: 0.0000e+00 - tn: 199569.0000 - tp: 0.0000e+00 - val_auc: 0.9017 - val_fn: 441.0000 - val_fp: 0.0000e+00 - val_loss: 0.0125 - val_precision: 0.0000e+00 - val_recall: 0.0000e+00 - val_tn: 199559.0000 - val_tp: 0.0000e+00\n",
      "Epoch 4/500\n",
      "98/98 - 5s - 49ms/step - auc: 0.9204 - fn: 431.0000 - fp: 0.0000e+00 - loss: 1.9501 - precision: 0.0000e+00 - recall: 0.0000e+00 - tn: 199569.0000 - tp: 0.0000e+00 - val_auc: 0.9106 - val_fn: 441.0000 - val_fp: 0.0000e+00 - val_loss: 0.0114 - val_precision: 0.0000e+00 - val_recall: 0.0000e+00 - val_tn: 199559.0000 - val_tp: 0.0000e+00\n",
      "Epoch 5/500\n",
      "98/98 - 5s - 47ms/step - auc: 0.9314 - fn: 431.0000 - fp: 0.0000e+00 - loss: 1.7705 - precision: 0.0000e+00 - recall: 0.0000e+00 - tn: 199569.0000 - tp: 0.0000e+00 - val_auc: 0.9258 - val_fn: 441.0000 - val_fp: 0.0000e+00 - val_loss: 0.0104 - val_precision: 0.0000e+00 - val_recall: 0.0000e+00 - val_tn: 199559.0000 - val_tp: 0.0000e+00\n",
      "Epoch 6/500\n",
      "98/98 - 5s - 50ms/step - auc: 0.9449 - fn: 424.0000 - fp: 2.0000 - loss: 1.5954 - precision: 0.7778 - recall: 0.0162 - tn: 199567.0000 - tp: 7.0000 - val_auc: 0.9428 - val_fn: 413.0000 - val_fp: 0.0000e+00 - val_loss: 0.0094 - val_precision: 1.0000 - val_recall: 0.0635 - val_tn: 199559.0000 - val_tp: 28.0000\n",
      "Epoch 7/500\n",
      "98/98 - 5s - 50ms/step - auc: 0.9605 - fn: 395.0000 - fp: 12.0000 - loss: 1.4299 - precision: 0.7500 - recall: 0.0835 - tn: 199557.0000 - tp: 36.0000 - val_auc: 0.9596 - val_fn: 364.0000 - val_fp: 9.0000 - val_loss: 0.0085 - val_precision: 0.8953 - val_recall: 0.1746 - val_tn: 199550.0000 - val_tp: 77.0000\n",
      "Epoch 8/500\n",
      "98/98 - 5s - 53ms/step - auc: 0.9761 - fn: 354.0000 - fp: 34.0000 - loss: 1.2555 - precision: 0.6937 - recall: 0.1787 - tn: 199535.0000 - tp: 77.0000 - val_auc: 0.9771 - val_fn: 333.0000 - val_fp: 30.0000 - val_loss: 0.0076 - val_precision: 0.7826 - val_recall: 0.2449 - val_tn: 199529.0000 - val_tp: 108.0000\n",
      "Epoch 9/500\n",
      "98/98 - 5s - 50ms/step - auc: 0.9888 - fn: 307.0000 - fp: 45.0000 - loss: 1.1052 - precision: 0.7337 - recall: 0.2877 - tn: 199524.0000 - tp: 124.0000 - val_auc: 0.9855 - val_fn: 290.0000 - val_fp: 85.0000 - val_loss: 0.0070 - val_precision: 0.6398 - val_recall: 0.3424 - val_tn: 199474.0000 - val_tp: 151.0000\n",
      "Epoch 10/500\n",
      "98/98 - 5s - 51ms/step - auc: 0.9937 - fn: 293.0000 - fp: 66.0000 - loss: 1.0030 - precision: 0.6765 - recall: 0.3202 - tn: 199503.0000 - tp: 138.0000 - val_auc: 0.9892 - val_fn: 282.0000 - val_fp: 77.0000 - val_loss: 0.0062 - val_precision: 0.6737 - val_recall: 0.3605 - val_tn: 199482.0000 - val_tp: 159.0000\n",
      "Epoch 11/500\n",
      "98/98 - 5s - 52ms/step - auc: 0.9961 - fn: 247.0000 - fp: 80.0000 - loss: 0.8828 - precision: 0.6970 - recall: 0.4269 - tn: 199489.0000 - tp: 184.0000 - val_auc: 0.9900 - val_fn: 268.0000 - val_fp: 70.0000 - val_loss: 0.0057 - val_precision: 0.7119 - val_recall: 0.3923 - val_tn: 199489.0000 - val_tp: 173.0000\n",
      "Epoch 12/500\n",
      "98/98 - 5s - 52ms/step - auc: 0.9978 - fn: 228.0000 - fp: 98.0000 - loss: 0.8036 - precision: 0.6744 - recall: 0.4710 - tn: 199471.0000 - tp: 203.0000 - val_auc: 0.9917 - val_fn: 219.0000 - val_fp: 127.0000 - val_loss: 0.0056 - val_precision: 0.6361 - val_recall: 0.5034 - val_tn: 199432.0000 - val_tp: 222.0000\n",
      "Epoch 13/500\n",
      "98/98 - 5s - 53ms/step - auc: 0.9982 - fn: 211.0000 - fp: 105.0000 - loss: 0.7457 - precision: 0.6769 - recall: 0.5104 - tn: 199464.0000 - tp: 220.0000 - val_auc: 0.9932 - val_fn: 202.0000 - val_fp: 128.0000 - val_loss: 0.0051 - val_precision: 0.6512 - val_recall: 0.5420 - val_tn: 199431.0000 - val_tp: 239.0000\n",
      "Epoch 14/500\n",
      "98/98 - 5s - 53ms/step - auc: 0.9985 - fn: 191.0000 - fp: 112.0000 - loss: 0.6946 - precision: 0.6818 - recall: 0.5568 - tn: 199457.0000 - tp: 240.0000 - val_auc: 0.9935 - val_fn: 191.0000 - val_fp: 120.0000 - val_loss: 0.0048 - val_precision: 0.6757 - val_recall: 0.5669 - val_tn: 199439.0000 - val_tp: 250.0000\n",
      "Epoch 15/500\n",
      "98/98 - 5s - 51ms/step - auc: 0.9975 - fn: 172.0000 - fp: 118.0000 - loss: 0.6525 - precision: 0.6870 - recall: 0.6009 - tn: 199451.0000 - tp: 259.0000 - val_auc: 0.9937 - val_fn: 167.0000 - val_fp: 153.0000 - val_loss: 0.0047 - val_precision: 0.6417 - val_recall: 0.6213 - val_tn: 199406.0000 - val_tp: 274.0000\n",
      "Epoch 16/500\n",
      "98/98 - 5s - 54ms/step - auc: 0.9976 - fn: 161.0000 - fp: 127.0000 - loss: 0.6268 - precision: 0.6801 - recall: 0.6265 - tn: 199442.0000 - tp: 270.0000 - val_auc: 0.9939 - val_fn: 163.0000 - val_fp: 141.0000 - val_loss: 0.0045 - val_precision: 0.6635 - val_recall: 0.6304 - val_tn: 199418.0000 - val_tp: 278.0000\n",
      "Epoch 17/500\n",
      "98/98 - 5s - 52ms/step - auc: 0.9978 - fn: 149.0000 - fp: 122.0000 - loss: 0.5856 - precision: 0.6980 - recall: 0.6543 - tn: 199447.0000 - tp: 282.0000 - val_auc: 0.9940 - val_fn: 151.0000 - val_fp: 150.0000 - val_loss: 0.0044 - val_precision: 0.6591 - val_recall: 0.6576 - val_tn: 199409.0000 - val_tp: 290.0000\n",
      "Epoch 18/500\n",
      "98/98 - 5s - 51ms/step - auc: 0.9979 - fn: 132.0000 - fp: 131.0000 - loss: 0.5595 - precision: 0.6953 - recall: 0.6937 - tn: 199438.0000 - tp: 299.0000 - val_auc: 0.9941 - val_fn: 132.0000 - val_fp: 184.0000 - val_loss: 0.0044 - val_precision: 0.6268 - val_recall: 0.7007 - val_tn: 199375.0000 - val_tp: 309.0000\n",
      "Epoch 19/500\n",
      "98/98 - 5s - 55ms/step - auc: 0.9991 - fn: 130.0000 - fp: 146.0000 - loss: 0.5464 - precision: 0.6734 - recall: 0.6984 - tn: 199423.0000 - tp: 301.0000 - val_auc: 0.9943 - val_fn: 134.0000 - val_fp: 164.0000 - val_loss: 0.0041 - val_precision: 0.6518 - val_recall: 0.6961 - val_tn: 199395.0000 - val_tp: 307.0000\n",
      "Epoch 20/500\n",
      "98/98 - 5s - 52ms/step - auc: 0.9992 - fn: 121.0000 - fp: 132.0000 - loss: 0.5109 - precision: 0.7014 - recall: 0.7193 - tn: 199437.0000 - tp: 310.0000 - val_auc: 0.9943 - val_fn: 128.0000 - val_fp: 155.0000 - val_loss: 0.0040 - val_precision: 0.6688 - val_recall: 0.7098 - val_tn: 199404.0000 - val_tp: 313.0000\n",
      "Epoch 21/500\n",
      "98/98 - 5s - 54ms/step - auc: 0.9982 - fn: 117.0000 - fp: 125.0000 - loss: 0.4920 - precision: 0.7153 - recall: 0.7285 - tn: 199444.0000 - tp: 314.0000 - val_auc: 0.9944 - val_fn: 108.0000 - val_fp: 211.0000 - val_loss: 0.0042 - val_precision: 0.6121 - val_recall: 0.7551 - val_tn: 199348.0000 - val_tp: 333.0000\n",
      "Epoch 22/500\n",
      "98/98 - 5s - 55ms/step - auc: 0.9981 - fn: 109.0000 - fp: 139.0000 - loss: 0.4961 - precision: 0.6985 - recall: 0.7471 - tn: 199430.0000 - tp: 322.0000 - val_auc: 0.9945 - val_fn: 129.0000 - val_fp: 146.0000 - val_loss: 0.0037 - val_precision: 0.6812 - val_recall: 0.7075 - val_tn: 199413.0000 - val_tp: 312.0000\n",
      "Epoch 23/500\n",
      "98/98 - 5s - 55ms/step - auc: 0.9994 - fn: 107.0000 - fp: 130.0000 - loss: 0.4628 - precision: 0.7137 - recall: 0.7517 - tn: 199439.0000 - tp: 324.0000 - val_auc: 0.9945 - val_fn: 92.0000 - val_fp: 272.0000 - val_loss: 0.0043 - val_precision: 0.5620 - val_recall: 0.7914 - val_tn: 199287.0000 - val_tp: 349.0000\n",
      "Epoch 24/500\n",
      "98/98 - 5s - 54ms/step - auc: 0.9982 - fn: 104.0000 - fp: 139.0000 - loss: 0.4660 - precision: 0.7017 - recall: 0.7587 - tn: 199430.0000 - tp: 327.0000 - val_auc: 0.9945 - val_fn: 112.0000 - val_fp: 175.0000 - val_loss: 0.0037 - val_precision: 0.6528 - val_recall: 0.7460 - val_tn: 199384.0000 - val_tp: 329.0000\n",
      "Epoch 25/500\n",
      "98/98 - 6s - 56ms/step - auc: 0.9994 - fn: 101.0000 - fp: 136.0000 - loss: 0.4549 - precision: 0.7082 - recall: 0.7657 - tn: 199433.0000 - tp: 330.0000 - val_auc: 0.9946 - val_fn: 106.0000 - val_fp: 179.0000 - val_loss: 0.0038 - val_precision: 0.6518 - val_recall: 0.7596 - val_tn: 199380.0000 - val_tp: 335.0000\n",
      "Epoch 26/500\n",
      "98/98 - 5s - 56ms/step - auc: 0.9983 - fn: 88.0000 - fp: 141.0000 - loss: 0.4344 - precision: 0.7087 - recall: 0.7958 - tn: 199428.0000 - tp: 343.0000 - val_auc: 0.9946 - val_fn: 92.0000 - val_fp: 233.0000 - val_loss: 0.0039 - val_precision: 0.5997 - val_recall: 0.7914 - val_tn: 199326.0000 - val_tp: 349.0000\n",
      "Epoch 27/500\n",
      "98/98 - 5s - 54ms/step - auc: 0.9995 - fn: 97.0000 - fp: 139.0000 - loss: 0.4255 - precision: 0.7061 - recall: 0.7749 - tn: 199430.0000 - tp: 334.0000 - val_auc: 0.9946 - val_fn: 83.0000 - val_fp: 260.0000 - val_loss: 0.0041 - val_precision: 0.5793 - val_recall: 0.8118 - val_tn: 199299.0000 - val_tp: 358.0000\n",
      "Epoch 28/500\n",
      "98/98 - 5s - 52ms/step - auc: 0.9995 - fn: 89.0000 - fp: 141.0000 - loss: 0.4115 - precision: 0.7081 - recall: 0.7935 - tn: 199428.0000 - tp: 342.0000 - val_auc: 0.9947 - val_fn: 96.0000 - val_fp: 200.0000 - val_loss: 0.0037 - val_precision: 0.6330 - val_recall: 0.7823 - val_tn: 199359.0000 - val_tp: 345.0000\n",
      "Epoch 29/500\n",
      "98/98 - 5s - 54ms/step - auc: 0.9996 - fn: 82.0000 - fp: 132.0000 - loss: 0.3865 - precision: 0.7256 - recall: 0.8097 - tn: 199437.0000 - tp: 349.0000 - val_auc: 0.9947 - val_fn: 84.0000 - val_fp: 241.0000 - val_loss: 0.0039 - val_precision: 0.5970 - val_recall: 0.8095 - val_tn: 199318.0000 - val_tp: 357.0000\n",
      "Epoch 30/500\n",
      "98/98 - 5s - 53ms/step - auc: 0.9995 - fn: 82.0000 - fp: 137.0000 - loss: 0.3970 - precision: 0.7181 - recall: 0.8097 - tn: 199432.0000 - tp: 349.0000 - val_auc: 0.9935 - val_fn: 81.0000 - val_fp: 251.0000 - val_loss: 0.0039 - val_precision: 0.5892 - val_recall: 0.8163 - val_tn: 199308.0000 - val_tp: 360.0000\n",
      "Epoch 31/500\n",
      "98/98 - 5s - 54ms/step - auc: 0.9995 - fn: 85.0000 - fp: 133.0000 - loss: 0.3946 - precision: 0.7223 - recall: 0.8028 - tn: 199436.0000 - tp: 346.0000 - val_auc: 0.9947 - val_fn: 90.0000 - val_fp: 214.0000 - val_loss: 0.0037 - val_precision: 0.6212 - val_recall: 0.7959 - val_tn: 199345.0000 - val_tp: 351.0000\n",
      "Epoch 32/500\n",
      "98/98 - 5s - 52ms/step - auc: 0.9996 - fn: 80.0000 - fp: 152.0000 - loss: 0.3840 - precision: 0.6978 - recall: 0.8144 - tn: 199417.0000 - tp: 351.0000 - val_auc: 0.9936 - val_fn: 94.0000 - val_fp: 191.0000 - val_loss: 0.0035 - val_precision: 0.6450 - val_recall: 0.7868 - val_tn: 199368.0000 - val_tp: 347.0000\n",
      "Epoch 33/500\n",
      "98/98 - 5s - 53ms/step - auc: 0.9996 - fn: 76.0000 - fp: 131.0000 - loss: 0.3647 - precision: 0.7305 - recall: 0.8237 - tn: 199438.0000 - tp: 355.0000 - val_auc: 0.9948 - val_fn: 83.0000 - val_fp: 214.0000 - val_loss: 0.0036 - val_precision: 0.6259 - val_recall: 0.8118 - val_tn: 199345.0000 - val_tp: 358.0000\n",
      "Epoch 34/500\n",
      "98/98 - 5s - 51ms/step - auc: 0.9996 - fn: 72.0000 - fp: 134.0000 - loss: 0.3558 - precision: 0.7282 - recall: 0.8329 - tn: 199435.0000 - tp: 359.0000 - val_auc: 0.9936 - val_fn: 80.0000 - val_fp: 223.0000 - val_loss: 0.0036 - val_precision: 0.6182 - val_recall: 0.8186 - val_tn: 199336.0000 - val_tp: 361.0000\n",
      "Epoch 35/500\n",
      "98/98 - 5s - 51ms/step - auc: 0.9996 - fn: 71.0000 - fp: 130.0000 - loss: 0.3558 - precision: 0.7347 - recall: 0.8353 - tn: 199439.0000 - tp: 360.0000 - val_auc: 0.9948 - val_fn: 54.0000 - val_fp: 312.0000 - val_loss: 0.0042 - val_precision: 0.5536 - val_recall: 0.8776 - val_tn: 199247.0000 - val_tp: 387.0000\n",
      "Epoch 36/500\n",
      "98/98 - 5s - 52ms/step - auc: 0.9996 - fn: 69.0000 - fp: 134.0000 - loss: 0.3625 - precision: 0.7298 - recall: 0.8399 - tn: 199435.0000 - tp: 362.0000 - val_auc: 0.9937 - val_fn: 73.0000 - val_fp: 243.0000 - val_loss: 0.0037 - val_precision: 0.6023 - val_recall: 0.8345 - val_tn: 199316.0000 - val_tp: 368.0000\n",
      "Epoch 37/500\n",
      "98/98 - 5s - 54ms/step - auc: 0.9997 - fn: 70.0000 - fp: 121.0000 - loss: 0.3439 - precision: 0.7490 - recall: 0.8376 - tn: 199448.0000 - tp: 361.0000 - val_auc: 0.9937 - val_fn: 82.0000 - val_fp: 209.0000 - val_loss: 0.0035 - val_precision: 0.6320 - val_recall: 0.8141 - val_tn: 199350.0000 - val_tp: 359.0000\n",
      "Epoch 38/500\n",
      "98/98 - 5s - 53ms/step - auc: 0.9997 - fn: 68.0000 - fp: 122.0000 - loss: 0.3380 - precision: 0.7485 - recall: 0.8422 - tn: 199447.0000 - tp: 363.0000 - val_auc: 0.9937 - val_fn: 80.0000 - val_fp: 221.0000 - val_loss: 0.0035 - val_precision: 0.6203 - val_recall: 0.8186 - val_tn: 199338.0000 - val_tp: 361.0000\n",
      "Epoch 39/500\n",
      "98/98 - 5s - 52ms/step - auc: 0.9997 - fn: 64.0000 - fp: 119.0000 - loss: 0.3373 - precision: 0.7551 - recall: 0.8515 - tn: 199450.0000 - tp: 367.0000 - val_auc: 0.9937 - val_fn: 67.0000 - val_fp: 269.0000 - val_loss: 0.0038 - val_precision: 0.5816 - val_recall: 0.8481 - val_tn: 199290.0000 - val_tp: 374.0000\n",
      "Epoch 40/500\n",
      "98/98 - 5s - 50ms/step - auc: 0.9997 - fn: 67.0000 - fp: 122.0000 - loss: 0.3308 - precision: 0.7490 - recall: 0.8445 - tn: 199447.0000 - tp: 364.0000 - val_auc: 0.9937 - val_fn: 53.0000 - val_fp: 336.0000 - val_loss: 0.0043 - val_precision: 0.5359 - val_recall: 0.8798 - val_tn: 199223.0000 - val_tp: 388.0000\n",
      "Epoch 41/500\n",
      "98/98 - 5s - 49ms/step - auc: 0.9997 - fn: 61.0000 - fp: 122.0000 - loss: 0.3159 - precision: 0.7520 - recall: 0.8585 - tn: 199447.0000 - tp: 370.0000 - val_auc: 0.9926 - val_fn: 72.0000 - val_fp: 247.0000 - val_loss: 0.0037 - val_precision: 0.5990 - val_recall: 0.8367 - val_tn: 199312.0000 - val_tp: 369.0000\n",
      "Epoch 42/500\n",
      "98/98 - 5s - 48ms/step - auc: 0.9997 - fn: 71.0000 - fp: 122.0000 - loss: 0.3248 - precision: 0.7469 - recall: 0.8353 - tn: 199447.0000 - tp: 360.0000 - val_auc: 0.9937 - val_fn: 65.0000 - val_fp: 261.0000 - val_loss: 0.0038 - val_precision: 0.5903 - val_recall: 0.8526 - val_tn: 199298.0000 - val_tp: 376.0000\n",
      "Epoch 43/500\n",
      "98/98 - 5s - 48ms/step - auc: 0.9997 - fn: 58.0000 - fp: 117.0000 - loss: 0.3045 - precision: 0.7612 - recall: 0.8654 - tn: 199452.0000 - tp: 373.0000 - val_auc: 0.9926 - val_fn: 69.0000 - val_fp: 230.0000 - val_loss: 0.0035 - val_precision: 0.6179 - val_recall: 0.8435 - val_tn: 199329.0000 - val_tp: 372.0000\n",
      "Epoch 44/500\n",
      "98/98 - 5s - 50ms/step - auc: 0.9997 - fn: 62.0000 - fp: 119.0000 - loss: 0.3116 - precision: 0.7561 - recall: 0.8561 - tn: 199450.0000 - tp: 369.0000 - val_auc: 0.9937 - val_fn: 67.0000 - val_fp: 242.0000 - val_loss: 0.0037 - val_precision: 0.6071 - val_recall: 0.8481 - val_tn: 199317.0000 - val_tp: 374.0000\n",
      "Epoch 45/500\n",
      "98/98 - 5s - 52ms/step - auc: 0.9997 - fn: 61.0000 - fp: 125.0000 - loss: 0.3080 - precision: 0.7475 - recall: 0.8585 - tn: 199444.0000 - tp: 370.0000 - val_auc: 0.9926 - val_fn: 79.0000 - val_fp: 171.0000 - val_loss: 0.0031 - val_precision: 0.6792 - val_recall: 0.8209 - val_tn: 199388.0000 - val_tp: 362.0000\n",
      "Epoch 46/500\n",
      "98/98 - 5s - 50ms/step - auc: 0.9997 - fn: 62.0000 - fp: 115.0000 - loss: 0.3064 - precision: 0.7624 - recall: 0.8561 - tn: 199454.0000 - tp: 369.0000 - val_auc: 0.9915 - val_fn: 82.0000 - val_fp: 185.0000 - val_loss: 0.0032 - val_precision: 0.6599 - val_recall: 0.8141 - val_tn: 199374.0000 - val_tp: 359.0000\n",
      "Epoch 47/500\n",
      "98/98 - 5s - 49ms/step - auc: 0.9998 - fn: 52.0000 - fp: 114.0000 - loss: 0.2875 - precision: 0.7688 - recall: 0.8794 - tn: 199455.0000 - tp: 379.0000 - val_auc: 0.9915 - val_fn: 81.0000 - val_fp: 163.0000 - val_loss: 0.0031 - val_precision: 0.6883 - val_recall: 0.8163 - val_tn: 199396.0000 - val_tp: 360.0000\n",
      "Epoch 48/500\n",
      "98/98 - 5s - 48ms/step - auc: 0.9998 - fn: 51.0000 - fp: 122.0000 - loss: 0.2834 - precision: 0.7570 - recall: 0.8817 - tn: 199447.0000 - tp: 380.0000 - val_auc: 0.9915 - val_fn: 68.0000 - val_fp: 214.0000 - val_loss: 0.0034 - val_precision: 0.6354 - val_recall: 0.8458 - val_tn: 199345.0000 - val_tp: 373.0000\n",
      "Epoch 49/500\n",
      "98/98 - 5s - 49ms/step - auc: 0.9997 - fn: 59.0000 - fp: 112.0000 - loss: 0.3026 - precision: 0.7686 - recall: 0.8631 - tn: 199457.0000 - tp: 372.0000 - val_auc: 0.9926 - val_fn: 59.0000 - val_fp: 257.0000 - val_loss: 0.0037 - val_precision: 0.5978 - val_recall: 0.8662 - val_tn: 199302.0000 - val_tp: 382.0000\n",
      "Epoch 50/500\n",
      "98/98 - 5s - 52ms/step - auc: 0.9997 - fn: 54.0000 - fp: 115.0000 - loss: 0.2933 - precision: 0.7663 - recall: 0.8747 - tn: 199454.0000 - tp: 377.0000 - val_auc: 0.9927 - val_fn: 67.0000 - val_fp: 225.0000 - val_loss: 0.0034 - val_precision: 0.6244 - val_recall: 0.8481 - val_tn: 199334.0000 - val_tp: 374.0000\n",
      "Epoch 51/500\n",
      "98/98 - 5s - 52ms/step - auc: 0.9997 - fn: 59.0000 - fp: 115.0000 - loss: 0.2919 - precision: 0.7639 - recall: 0.8631 - tn: 199454.0000 - tp: 372.0000 - val_auc: 0.9916 - val_fn: 82.0000 - val_fp: 177.0000 - val_loss: 0.0031 - val_precision: 0.6698 - val_recall: 0.8141 - val_tn: 199382.0000 - val_tp: 359.0000\n",
      "Epoch 52/500\n",
      "98/98 - 5s - 53ms/step - auc: 0.9998 - fn: 49.0000 - fp: 109.0000 - loss: 0.2786 - precision: 0.7780 - recall: 0.8863 - tn: 199460.0000 - tp: 382.0000 - val_auc: 0.9915 - val_fn: 67.0000 - val_fp: 219.0000 - val_loss: 0.0034 - val_precision: 0.6307 - val_recall: 0.8481 - val_tn: 199340.0000 - val_tp: 374.0000\n",
      "Epoch 53/500\n",
      "98/98 - 5s - 52ms/step - auc: 0.9998 - fn: 53.0000 - fp: 114.0000 - loss: 0.2780 - precision: 0.7683 - recall: 0.8770 - tn: 199455.0000 - tp: 378.0000 - val_auc: 0.9916 - val_fn: 68.0000 - val_fp: 206.0000 - val_loss: 0.0033 - val_precision: 0.6442 - val_recall: 0.8458 - val_tn: 199353.0000 - val_tp: 373.0000\n",
      "Epoch 54/500\n",
      "98/98 - 5s - 52ms/step - auc: 0.9998 - fn: 48.0000 - fp: 115.0000 - loss: 0.2762 - precision: 0.7691 - recall: 0.8886 - tn: 199454.0000 - tp: 383.0000 - val_auc: 0.9938 - val_fn: 52.0000 - val_fp: 280.0000 - val_loss: 0.0039 - val_precision: 0.5815 - val_recall: 0.8821 - val_tn: 199279.0000 - val_tp: 389.0000\n",
      "Epoch 55/500\n",
      "98/98 - 5s - 50ms/step - auc: 0.9998 - fn: 50.0000 - fp: 113.0000 - loss: 0.2804 - precision: 0.7713 - recall: 0.8840 - tn: 199456.0000 - tp: 381.0000 - val_auc: 0.9916 - val_fn: 62.0000 - val_fp: 234.0000 - val_loss: 0.0036 - val_precision: 0.6183 - val_recall: 0.8594 - val_tn: 199325.0000 - val_tp: 379.0000\n",
      "Epoch 56/500\n",
      "98/98 - 5s - 51ms/step - auc: 0.9998 - fn: 52.0000 - fp: 125.0000 - loss: 0.2768 - precision: 0.7520 - recall: 0.8794 - tn: 199444.0000 - tp: 379.0000 - val_auc: 0.9904 - val_fn: 77.0000 - val_fp: 164.0000 - val_loss: 0.0031 - val_precision: 0.6894 - val_recall: 0.8254 - val_tn: 199395.0000 - val_tp: 364.0000\n",
      "Epoch 57/500\n",
      "98/98 - 5s - 49ms/step - auc: 0.9998 - fn: 50.0000 - fp: 105.0000 - loss: 0.2670 - precision: 0.7840 - recall: 0.8840 - tn: 199464.0000 - tp: 381.0000 - val_auc: 0.9893 - val_fn: 78.0000 - val_fp: 179.0000 - val_loss: 0.0032 - val_precision: 0.6697 - val_recall: 0.8231 - val_tn: 199380.0000 - val_tp: 363.0000\n",
      "Epoch 58/500\n",
      "98/98 - 5s - 49ms/step - auc: 0.9998 - fn: 49.0000 - fp: 99.0000 - loss: 0.2619 - precision: 0.7942 - recall: 0.8863 - tn: 199470.0000 - tp: 382.0000 - val_auc: 0.9904 - val_fn: 74.0000 - val_fp: 192.0000 - val_loss: 0.0033 - val_precision: 0.6565 - val_recall: 0.8322 - val_tn: 199367.0000 - val_tp: 367.0000\n",
      "Epoch 59/500\n",
      "98/98 - 5s - 54ms/step - auc: 0.9998 - fn: 55.0000 - fp: 117.0000 - loss: 0.2735 - precision: 0.7627 - recall: 0.8724 - tn: 199452.0000 - tp: 376.0000 - val_auc: 0.9904 - val_fn: 67.0000 - val_fp: 210.0000 - val_loss: 0.0033 - val_precision: 0.6404 - val_recall: 0.8481 - val_tn: 199349.0000 - val_tp: 374.0000\n",
      "Epoch 60/500\n",
      "98/98 - 5s - 48ms/step - auc: 0.9998 - fn: 51.0000 - fp: 115.0000 - loss: 0.2617 - precision: 0.7677 - recall: 0.8817 - tn: 199454.0000 - tp: 380.0000 - val_auc: 0.9904 - val_fn: 64.0000 - val_fp: 243.0000 - val_loss: 0.0036 - val_precision: 0.6081 - val_recall: 0.8549 - val_tn: 199316.0000 - val_tp: 377.0000\n",
      "Epoch 61/500\n",
      "98/98 - 5s - 49ms/step - auc: 0.9998 - fn: 52.0000 - fp: 114.0000 - loss: 0.2688 - precision: 0.7688 - recall: 0.8794 - tn: 199455.0000 - tp: 379.0000 - val_auc: 0.9905 - val_fn: 64.0000 - val_fp: 207.0000 - val_loss: 0.0033 - val_precision: 0.6455 - val_recall: 0.8549 - val_tn: 199352.0000 - val_tp: 377.0000\n",
      "Epoch 62/500\n",
      "98/98 - 5s - 47ms/step - auc: 0.9998 - fn: 47.0000 - fp: 105.0000 - loss: 0.2584 - precision: 0.7853 - recall: 0.8910 - tn: 199464.0000 - tp: 384.0000 - val_auc: 0.9905 - val_fn: 67.0000 - val_fp: 188.0000 - val_loss: 0.0032 - val_precision: 0.6655 - val_recall: 0.8481 - val_tn: 199371.0000 - val_tp: 374.0000\n",
      "Epoch 63/500\n",
      "98/98 - 5s - 48ms/step - auc: 0.9998 - fn: 46.0000 - fp: 109.0000 - loss: 0.2604 - precision: 0.7794 - recall: 0.8933 - tn: 199460.0000 - tp: 385.0000 - val_auc: 0.9904 - val_fn: 58.0000 - val_fp: 229.0000 - val_loss: 0.0035 - val_precision: 0.6258 - val_recall: 0.8685 - val_tn: 199330.0000 - val_tp: 383.0000\n",
      "Epoch 64/500\n",
      "98/98 - 5s - 48ms/step - auc: 0.9998 - fn: 47.0000 - fp: 102.0000 - loss: 0.2499 - precision: 0.7901 - recall: 0.8910 - tn: 199467.0000 - tp: 384.0000 - val_auc: 0.9904 - val_fn: 71.0000 - val_fp: 180.0000 - val_loss: 0.0033 - val_precision: 0.6727 - val_recall: 0.8390 - val_tn: 199379.0000 - val_tp: 370.0000\n",
      "Epoch 65/500\n",
      "98/98 - 5s - 49ms/step - auc: 0.9998 - fn: 45.0000 - fp: 101.0000 - loss: 0.2397 - precision: 0.7926 - recall: 0.8956 - tn: 199468.0000 - tp: 386.0000 - val_auc: 0.9905 - val_fn: 73.0000 - val_fp: 154.0000 - val_loss: 0.0030 - val_precision: 0.7050 - val_recall: 0.8345 - val_tn: 199405.0000 - val_tp: 368.0000\n",
      "Epoch 66/500\n",
      "98/98 - 5s - 51ms/step - auc: 0.9998 - fn: 42.0000 - fp: 111.0000 - loss: 0.2503 - precision: 0.7780 - recall: 0.9026 - tn: 199458.0000 - tp: 389.0000 - val_auc: 0.9905 - val_fn: 64.0000 - val_fp: 219.0000 - val_loss: 0.0034 - val_precision: 0.6326 - val_recall: 0.8549 - val_tn: 199340.0000 - val_tp: 377.0000\n",
      "Epoch 67/500\n",
      "98/98 - 5s - 51ms/step - auc: 0.9998 - fn: 48.0000 - fp: 104.0000 - loss: 0.2592 - precision: 0.7864 - recall: 0.8886 - tn: 199465.0000 - tp: 383.0000 - val_auc: 0.9905 - val_fn: 55.0000 - val_fp: 243.0000 - val_loss: 0.0036 - val_precision: 0.6137 - val_recall: 0.8753 - val_tn: 199316.0000 - val_tp: 386.0000\n",
      "Epoch 68/500\n",
      "98/98 - 5s - 47ms/step - auc: 0.9998 - fn: 45.0000 - fp: 106.0000 - loss: 0.2450 - precision: 0.7846 - recall: 0.8956 - tn: 199463.0000 - tp: 386.0000 - val_auc: 0.9894 - val_fn: 68.0000 - val_fp: 177.0000 - val_loss: 0.0032 - val_precision: 0.6782 - val_recall: 0.8458 - val_tn: 199382.0000 - val_tp: 373.0000\n",
      "Epoch 69/500\n",
      "98/98 - 5s - 49ms/step - auc: 0.9998 - fn: 39.0000 - fp: 102.0000 - loss: 0.2375 - precision: 0.7935 - recall: 0.9095 - tn: 199467.0000 - tp: 392.0000 - val_auc: 0.9905 - val_fn: 56.0000 - val_fp: 222.0000 - val_loss: 0.0034 - val_precision: 0.6343 - val_recall: 0.8730 - val_tn: 199337.0000 - val_tp: 385.0000\n",
      "Epoch 70/500\n",
      "98/98 - 5s - 51ms/step - auc: 0.9998 - fn: 42.0000 - fp: 109.0000 - loss: 0.2452 - precision: 0.7811 - recall: 0.9026 - tn: 199460.0000 - tp: 389.0000 - val_auc: 0.9905 - val_fn: 54.0000 - val_fp: 220.0000 - val_loss: 0.0034 - val_precision: 0.6376 - val_recall: 0.8776 - val_tn: 199339.0000 - val_tp: 387.0000\n",
      "Epoch 71/500\n",
      "98/98 - 5s - 50ms/step - auc: 0.9998 - fn: 41.0000 - fp: 110.0000 - loss: 0.2489 - precision: 0.7800 - recall: 0.9049 - tn: 199459.0000 - tp: 390.0000 - val_auc: 0.9882 - val_fn: 80.0000 - val_fp: 155.0000 - val_loss: 0.0032 - val_precision: 0.6996 - val_recall: 0.8186 - val_tn: 199404.0000 - val_tp: 361.0000\n",
      "Epoch 72/500\n",
      "98/98 - 5s - 51ms/step - auc: 0.9998 - fn: 43.0000 - fp: 109.0000 - loss: 0.2481 - precision: 0.7807 - recall: 0.9002 - tn: 199460.0000 - tp: 388.0000 - val_auc: 0.9905 - val_fn: 67.0000 - val_fp: 183.0000 - val_loss: 0.0033 - val_precision: 0.6715 - val_recall: 0.8481 - val_tn: 199376.0000 - val_tp: 374.0000\n",
      "Epoch 73/500\n",
      "98/98 - 5s - 48ms/step - auc: 0.9998 - fn: 42.0000 - fp: 104.0000 - loss: 0.2566 - precision: 0.7890 - recall: 0.9026 - tn: 199465.0000 - tp: 389.0000 - val_auc: 0.9905 - val_fn: 71.0000 - val_fp: 174.0000 - val_loss: 0.0032 - val_precision: 0.6801 - val_recall: 0.8390 - val_tn: 199385.0000 - val_tp: 370.0000\n",
      "Epoch 74/500\n",
      "98/98 - 5s - 48ms/step - auc: 0.9998 - fn: 43.0000 - fp: 107.0000 - loss: 0.2441 - precision: 0.7838 - recall: 0.9002 - tn: 199462.0000 - tp: 388.0000 - val_auc: 0.9894 - val_fn: 69.0000 - val_fp: 169.0000 - val_loss: 0.0032 - val_precision: 0.6876 - val_recall: 0.8435 - val_tn: 199390.0000 - val_tp: 372.0000\n",
      "Epoch 75/500\n",
      "98/98 - 5s - 49ms/step - auc: 0.9998 - fn: 37.0000 - fp: 102.0000 - loss: 0.2335 - precision: 0.7944 - recall: 0.9142 - tn: 199467.0000 - tp: 394.0000 - val_auc: 0.9882 - val_fn: 84.0000 - val_fp: 128.0000 - val_loss: 0.0030 - val_precision: 0.7361 - val_recall: 0.8095 - val_tn: 199431.0000 - val_tp: 357.0000\n",
      "Epoch 76/500\n",
      "98/98 - 5s - 55ms/step - auc: 0.9998 - fn: 44.0000 - fp: 110.0000 - loss: 0.2424 - precision: 0.7787 - recall: 0.8979 - tn: 199459.0000 - tp: 387.0000 - val_auc: 0.9894 - val_fn: 71.0000 - val_fp: 170.0000 - val_loss: 0.0032 - val_precision: 0.6852 - val_recall: 0.8390 - val_tn: 199389.0000 - val_tp: 370.0000\n",
      "Epoch 77/500\n",
      "98/98 - 5s - 54ms/step - auc: 0.9998 - fn: 37.0000 - fp: 94.0000 - loss: 0.2267 - precision: 0.8074 - recall: 0.9142 - tn: 199475.0000 - tp: 394.0000 - val_auc: 0.9894 - val_fn: 66.0000 - val_fp: 185.0000 - val_loss: 0.0032 - val_precision: 0.6696 - val_recall: 0.8503 - val_tn: 199374.0000 - val_tp: 375.0000\n",
      "Epoch 78/500\n",
      "98/98 - 5s - 55ms/step - auc: 0.9998 - fn: 40.0000 - fp: 104.0000 - loss: 0.2345 - precision: 0.7899 - recall: 0.9072 - tn: 199465.0000 - tp: 391.0000 - val_auc: 0.9905 - val_fn: 63.0000 - val_fp: 176.0000 - val_loss: 0.0032 - val_precision: 0.6823 - val_recall: 0.8571 - val_tn: 199383.0000 - val_tp: 378.0000\n",
      "Epoch 79/500\n",
      "98/98 - 5s - 52ms/step - auc: 0.9998 - fn: 41.0000 - fp: 106.0000 - loss: 0.2462 - precision: 0.7863 - recall: 0.9049 - tn: 199463.0000 - tp: 390.0000 - val_auc: 0.9894 - val_fn: 74.0000 - val_fp: 168.0000 - val_loss: 0.0032 - val_precision: 0.6860 - val_recall: 0.8322 - val_tn: 199391.0000 - val_tp: 367.0000\n",
      "Epoch 80/500\n",
      "98/98 - 5s - 52ms/step - auc: 0.9998 - fn: 32.0000 - fp: 101.0000 - loss: 0.2273 - precision: 0.7980 - recall: 0.9258 - tn: 199468.0000 - tp: 399.0000 - val_auc: 0.9860 - val_fn: 95.0000 - val_fp: 108.0000 - val_loss: 0.0029 - val_precision: 0.7621 - val_recall: 0.7846 - val_tn: 199451.0000 - val_tp: 346.0000\n",
      "Epoch 81/500\n",
      "98/98 - 5s - 53ms/step - auc: 0.9998 - fn: 39.0000 - fp: 104.0000 - loss: 0.2364 - precision: 0.7903 - recall: 0.9095 - tn: 199465.0000 - tp: 392.0000 - val_auc: 0.9882 - val_fn: 70.0000 - val_fp: 171.0000 - val_loss: 0.0032 - val_precision: 0.6845 - val_recall: 0.8413 - val_tn: 199388.0000 - val_tp: 371.0000\n",
      "Epoch 82/500\n",
      "98/98 - 5s - 52ms/step - auc: 0.9998 - fn: 40.0000 - fp: 109.0000 - loss: 0.2341 - precision: 0.7820 - recall: 0.9072 - tn: 199460.0000 - tp: 391.0000 - val_auc: 0.9894 - val_fn: 67.0000 - val_fp: 178.0000 - val_loss: 0.0032 - val_precision: 0.6775 - val_recall: 0.8481 - val_tn: 199381.0000 - val_tp: 374.0000\n",
      "Epoch 83/500\n",
      "98/98 - 5s - 52ms/step - auc: 0.9998 - fn: 38.0000 - fp: 93.0000 - loss: 0.2233 - precision: 0.8086 - recall: 0.9118 - tn: 199476.0000 - tp: 393.0000 - val_auc: 0.9894 - val_fn: 63.0000 - val_fp: 166.0000 - val_loss: 0.0031 - val_precision: 0.6949 - val_recall: 0.8571 - val_tn: 199393.0000 - val_tp: 378.0000\n",
      "Epoch 84/500\n",
      "98/98 - 5s - 52ms/step - auc: 0.9999 - fn: 37.0000 - fp: 93.0000 - loss: 0.2171 - precision: 0.8090 - recall: 0.9142 - tn: 199476.0000 - tp: 394.0000 - val_auc: 0.9883 - val_fn: 97.0000 - val_fp: 108.0000 - val_loss: 0.0029 - val_precision: 0.7611 - val_recall: 0.7800 - val_tn: 199451.0000 - val_tp: 344.0000\n",
      "Epoch 85/500\n",
      "98/98 - 5s - 50ms/step - auc: 0.9999 - fn: 36.0000 - fp: 88.0000 - loss: 0.2182 - precision: 0.8178 - recall: 0.9165 - tn: 199481.0000 - tp: 395.0000 - val_auc: 0.9905 - val_fn: 56.0000 - val_fp: 206.0000 - val_loss: 0.0034 - val_precision: 0.6514 - val_recall: 0.8730 - val_tn: 199353.0000 - val_tp: 385.0000\n",
      "Epoch 86/500\n",
      "98/98 - 5s - 50ms/step - auc: 0.9998 - fn: 36.0000 - fp: 106.0000 - loss: 0.2230 - precision: 0.7884 - recall: 0.9165 - tn: 199463.0000 - tp: 395.0000 - val_auc: 0.9883 - val_fn: 93.0000 - val_fp: 126.0000 - val_loss: 0.0029 - val_precision: 0.7342 - val_recall: 0.7891 - val_tn: 199433.0000 - val_tp: 348.0000\n",
      "Epoch 87/500\n",
      "98/98 - 5s - 50ms/step - auc: 0.9999 - fn: 35.0000 - fp: 94.0000 - loss: 0.2041 - precision: 0.8082 - recall: 0.9188 - tn: 199475.0000 - tp: 396.0000 - val_auc: 0.9871 - val_fn: 80.0000 - val_fp: 140.0000 - val_loss: 0.0031 - val_precision: 0.7206 - val_recall: 0.8186 - val_tn: 199419.0000 - val_tp: 361.0000\n",
      "Epoch 88/500\n",
      "98/98 - 5s - 49ms/step - auc: 0.9998 - fn: 40.0000 - fp: 107.0000 - loss: 0.2368 - precision: 0.7851 - recall: 0.9072 - tn: 199462.0000 - tp: 391.0000 - val_auc: 0.9905 - val_fn: 61.0000 - val_fp: 193.0000 - val_loss: 0.0033 - val_precision: 0.6632 - val_recall: 0.8617 - val_tn: 199366.0000 - val_tp: 380.0000\n",
      "Epoch 89/500\n",
      "98/98 - 5s - 50ms/step - auc: 0.9998 - fn: 42.0000 - fp: 98.0000 - loss: 0.2210 - precision: 0.7988 - recall: 0.9026 - tn: 199471.0000 - tp: 389.0000 - val_auc: 0.9894 - val_fn: 57.0000 - val_fp: 188.0000 - val_loss: 0.0033 - val_precision: 0.6713 - val_recall: 0.8707 - val_tn: 199371.0000 - val_tp: 384.0000\n",
      "Epoch 90/500\n",
      "98/98 - 5s - 49ms/step - auc: 0.9998 - fn: 40.0000 - fp: 108.0000 - loss: 0.2286 - precision: 0.7836 - recall: 0.9072 - tn: 199461.0000 - tp: 391.0000 - val_auc: 0.9894 - val_fn: 70.0000 - val_fp: 176.0000 - val_loss: 0.0033 - val_precision: 0.6782 - val_recall: 0.8413 - val_tn: 199383.0000 - val_tp: 371.0000\n",
      "Epoch 91/500\n",
      "98/98 - 5s - 50ms/step - auc: 0.9998 - fn: 43.0000 - fp: 102.0000 - loss: 0.2290 - precision: 0.7918 - recall: 0.9002 - tn: 199467.0000 - tp: 388.0000 - val_auc: 0.9894 - val_fn: 45.0000 - val_fp: 236.0000 - val_loss: 0.0037 - val_precision: 0.6266 - val_recall: 0.8980 - val_tn: 199323.0000 - val_tp: 396.0000\n",
      "Epoch 92/500\n",
      "98/98 - 5s - 49ms/step - auc: 0.9998 - fn: 30.0000 - fp: 112.0000 - loss: 0.2297 - precision: 0.7817 - recall: 0.9304 - tn: 199457.0000 - tp: 401.0000 - val_auc: 0.9815 - val_fn: 101.0000 - val_fp: 103.0000 - val_loss: 0.0030 - val_precision: 0.7675 - val_recall: 0.7710 - val_tn: 199456.0000 - val_tp: 340.0000\n",
      "Epoch 93/500\n",
      "98/98 - 5s - 50ms/step - auc: 0.9999 - fn: 33.0000 - fp: 100.0000 - loss: 0.2123 - precision: 0.7992 - recall: 0.9234 - tn: 199469.0000 - tp: 398.0000 - val_auc: 0.9894 - val_fn: 83.0000 - val_fp: 138.0000 - val_loss: 0.0030 - val_precision: 0.7218 - val_recall: 0.8118 - val_tn: 199421.0000 - val_tp: 358.0000\n",
      "Epoch 94/500\n",
      "98/98 - 5s - 50ms/step - auc: 0.9999 - fn: 32.0000 - fp: 85.0000 - loss: 0.1966 - precision: 0.8244 - recall: 0.9258 - tn: 199484.0000 - tp: 399.0000 - val_auc: 0.9871 - val_fn: 85.0000 - val_fp: 137.0000 - val_loss: 0.0030 - val_precision: 0.7221 - val_recall: 0.8073 - val_tn: 199422.0000 - val_tp: 356.0000\n",
      "Epoch 95/500\n",
      "98/98 - 5s - 50ms/step - auc: 0.9999 - fn: 36.0000 - fp: 95.0000 - loss: 0.2077 - precision: 0.8061 - recall: 0.9165 - tn: 199474.0000 - tp: 395.0000 - val_auc: 0.9883 - val_fn: 63.0000 - val_fp: 165.0000 - val_loss: 0.0032 - val_precision: 0.6961 - val_recall: 0.8571 - val_tn: 199394.0000 - val_tp: 378.0000\n",
      "Epoch 96/500\n",
      "98/98 - 5s - 51ms/step - auc: 0.9999 - fn: 29.0000 - fp: 91.0000 - loss: 0.1959 - precision: 0.8154 - recall: 0.9327 - tn: 199478.0000 - tp: 402.0000 - val_auc: 0.9860 - val_fn: 79.0000 - val_fp: 145.0000 - val_loss: 0.0032 - val_precision: 0.7140 - val_recall: 0.8209 - val_tn: 199414.0000 - val_tp: 362.0000\n",
      "Epoch 97/500\n",
      "98/98 - 5s - 53ms/step - auc: 0.9998 - fn: 39.0000 - fp: 109.0000 - loss: 0.2210 - precision: 0.7824 - recall: 0.9095 - tn: 199460.0000 - tp: 392.0000 - val_auc: 0.9883 - val_fn: 64.0000 - val_fp: 161.0000 - val_loss: 0.0032 - val_precision: 0.7007 - val_recall: 0.8549 - val_tn: 199398.0000 - val_tp: 377.0000\n",
      "Epoch 98/500\n",
      "98/98 - 5s - 54ms/step - auc: 0.9999 - fn: 30.0000 - fp: 98.0000 - loss: 0.2089 - precision: 0.8036 - recall: 0.9304 - tn: 199471.0000 - tp: 401.0000 - val_auc: 0.9860 - val_fn: 92.0000 - val_fp: 116.0000 - val_loss: 0.0030 - val_precision: 0.7505 - val_recall: 0.7914 - val_tn: 199443.0000 - val_tp: 349.0000\n",
      "Epoch 99/500\n",
      "98/98 - 5s - 56ms/step - auc: 0.9999 - fn: 33.0000 - fp: 85.0000 - loss: 0.1921 - precision: 0.8240 - recall: 0.9234 - tn: 199484.0000 - tp: 398.0000 - val_auc: 0.9849 - val_fn: 87.0000 - val_fp: 115.0000 - val_loss: 0.0029 - val_precision: 0.7548 - val_recall: 0.8027 - val_tn: 199444.0000 - val_tp: 354.0000\n",
      "Epoch 100/500\n",
      "98/98 - 6s - 59ms/step - auc: 0.9987 - fn: 35.0000 - fp: 87.0000 - loss: 0.2105 - precision: 0.8199 - recall: 0.9188 - tn: 199482.0000 - tp: 396.0000 - val_auc: 0.9860 - val_fn: 66.0000 - val_fp: 162.0000 - val_loss: 0.0032 - val_precision: 0.6983 - val_recall: 0.8503 - val_tn: 199397.0000 - val_tp: 375.0000\n",
      "Epoch 101/500\n",
      "98/98 - 5s - 55ms/step - auc: 0.9999 - fn: 35.0000 - fp: 98.0000 - loss: 0.2095 - precision: 0.8016 - recall: 0.9188 - tn: 199471.0000 - tp: 396.0000 - val_auc: 0.9872 - val_fn: 71.0000 - val_fp: 130.0000 - val_loss: 0.0030 - val_precision: 0.7400 - val_recall: 0.8390 - val_tn: 199429.0000 - val_tp: 370.0000\n",
      "Epoch 102/500\n",
      "98/98 - 5s - 53ms/step - auc: 0.9998 - fn: 36.0000 - fp: 107.0000 - loss: 0.2245 - precision: 0.7869 - recall: 0.9165 - tn: 199462.0000 - tp: 395.0000 - val_auc: 0.9860 - val_fn: 89.0000 - val_fp: 111.0000 - val_loss: 0.0029 - val_precision: 0.7603 - val_recall: 0.7982 - val_tn: 199448.0000 - val_tp: 352.0000\n",
      "Epoch 103/500\n",
      "98/98 - 5s - 54ms/step - auc: 0.9999 - fn: 29.0000 - fp: 93.0000 - loss: 0.2047 - precision: 0.8121 - recall: 0.9327 - tn: 199476.0000 - tp: 402.0000 - val_auc: 0.9860 - val_fn: 90.0000 - val_fp: 122.0000 - val_loss: 0.0030 - val_precision: 0.7421 - val_recall: 0.7959 - val_tn: 199437.0000 - val_tp: 351.0000\n",
      "Epoch 104/500\n",
      "98/98 - 5s - 55ms/step - auc: 0.9999 - fn: 35.0000 - fp: 90.0000 - loss: 0.1958 - precision: 0.8148 - recall: 0.9188 - tn: 199479.0000 - tp: 396.0000 - val_auc: 0.9871 - val_fn: 73.0000 - val_fp: 146.0000 - val_loss: 0.0031 - val_precision: 0.7160 - val_recall: 0.8345 - val_tn: 199413.0000 - val_tp: 368.0000\n",
      "Epoch 105/500\n",
      "98/98 - 5s - 53ms/step - auc: 0.9999 - fn: 32.0000 - fp: 88.0000 - loss: 0.1984 - precision: 0.8193 - recall: 0.9258 - tn: 199481.0000 - tp: 399.0000 - val_auc: 0.9826 - val_fn: 98.0000 - val_fp: 103.0000 - val_loss: 0.0031 - val_precision: 0.7691 - val_recall: 0.7778 - val_tn: 199456.0000 - val_tp: 343.0000\n",
      "Epoch 106/500\n",
      "98/98 - 6s - 56ms/step - auc: 0.9998 - fn: 34.0000 - fp: 105.0000 - loss: 0.2207 - precision: 0.7908 - recall: 0.9211 - tn: 199464.0000 - tp: 397.0000 - val_auc: 0.9883 - val_fn: 62.0000 - val_fp: 180.0000 - val_loss: 0.0033 - val_precision: 0.6780 - val_recall: 0.8594 - val_tn: 199379.0000 - val_tp: 379.0000\n",
      "Epoch 107/500\n",
      "98/98 - 5s - 54ms/step - auc: 0.9999 - fn: 34.0000 - fp: 100.0000 - loss: 0.2112 - precision: 0.7988 - recall: 0.9211 - tn: 199469.0000 - tp: 397.0000 - val_auc: 0.9872 - val_fn: 87.0000 - val_fp: 123.0000 - val_loss: 0.0030 - val_precision: 0.7421 - val_recall: 0.8027 - val_tn: 199436.0000 - val_tp: 354.0000\n",
      "Epoch 108/500\n",
      "98/98 - 5s - 52ms/step - auc: 0.9999 - fn: 32.0000 - fp: 86.0000 - loss: 0.1916 - precision: 0.8227 - recall: 0.9258 - tn: 199483.0000 - tp: 399.0000 - val_auc: 0.9849 - val_fn: 97.0000 - val_fp: 107.0000 - val_loss: 0.0030 - val_precision: 0.7627 - val_recall: 0.7800 - val_tn: 199452.0000 - val_tp: 344.0000\n",
      "Epoch 109/500\n",
      "98/98 - 5s - 51ms/step - auc: 0.9999 - fn: 25.0000 - fp: 82.0000 - loss: 0.1939 - precision: 0.8320 - recall: 0.9420 - tn: 199487.0000 - tp: 406.0000 - val_auc: 0.9872 - val_fn: 91.0000 - val_fp: 125.0000 - val_loss: 0.0030 - val_precision: 0.7368 - val_recall: 0.7937 - val_tn: 199434.0000 - val_tp: 350.0000\n",
      "Epoch 110/500\n",
      "98/98 - 5s - 52ms/step - auc: 0.9999 - fn: 34.0000 - fp: 90.0000 - loss: 0.2018 - precision: 0.8152 - recall: 0.9211 - tn: 199479.0000 - tp: 397.0000 - val_auc: 0.9883 - val_fn: 67.0000 - val_fp: 153.0000 - val_loss: 0.0033 - val_precision: 0.7097 - val_recall: 0.8481 - val_tn: 199406.0000 - val_tp: 374.0000\n",
      "Epoch 111/500\n",
      "98/98 - 5s - 56ms/step - auc: 0.9999 - fn: 32.0000 - fp: 97.0000 - loss: 0.2087 - precision: 0.8044 - recall: 0.9258 - tn: 199472.0000 - tp: 399.0000 - val_auc: 0.9826 - val_fn: 112.0000 - val_fp: 90.0000 - val_loss: 0.0031 - val_precision: 0.7852 - val_recall: 0.7460 - val_tn: 199469.0000 - val_tp: 329.0000\n",
      "Epoch 112/500\n",
      "98/98 - 6s - 56ms/step - auc: 0.9999 - fn: 31.0000 - fp: 92.0000 - loss: 0.2043 - precision: 0.8130 - recall: 0.9281 - tn: 199477.0000 - tp: 400.0000 - val_auc: 0.9872 - val_fn: 85.0000 - val_fp: 126.0000 - val_loss: 0.0030 - val_precision: 0.7386 - val_recall: 0.8073 - val_tn: 199433.0000 - val_tp: 356.0000\n",
      "Epoch 113/500\n",
      "98/98 - 5s - 53ms/step - auc: 0.9999 - fn: 30.0000 - fp: 85.0000 - loss: 0.1875 - precision: 0.8251 - recall: 0.9304 - tn: 199484.0000 - tp: 401.0000 - val_auc: 0.9860 - val_fn: 97.0000 - val_fp: 100.0000 - val_loss: 0.0029 - val_precision: 0.7748 - val_recall: 0.7800 - val_tn: 199459.0000 - val_tp: 344.0000\n",
      "Epoch 114/500\n",
      "98/98 - 6s - 62ms/step - auc: 0.9999 - fn: 33.0000 - fp: 94.0000 - loss: 0.1954 - precision: 0.8089 - recall: 0.9234 - tn: 199475.0000 - tp: 398.0000 - val_auc: 0.9872 - val_fn: 75.0000 - val_fp: 127.0000 - val_loss: 0.0030 - val_precision: 0.7424 - val_recall: 0.8299 - val_tn: 199432.0000 - val_tp: 366.0000\n",
      "Epoch 115/500\n",
      "98/98 - 5s - 56ms/step - auc: 0.9999 - fn: 31.0000 - fp: 89.0000 - loss: 0.1849 - precision: 0.8180 - recall: 0.9281 - tn: 199480.0000 - tp: 400.0000 - val_auc: 0.9849 - val_fn: 76.0000 - val_fp: 125.0000 - val_loss: 0.0030 - val_precision: 0.7449 - val_recall: 0.8277 - val_tn: 199434.0000 - val_tp: 365.0000\n",
      "Epoch 116/500\n",
      "98/98 - 5s - 55ms/step - auc: 0.9999 - fn: 30.0000 - fp: 87.0000 - loss: 0.1876 - precision: 0.8217 - recall: 0.9304 - tn: 199482.0000 - tp: 401.0000 - val_auc: 0.9872 - val_fn: 68.0000 - val_fp: 143.0000 - val_loss: 0.0032 - val_precision: 0.7229 - val_recall: 0.8458 - val_tn: 199416.0000 - val_tp: 373.0000\n",
      "Epoch 117/500\n",
      "98/98 - 5s - 55ms/step - auc: 0.9999 - fn: 26.0000 - fp: 93.0000 - loss: 0.1908 - precision: 0.8133 - recall: 0.9397 - tn: 199476.0000 - tp: 405.0000 - val_auc: 0.9883 - val_fn: 71.0000 - val_fp: 148.0000 - val_loss: 0.0032 - val_precision: 0.7143 - val_recall: 0.8390 - val_tn: 199411.0000 - val_tp: 370.0000\n",
      "Epoch 118/500\n",
      "98/98 - 6s - 57ms/step - auc: 0.9999 - fn: 26.0000 - fp: 90.0000 - loss: 0.1905 - precision: 0.8182 - recall: 0.9397 - tn: 199479.0000 - tp: 405.0000 - val_auc: 0.9849 - val_fn: 72.0000 - val_fp: 131.0000 - val_loss: 0.0030 - val_precision: 0.7380 - val_recall: 0.8367 - val_tn: 199428.0000 - val_tp: 369.0000\n",
      "Epoch 119/500\n",
      "98/98 - 6s - 56ms/step - auc: 0.9999 - fn: 31.0000 - fp: 93.0000 - loss: 0.1915 - precision: 0.8114 - recall: 0.9281 - tn: 199476.0000 - tp: 400.0000 - val_auc: 0.9872 - val_fn: 65.0000 - val_fp: 156.0000 - val_loss: 0.0033 - val_precision: 0.7068 - val_recall: 0.8526 - val_tn: 199403.0000 - val_tp: 376.0000\n",
      "Epoch 120/500\n",
      "98/98 - 5s - 55ms/step - auc: 0.9999 - fn: 29.0000 - fp: 88.0000 - loss: 0.1872 - precision: 0.8204 - recall: 0.9327 - tn: 199481.0000 - tp: 402.0000 - val_auc: 0.9826 - val_fn: 85.0000 - val_fp: 125.0000 - val_loss: 0.0032 - val_precision: 0.7401 - val_recall: 0.8073 - val_tn: 199434.0000 - val_tp: 356.0000\n",
      "Epoch 121/500\n",
      "98/98 - 5s - 53ms/step - auc: 0.9999 - fn: 26.0000 - fp: 104.0000 - loss: 0.2075 - precision: 0.7957 - recall: 0.9397 - tn: 199465.0000 - tp: 405.0000 - val_auc: 0.9838 - val_fn: 112.0000 - val_fp: 81.0000 - val_loss: 0.0030 - val_precision: 0.8024 - val_recall: 0.7460 - val_tn: 199478.0000 - val_tp: 329.0000\n",
      "Epoch 122/500\n",
      "98/98 - 5s - 53ms/step - auc: 0.9999 - fn: 35.0000 - fp: 94.0000 - loss: 0.1916 - precision: 0.8082 - recall: 0.9188 - tn: 199475.0000 - tp: 396.0000 - val_auc: 0.9872 - val_fn: 80.0000 - val_fp: 129.0000 - val_loss: 0.0031 - val_precision: 0.7367 - val_recall: 0.8186 - val_tn: 199430.0000 - val_tp: 361.0000\n",
      "Epoch 123/500\n",
      "98/98 - 5s - 51ms/step - auc: 0.9999 - fn: 24.0000 - fp: 90.0000 - loss: 0.1829 - precision: 0.8189 - recall: 0.9443 - tn: 199479.0000 - tp: 407.0000 - val_auc: 0.9849 - val_fn: 96.0000 - val_fp: 103.0000 - val_loss: 0.0030 - val_precision: 0.7701 - val_recall: 0.7823 - val_tn: 199456.0000 - val_tp: 345.0000\n",
      "Epoch 124/500\n",
      "98/98 - 5s - 52ms/step - auc: 0.9999 - fn: 34.0000 - fp: 96.0000 - loss: 0.1983 - precision: 0.8053 - recall: 0.9211 - tn: 199473.0000 - tp: 397.0000 - val_auc: 0.9894 - val_fn: 53.0000 - val_fp: 197.0000 - val_loss: 0.0035 - val_precision: 0.6632 - val_recall: 0.8798 - val_tn: 199362.0000 - val_tp: 388.0000\n",
      "Epoch 125/500\n",
      "98/98 - 5s - 52ms/step - auc: 0.9999 - fn: 28.0000 - fp: 95.0000 - loss: 0.1891 - precision: 0.8092 - recall: 0.9350 - tn: 199474.0000 - tp: 403.0000 - val_auc: 0.9838 - val_fn: 89.0000 - val_fp: 117.0000 - val_loss: 0.0031 - val_precision: 0.7505 - val_recall: 0.7982 - val_tn: 199442.0000 - val_tp: 352.0000\n",
      "Epoch 126/500\n",
      "98/98 - 5s - 51ms/step - auc: 0.9999 - fn: 29.0000 - fp: 80.0000 - loss: 0.1858 - precision: 0.8340 - recall: 0.9327 - tn: 199489.0000 - tp: 402.0000 - val_auc: 0.9860 - val_fn: 94.0000 - val_fp: 120.0000 - val_loss: 0.0032 - val_precision: 0.7430 - val_recall: 0.7868 - val_tn: 199439.0000 - val_tp: 347.0000\n",
      "Epoch 127/500\n",
      "98/98 - 5s - 52ms/step - auc: 0.9999 - fn: 21.0000 - fp: 85.0000 - loss: 0.1801 - precision: 0.8283 - recall: 0.9513 - tn: 199484.0000 - tp: 410.0000 - val_auc: 0.9804 - val_fn: 69.0000 - val_fp: 129.0000 - val_loss: 0.0032 - val_precision: 0.7425 - val_recall: 0.8435 - val_tn: 199430.0000 - val_tp: 372.0000\n",
      "Epoch 128/500\n",
      "98/98 - 5s - 51ms/step - auc: 0.9999 - fn: 26.0000 - fp: 85.0000 - loss: 0.1804 - precision: 0.8265 - recall: 0.9397 - tn: 199484.0000 - tp: 405.0000 - val_auc: 0.9781 - val_fn: 107.0000 - val_fp: 85.0000 - val_loss: 0.0030 - val_precision: 0.7971 - val_recall: 0.7574 - val_tn: 199474.0000 - val_tp: 334.0000\n",
      "Epoch 129/500\n",
      "98/98 - 5s - 52ms/step - auc: 0.9999 - fn: 24.0000 - fp: 82.0000 - loss: 0.1750 - precision: 0.8323 - recall: 0.9443 - tn: 199487.0000 - tp: 407.0000 - val_auc: 0.9826 - val_fn: 102.0000 - val_fp: 105.0000 - val_loss: 0.0031 - val_precision: 0.7635 - val_recall: 0.7687 - val_tn: 199454.0000 - val_tp: 339.0000\n",
      "Epoch 130/500\n",
      "98/98 - 5s - 51ms/step - auc: 0.9999 - fn: 29.0000 - fp: 81.0000 - loss: 0.1731 - precision: 0.8323 - recall: 0.9327 - tn: 199488.0000 - tp: 402.0000 - val_auc: 0.9849 - val_fn: 97.0000 - val_fp: 100.0000 - val_loss: 0.0030 - val_precision: 0.7748 - val_recall: 0.7800 - val_tn: 199459.0000 - val_tp: 344.0000\n",
      "Epoch 131/500\n",
      "98/98 - 5s - 52ms/step - auc: 0.9999 - fn: 24.0000 - fp: 86.0000 - loss: 0.1801 - precision: 0.8256 - recall: 0.9443 - tn: 199483.0000 - tp: 407.0000 - val_auc: 0.9849 - val_fn: 88.0000 - val_fp: 120.0000 - val_loss: 0.0031 - val_precision: 0.7463 - val_recall: 0.8005 - val_tn: 199439.0000 - val_tp: 353.0000\n",
      "Epoch 132/500\n",
      "98/98 - 5s - 51ms/step - auc: 0.9999 - fn: 32.0000 - fp: 88.0000 - loss: 0.1878 - precision: 0.8193 - recall: 0.9258 - tn: 199481.0000 - tp: 399.0000 - val_auc: 0.9860 - val_fn: 64.0000 - val_fp: 135.0000 - val_loss: 0.0031 - val_precision: 0.7363 - val_recall: 0.8549 - val_tn: 199424.0000 - val_tp: 377.0000\n",
      "Epoch 133/500\n",
      "98/98 - 5s - 51ms/step - auc: 0.9999 - fn: 28.0000 - fp: 92.0000 - loss: 0.1908 - precision: 0.8141 - recall: 0.9350 - tn: 199477.0000 - tp: 403.0000 - val_auc: 0.9883 - val_fn: 62.0000 - val_fp: 139.0000 - val_loss: 0.0031 - val_precision: 0.7317 - val_recall: 0.8594 - val_tn: 199420.0000 - val_tp: 379.0000\n",
      "Epoch 134/500\n",
      "98/98 - 6s - 57ms/step - auc: 0.9999 - fn: 26.0000 - fp: 78.0000 - loss: 0.1737 - precision: 0.8385 - recall: 0.9397 - tn: 199491.0000 - tp: 405.0000 - val_auc: 0.9826 - val_fn: 93.0000 - val_fp: 106.0000 - val_loss: 0.0031 - val_precision: 0.7665 - val_recall: 0.7891 - val_tn: 199453.0000 - val_tp: 348.0000\n",
      "Epoch 135/500\n",
      "98/98 - 5s - 56ms/step - auc: 0.9999 - fn: 31.0000 - fp: 86.0000 - loss: 0.1821 - precision: 0.8230 - recall: 0.9281 - tn: 199483.0000 - tp: 400.0000 - val_auc: 0.9826 - val_fn: 92.0000 - val_fp: 124.0000 - val_loss: 0.0032 - val_precision: 0.7378 - val_recall: 0.7914 - val_tn: 199435.0000 - val_tp: 349.0000\n",
      "Epoch 136/500\n",
      "98/98 - 5s - 53ms/step - auc: 0.9999 - fn: 32.0000 - fp: 90.0000 - loss: 0.1841 - precision: 0.8160 - recall: 0.9258 - tn: 199479.0000 - tp: 399.0000 - val_auc: 0.9849 - val_fn: 81.0000 - val_fp: 127.0000 - val_loss: 0.0031 - val_precision: 0.7392 - val_recall: 0.8163 - val_tn: 199432.0000 - val_tp: 360.0000\n",
      "Epoch 137/500\n",
      "98/98 - 5s - 54ms/step - auc: 0.9999 - fn: 34.0000 - fp: 92.0000 - loss: 0.1939 - precision: 0.8119 - recall: 0.9211 - tn: 199477.0000 - tp: 397.0000 - val_auc: 0.9804 - val_fn: 115.0000 - val_fp: 81.0000 - val_loss: 0.0031 - val_precision: 0.8010 - val_recall: 0.7392 - val_tn: 199478.0000 - val_tp: 326.0000\n",
      "Epoch 138/500\n",
      "98/98 - 5s - 54ms/step - auc: 0.9999 - fn: 32.0000 - fp: 81.0000 - loss: 0.1875 - precision: 0.8313 - recall: 0.9258 - tn: 199488.0000 - tp: 399.0000 - val_auc: 0.9815 - val_fn: 116.0000 - val_fp: 80.0000 - val_loss: 0.0030 - val_precision: 0.8025 - val_recall: 0.7370 - val_tn: 199479.0000 - val_tp: 325.0000\n",
      "Epoch 139/500\n",
      "98/98 - 5s - 52ms/step - auc: 0.9999 - fn: 24.0000 - fp: 88.0000 - loss: 0.1765 - precision: 0.8222 - recall: 0.9443 - tn: 199481.0000 - tp: 407.0000 - val_auc: 0.9838 - val_fn: 100.0000 - val_fp: 106.0000 - val_loss: 0.0031 - val_precision: 0.7629 - val_recall: 0.7732 - val_tn: 199453.0000 - val_tp: 341.0000\n",
      "Epoch 140/500\n",
      "98/98 - 5s - 51ms/step - auc: 0.9999 - fn: 25.0000 - fp: 86.0000 - loss: 0.1782 - precision: 0.8252 - recall: 0.9420 - tn: 199483.0000 - tp: 406.0000 - val_auc: 0.9804 - val_fn: 98.0000 - val_fp: 97.0000 - val_loss: 0.0030 - val_precision: 0.7795 - val_recall: 0.7778 - val_tn: 199462.0000 - val_tp: 343.0000\n",
      "Epoch 141/500\n",
      "98/98 - 5s - 52ms/step - auc: 0.9999 - fn: 26.0000 - fp: 86.0000 - loss: 0.1760 - precision: 0.8248 - recall: 0.9397 - tn: 199483.0000 - tp: 405.0000 - val_auc: 0.9872 - val_fn: 65.0000 - val_fp: 159.0000 - val_loss: 0.0034 - val_precision: 0.7028 - val_recall: 0.8526 - val_tn: 199400.0000 - val_tp: 376.0000\n",
      "Epoch 142/500\n",
      "98/98 - 5s - 52ms/step - auc: 0.9999 - fn: 23.0000 - fp: 80.0000 - loss: 0.1801 - precision: 0.8361 - recall: 0.9466 - tn: 199489.0000 - tp: 408.0000 - val_auc: 0.9793 - val_fn: 109.0000 - val_fp: 89.0000 - val_loss: 0.0031 - val_precision: 0.7886 - val_recall: 0.7528 - val_tn: 199470.0000 - val_tp: 332.0000\n",
      "Epoch 143/500\n",
      "98/98 - 5s - 51ms/step - auc: 0.9999 - fn: 35.0000 - fp: 93.0000 - loss: 0.1911 - precision: 0.8098 - recall: 0.9188 - tn: 199476.0000 - tp: 396.0000 - val_auc: 0.9883 - val_fn: 55.0000 - val_fp: 178.0000 - val_loss: 0.0035 - val_precision: 0.6844 - val_recall: 0.8753 - val_tn: 199381.0000 - val_tp: 386.0000\n",
      "Epoch 144/500\n",
      "98/98 - 5s - 51ms/step - auc: 0.9999 - fn: 23.0000 - fp: 90.0000 - loss: 0.1690 - precision: 0.8193 - recall: 0.9466 - tn: 199479.0000 - tp: 408.0000 - val_auc: 0.9793 - val_fn: 107.0000 - val_fp: 83.0000 - val_loss: 0.0031 - val_precision: 0.8010 - val_recall: 0.7574 - val_tn: 199476.0000 - val_tp: 334.0000\n",
      "Epoch 145/500\n",
      "98/98 - 5s - 51ms/step - auc: 0.9999 - fn: 25.0000 - fp: 87.0000 - loss: 0.1825 - precision: 0.8235 - recall: 0.9420 - tn: 199482.0000 - tp: 406.0000 - val_auc: 0.9849 - val_fn: 77.0000 - val_fp: 114.0000 - val_loss: 0.0030 - val_precision: 0.7615 - val_recall: 0.8254 - val_tn: 199445.0000 - val_tp: 364.0000\n",
      "Epoch 146/500\n",
      "98/98 - 5s - 49ms/step - auc: 0.9999 - fn: 27.0000 - fp: 90.0000 - loss: 0.1807 - precision: 0.8178 - recall: 0.9374 - tn: 199479.0000 - tp: 404.0000 - val_auc: 0.9759 - val_fn: 107.0000 - val_fp: 105.0000 - val_loss: 0.0033 - val_precision: 0.7608 - val_recall: 0.7574 - val_tn: 199454.0000 - val_tp: 334.0000\n",
      "Epoch 147/500\n",
      "98/98 - 5s - 49ms/step - auc: 0.9999 - fn: 17.0000 - fp: 90.0000 - loss: 0.1800 - precision: 0.8214 - recall: 0.9606 - tn: 199479.0000 - tp: 414.0000 - val_auc: 0.9838 - val_fn: 103.0000 - val_fp: 100.0000 - val_loss: 0.0031 - val_precision: 0.7717 - val_recall: 0.7664 - val_tn: 199459.0000 - val_tp: 338.0000\n",
      "Epoch 148/500\n",
      "98/98 - 5s - 50ms/step - auc: 0.9999 - fn: 26.0000 - fp: 77.0000 - loss: 0.1600 - precision: 0.8402 - recall: 0.9397 - tn: 199492.0000 - tp: 405.0000 - val_auc: 0.9827 - val_fn: 97.0000 - val_fp: 99.0000 - val_loss: 0.0030 - val_precision: 0.7765 - val_recall: 0.7800 - val_tn: 199460.0000 - val_tp: 344.0000\n",
      "Epoch 149/500\n",
      "98/98 - 5s - 52ms/step - auc: 0.9999 - fn: 22.0000 - fp: 77.0000 - loss: 0.1674 - precision: 0.8416 - recall: 0.9490 - tn: 199492.0000 - tp: 409.0000 - val_auc: 0.9770 - val_fn: 107.0000 - val_fp: 88.0000 - val_loss: 0.0032 - val_precision: 0.7915 - val_recall: 0.7574 - val_tn: 199471.0000 - val_tp: 334.0000\n",
      "Epoch 150/500\n",
      "98/98 - 5s - 52ms/step - auc: 0.9999 - fn: 34.0000 - fp: 93.0000 - loss: 0.1819 - precision: 0.8102 - recall: 0.9211 - tn: 199476.0000 - tp: 397.0000 - val_auc: 0.9827 - val_fn: 96.0000 - val_fp: 104.0000 - val_loss: 0.0031 - val_precision: 0.7684 - val_recall: 0.7823 - val_tn: 199455.0000 - val_tp: 345.0000\n",
      "Epoch 151/500\n",
      "98/98 - 5s - 55ms/step - auc: 0.9999 - fn: 18.0000 - fp: 80.0000 - loss: 0.1558 - precision: 0.8377 - recall: 0.9582 - tn: 199489.0000 - tp: 413.0000 - val_auc: 0.9793 - val_fn: 107.0000 - val_fp: 88.0000 - val_loss: 0.0030 - val_precision: 0.7915 - val_recall: 0.7574 - val_tn: 199471.0000 - val_tp: 334.0000\n",
      "Epoch 152/500\n",
      "98/98 - 6s - 58ms/step - auc: 0.9999 - fn: 23.0000 - fp: 81.0000 - loss: 0.1722 - precision: 0.8344 - recall: 0.9466 - tn: 199488.0000 - tp: 408.0000 - val_auc: 0.9849 - val_fn: 76.0000 - val_fp: 126.0000 - val_loss: 0.0032 - val_precision: 0.7434 - val_recall: 0.8277 - val_tn: 199433.0000 - val_tp: 365.0000\n",
      "Epoch 153/500\n",
      "98/98 - 5s - 52ms/step - auc: 0.9999 - fn: 24.0000 - fp: 88.0000 - loss: 0.1679 - precision: 0.8222 - recall: 0.9443 - tn: 199481.0000 - tp: 407.0000 - val_auc: 0.9793 - val_fn: 97.0000 - val_fp: 96.0000 - val_loss: 0.0030 - val_precision: 0.7818 - val_recall: 0.7800 - val_tn: 199463.0000 - val_tp: 344.0000\n",
      "Epoch 154/500\n",
      "98/98 - 5s - 53ms/step - auc: 0.9999 - fn: 20.0000 - fp: 80.0000 - loss: 0.1528 - precision: 0.8371 - recall: 0.9536 - tn: 199489.0000 - tp: 411.0000 - val_auc: 0.9793 - val_fn: 107.0000 - val_fp: 88.0000 - val_loss: 0.0031 - val_precision: 0.7915 - val_recall: 0.7574 - val_tn: 199471.0000 - val_tp: 334.0000\n",
      "Epoch 155/500\n",
      "98/98 - 5s - 56ms/step - auc: 0.9999 - fn: 24.0000 - fp: 76.0000 - loss: 0.1529 - precision: 0.8427 - recall: 0.9443 - tn: 199493.0000 - tp: 407.0000 - val_auc: 0.9827 - val_fn: 102.0000 - val_fp: 99.0000 - val_loss: 0.0032 - val_precision: 0.7740 - val_recall: 0.7687 - val_tn: 199460.0000 - val_tp: 339.0000\n",
      "Epoch 156/500\n",
      "98/98 - 6s - 56ms/step - auc: 0.9999 - fn: 26.0000 - fp: 83.0000 - loss: 0.1592 - precision: 0.8299 - recall: 0.9397 - tn: 199486.0000 - tp: 405.0000 - val_auc: 0.9793 - val_fn: 95.0000 - val_fp: 99.0000 - val_loss: 0.0030 - val_precision: 0.7775 - val_recall: 0.7846 - val_tn: 199460.0000 - val_tp: 346.0000\n",
      "Epoch 157/500\n",
      "98/98 - 5s - 55ms/step - auc: 0.9999 - fn: 32.0000 - fp: 92.0000 - loss: 0.1905 - precision: 0.8126 - recall: 0.9258 - tn: 199477.0000 - tp: 399.0000 - val_auc: 0.9894 - val_fn: 49.0000 - val_fp: 190.0000 - val_loss: 0.0035 - val_precision: 0.6735 - val_recall: 0.8889 - val_tn: 199369.0000 - val_tp: 392.0000\n",
      "Epoch 158/500\n",
      "98/98 - 5s - 52ms/step - auc: 0.9999 - fn: 30.0000 - fp: 84.0000 - loss: 0.1808 - precision: 0.8268 - recall: 0.9304 - tn: 199485.0000 - tp: 401.0000 - val_auc: 0.9748 - val_fn: 112.0000 - val_fp: 84.0000 - val_loss: 0.0031 - val_precision: 0.7966 - val_recall: 0.7460 - val_tn: 199475.0000 - val_tp: 329.0000\n",
      "Epoch 159/500\n",
      "98/98 - 5s - 54ms/step - auc: 0.9999 - fn: 19.0000 - fp: 75.0000 - loss: 0.1564 - precision: 0.8460 - recall: 0.9559 - tn: 199494.0000 - tp: 412.0000 - val_auc: 0.9736 - val_fn: 92.0000 - val_fp: 108.0000 - val_loss: 0.0032 - val_precision: 0.7637 - val_recall: 0.7914 - val_tn: 199451.0000 - val_tp: 349.0000\n",
      "Epoch 160/500\n",
      "98/98 - 5s - 55ms/step - auc: 0.9999 - fn: 22.0000 - fp: 83.0000 - loss: 0.1593 - precision: 0.8313 - recall: 0.9490 - tn: 199486.0000 - tp: 409.0000 - val_auc: 0.9816 - val_fn: 89.0000 - val_fp: 110.0000 - val_loss: 0.0032 - val_precision: 0.7619 - val_recall: 0.7982 - val_tn: 199449.0000 - val_tp: 352.0000\n",
      "Epoch 161/500\n",
      "98/98 - 5s - 51ms/step - auc: 0.9999 - fn: 25.0000 - fp: 85.0000 - loss: 0.1786 - precision: 0.8269 - recall: 0.9420 - tn: 199484.0000 - tp: 406.0000 - val_auc: 0.9815 - val_fn: 92.0000 - val_fp: 101.0000 - val_loss: 0.0032 - val_precision: 0.7756 - val_recall: 0.7914 - val_tn: 199458.0000 - val_tp: 349.0000\n",
      "Epoch 162/500\n",
      "98/98 - 5s - 53ms/step - auc: 0.9999 - fn: 30.0000 - fp: 88.0000 - loss: 0.1710 - precision: 0.8200 - recall: 0.9304 - tn: 199481.0000 - tp: 401.0000 - val_auc: 0.9782 - val_fn: 106.0000 - val_fp: 85.0000 - val_loss: 0.0032 - val_precision: 0.7976 - val_recall: 0.7596 - val_tn: 199474.0000 - val_tp: 335.0000\n",
      "Epoch 163/500\n",
      "98/98 - 5s - 53ms/step - auc: 0.9999 - fn: 22.0000 - fp: 82.0000 - loss: 0.1620 - precision: 0.8330 - recall: 0.9490 - tn: 199487.0000 - tp: 409.0000 - val_auc: 0.9815 - val_fn: 85.0000 - val_fp: 110.0000 - val_loss: 0.0032 - val_precision: 0.7639 - val_recall: 0.8073 - val_tn: 199449.0000 - val_tp: 356.0000\n",
      "Epoch 164/500\n",
      "98/98 - 5s - 55ms/step - auc: 0.9999 - fn: 19.0000 - fp: 80.0000 - loss: 0.1619 - precision: 0.8374 - recall: 0.9559 - tn: 199489.0000 - tp: 412.0000 - val_auc: 0.9815 - val_fn: 83.0000 - val_fp: 127.0000 - val_loss: 0.0033 - val_precision: 0.7381 - val_recall: 0.8118 - val_tn: 199432.0000 - val_tp: 358.0000\n",
      "Epoch 165/500\n",
      "98/98 - 5s - 51ms/step - auc: 0.9999 - fn: 21.0000 - fp: 89.0000 - loss: 0.1696 - precision: 0.8216 - recall: 0.9513 - tn: 199480.0000 - tp: 410.0000 - val_auc: 0.9804 - val_fn: 104.0000 - val_fp: 91.0000 - val_loss: 0.0032 - val_precision: 0.7874 - val_recall: 0.7642 - val_tn: 199468.0000 - val_tp: 337.0000\n",
      "Epoch 166/500\n",
      "98/98 - 5s - 52ms/step - auc: 0.9999 - fn: 23.0000 - fp: 78.0000 - loss: 0.1530 - precision: 0.8395 - recall: 0.9466 - tn: 199491.0000 - tp: 408.0000 - val_auc: 0.9804 - val_fn: 98.0000 - val_fp: 98.0000 - val_loss: 0.0032 - val_precision: 0.7778 - val_recall: 0.7778 - val_tn: 199461.0000 - val_tp: 343.0000\n",
      "Epoch 167/500\n",
      "98/98 - 5s - 52ms/step - auc: 0.9999 - fn: 26.0000 - fp: 82.0000 - loss: 0.1590 - precision: 0.8316 - recall: 0.9397 - tn: 199487.0000 - tp: 405.0000 - val_auc: 0.9793 - val_fn: 84.0000 - val_fp: 105.0000 - val_loss: 0.0032 - val_precision: 0.7727 - val_recall: 0.8095 - val_tn: 199454.0000 - val_tp: 357.0000\n",
      "Epoch 168/500\n",
      "98/98 - 5s - 52ms/step - auc: 0.9999 - fn: 25.0000 - fp: 77.0000 - loss: 0.1720 - precision: 0.8406 - recall: 0.9420 - tn: 199492.0000 - tp: 406.0000 - val_auc: 0.9838 - val_fn: 89.0000 - val_fp: 116.0000 - val_loss: 0.0032 - val_precision: 0.7521 - val_recall: 0.7982 - val_tn: 199443.0000 - val_tp: 352.0000\n",
      "Epoch 169/500\n",
      "98/98 - 5s - 52ms/step - auc: 0.9999 - fn: 21.0000 - fp: 77.0000 - loss: 0.1562 - precision: 0.8419 - recall: 0.9513 - tn: 199492.0000 - tp: 410.0000 - val_auc: 0.9827 - val_fn: 71.0000 - val_fp: 135.0000 - val_loss: 0.0033 - val_precision: 0.7327 - val_recall: 0.8390 - val_tn: 199424.0000 - val_tp: 370.0000\n",
      "Epoch 170/500\n",
      "98/98 - 5s - 51ms/step - auc: 0.9999 - fn: 24.0000 - fp: 87.0000 - loss: 0.1684 - precision: 0.8239 - recall: 0.9443 - tn: 199482.0000 - tp: 407.0000 - val_auc: 0.9838 - val_fn: 77.0000 - val_fp: 122.0000 - val_loss: 0.0032 - val_precision: 0.7490 - val_recall: 0.8254 - val_tn: 199437.0000 - val_tp: 364.0000\n",
      "Epoch 171/500\n",
      "98/98 - 5s - 51ms/step - auc: 0.9999 - fn: 19.0000 - fp: 85.0000 - loss: 0.1658 - precision: 0.8290 - recall: 0.9559 - tn: 199484.0000 - tp: 412.0000 - val_auc: 0.9702 - val_fn: 122.0000 - val_fp: 70.0000 - val_loss: 0.0034 - val_precision: 0.8201 - val_recall: 0.7234 - val_tn: 199489.0000 - val_tp: 319.0000\n",
      "Epoch 172/500\n",
      "98/98 - 5s - 52ms/step - auc: 0.9999 - fn: 26.0000 - fp: 78.0000 - loss: 0.1642 - precision: 0.8385 - recall: 0.9397 - tn: 199491.0000 - tp: 405.0000 - val_auc: 0.9804 - val_fn: 88.0000 - val_fp: 101.0000 - val_loss: 0.0031 - val_precision: 0.7775 - val_recall: 0.8005 - val_tn: 199458.0000 - val_tp: 353.0000\n",
      "Epoch 172: early stopping\n",
      "Restoring model weights from the end of the best epoch: 147.\n"
     ]
    },
    {
     "data": {
      "text/plain": [
       "[0.0024360225070267916,\n",
       " 0.9902230501174927,\n",
       " 82.0,\n",
       " 66.0,\n",
       " 0.8362283110618591,\n",
       " 0.8042959570884705,\n",
       " 199515.0,\n",
       " 337.0]"
      ]
     },
     "execution_count": 108,
     "metadata": {},
     "output_type": "execute_result"
    }
   ],
   "source": [
    "history = network.fit_model(verbose=2)\n",
    "network.score"
   ]
  },
  {
   "cell_type": "code",
   "execution_count": 109,
   "metadata": {},
   "outputs": [],
   "source": [
    "nuclei = [pyna.Nucleus(\"h1\"),\n",
    "          pyna.Nucleus(\"he4\"),\n",
    "          pyna.Nucleus(\"c12\"),\n",
    "          pyna.Nucleus(\"o16\"),\n",
    "          pyna.Nucleus(\"n14\"),\n",
    "          pyna.Nucleus(\"ca40\")]\n",
    "\n",
    "reactants = [pyna.Nucleus(\"c12\"), pyna.Nucleus(\"he4\")]\n",
    "\n",
    "comp = pyna.Composition(nuclei=nuclei)\n",
    "comp.set_solar_like()\n",
    "\n",
    "scn_fac = pyna.make_screen_factors(*reactants)"
   ]
  },
  {
   "cell_type": "code",
   "execution_count": 110,
   "metadata": {},
   "outputs": [],
   "source": [
    "dens, temp = 1.e5, 3e7\n",
    "\n",
    "plasma = pyna.make_plasma_state(temp, dens, comp.get_molar())"
   ]
  },
  {
   "cell_type": "code",
   "execution_count": 111,
   "metadata": {},
   "outputs": [
    {
     "data": {
      "text/plain": [
       "12.784589340763912"
      ]
     },
     "execution_count": 111,
     "metadata": {},
     "output_type": "execute_result"
    }
   ],
   "source": [
    "chugunov_2009(plasma, scn_fac)"
   ]
  },
  {
   "cell_type": "code",
   "execution_count": 112,
   "metadata": {},
   "outputs": [
    {
     "data": {
      "text/plain": [
       "True"
      ]
     },
     "metadata": {},
     "output_type": "display_data"
    }
   ],
   "source": [
    "can_skip = network.predict(temp=temp, dens=dens, comp=comp, nuclei=reactants)\n",
    "display(not can_skip)"
   ]
  },
  {
   "cell_type": "code",
   "execution_count": 113,
   "metadata": {},
   "outputs": [],
   "source": [
    "T_, D_ = 10**np.linspace(8, 11), 10**np.linspace(4, 8)\n",
    "T, D = np.meshgrid(T_, D_)"
   ]
  },
  {
   "cell_type": "code",
   "execution_count": 114,
   "metadata": {},
   "outputs": [
    {
     "ename": "",
     "evalue": "",
     "output_type": "error",
     "traceback": [
      "\u001b[1;31mThe Kernel crashed while executing code in the current cell or a previous cell. \n",
      "\u001b[1;31mPlease review the code in the cell(s) to identify a possible cause of the failure. \n",
      "\u001b[1;31mClick <a href='https://aka.ms/vscodeJupyterKernelCrash'>here</a> for more info. \n",
      "\u001b[1;31mView Jupyter <a href='command:jupyter.viewOutput'>log</a> for further details."
     ]
    }
   ],
   "source": [
    "#network.predict(temp=T, dens=D, comp=comp, nuclei=reactants)"
   ]
  },
  {
   "cell_type": "markdown",
   "metadata": {},
   "source": [
    "load data using yt"
   ]
  }
 ],
 "metadata": {
  "kernelspec": {
   "display_name": "Python 3",
   "language": "python",
   "name": "python3"
  },
  "language_info": {
   "codemirror_mode": {
    "name": "ipython",
    "version": 3
   },
   "file_extension": ".py",
   "mimetype": "text/x-python",
   "name": "python",
   "nbconvert_exporter": "python",
   "pygments_lexer": "ipython3",
   "version": "3.12.2"
  }
 },
 "nbformat": 4,
 "nbformat_minor": 2
}
