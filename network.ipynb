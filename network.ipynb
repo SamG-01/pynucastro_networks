{
 "cells": [
  {
   "cell_type": "code",
   "execution_count": 1,
   "metadata": {},
   "outputs": [],
   "source": [
    "from pynucastro.screening import chugunov_2009\n",
    "from keras_network import ScreeningFactorData, ScreeningFactorNetwork\n",
    "\n",
    "import pynucastro as pyna\n",
    "import numpy as np"
   ]
  },
  {
   "cell_type": "code",
   "execution_count": 2,
   "metadata": {},
   "outputs": [],
   "source": [
    "data = ScreeningFactorData(screen_func=chugunov_2009, size=10**3, seed=1)"
   ]
  },
  {
   "cell_type": "code",
   "execution_count": 3,
   "metadata": {},
   "outputs": [],
   "source": [
    "network = ScreeningFactorNetwork(data=data, seed=1)"
   ]
  },
  {
   "cell_type": "code",
   "execution_count": 4,
   "metadata": {},
   "outputs": [
    {
     "name": "stdout",
     "output_type": "stream",
     "text": [
      "Epoch 1/100\n",
      "1/1 - 1s - 1s/step - loss: nan - val_loss: nan\n",
      "Epoch 2/100\n",
      "1/1 - 0s - 50ms/step - loss: nan - val_loss: nan\n",
      "Epoch 3/100\n",
      "1/1 - 0s - 48ms/step - loss: nan - val_loss: nan\n",
      "Epoch 4/100\n",
      "1/1 - 0s - 50ms/step - loss: nan - val_loss: nan\n",
      "Epoch 5/100\n"
     ]
    },
    {
     "name": "stderr",
     "output_type": "stream",
     "text": [
      "c:\\Program Files\\Python312\\Lib\\site-packages\\keras\\src\\callbacks\\early_stopping.py:156: UserWarning: Early stopping conditioned on metric `accuracy` which is not available. Available metrics are: loss,val_loss\n",
      "  current = self.get_monitor_value(logs)\n"
     ]
    },
    {
     "name": "stdout",
     "output_type": "stream",
     "text": [
      "1/1 - 0s - 50ms/step - loss: nan - val_loss: nan\n",
      "Epoch 6/100\n",
      "1/1 - 0s - 56ms/step - loss: nan - val_loss: nan\n",
      "Epoch 7/100\n",
      "1/1 - 0s - 53ms/step - loss: nan - val_loss: nan\n",
      "Epoch 8/100\n",
      "1/1 - 0s - 47ms/step - loss: nan - val_loss: nan\n",
      "Epoch 9/100\n",
      "1/1 - 0s - 48ms/step - loss: nan - val_loss: nan\n",
      "Epoch 10/100\n",
      "1/1 - 0s - 52ms/step - loss: nan - val_loss: nan\n",
      "Epoch 11/100\n",
      "1/1 - 0s - 51ms/step - loss: nan - val_loss: nan\n",
      "Epoch 12/100\n",
      "1/1 - 0s - 54ms/step - loss: nan - val_loss: nan\n",
      "Epoch 13/100\n",
      "1/1 - 0s - 46ms/step - loss: nan - val_loss: nan\n",
      "Epoch 14/100\n",
      "1/1 - 0s - 47ms/step - loss: nan - val_loss: nan\n",
      "Epoch 15/100\n",
      "1/1 - 0s - 47ms/step - loss: nan - val_loss: nan\n",
      "Epoch 16/100\n",
      "1/1 - 0s - 50ms/step - loss: nan - val_loss: nan\n",
      "Epoch 17/100\n",
      "1/1 - 0s - 48ms/step - loss: nan - val_loss: nan\n",
      "Epoch 18/100\n",
      "1/1 - 0s - 47ms/step - loss: nan - val_loss: nan\n",
      "Epoch 19/100\n",
      "1/1 - 0s - 47ms/step - loss: nan - val_loss: nan\n",
      "Epoch 20/100\n",
      "1/1 - 0s - 48ms/step - loss: nan - val_loss: nan\n",
      "Epoch 21/100\n",
      "1/1 - 0s - 46ms/step - loss: nan - val_loss: nan\n",
      "Epoch 22/100\n",
      "1/1 - 0s - 48ms/step - loss: nan - val_loss: nan\n",
      "Epoch 23/100\n",
      "1/1 - 0s - 48ms/step - loss: nan - val_loss: nan\n",
      "Epoch 24/100\n",
      "1/1 - 0s - 49ms/step - loss: nan - val_loss: nan\n",
      "Epoch 25/100\n",
      "1/1 - 0s - 48ms/step - loss: nan - val_loss: nan\n",
      "Epoch 26/100\n",
      "1/1 - 0s - 64ms/step - loss: nan - val_loss: nan\n",
      "Epoch 27/100\n",
      "1/1 - 0s - 53ms/step - loss: nan - val_loss: nan\n",
      "Epoch 28/100\n",
      "1/1 - 0s - 62ms/step - loss: nan - val_loss: nan\n",
      "Epoch 29/100\n",
      "1/1 - 0s - 65ms/step - loss: nan - val_loss: nan\n",
      "Epoch 30/100\n",
      "1/1 - 0s - 52ms/step - loss: nan - val_loss: nan\n",
      "Epoch 31/100\n",
      "1/1 - 0s - 50ms/step - loss: nan - val_loss: nan\n",
      "Epoch 32/100\n",
      "1/1 - 0s - 52ms/step - loss: nan - val_loss: nan\n",
      "Epoch 33/100\n",
      "1/1 - 0s - 53ms/step - loss: nan - val_loss: nan\n",
      "Epoch 34/100\n",
      "1/1 - 0s - 50ms/step - loss: nan - val_loss: nan\n",
      "Epoch 35/100\n",
      "1/1 - 0s - 50ms/step - loss: nan - val_loss: nan\n",
      "Epoch 36/100\n",
      "1/1 - 0s - 55ms/step - loss: nan - val_loss: nan\n",
      "Epoch 37/100\n",
      "1/1 - 0s - 55ms/step - loss: nan - val_loss: nan\n",
      "Epoch 38/100\n",
      "1/1 - 0s - 52ms/step - loss: nan - val_loss: nan\n",
      "Epoch 39/100\n",
      "1/1 - 0s - 51ms/step - loss: nan - val_loss: nan\n",
      "Epoch 40/100\n",
      "1/1 - 0s - 51ms/step - loss: nan - val_loss: nan\n",
      "Epoch 41/100\n",
      "1/1 - 0s - 48ms/step - loss: nan - val_loss: nan\n",
      "Epoch 42/100\n",
      "1/1 - 0s - 48ms/step - loss: nan - val_loss: nan\n",
      "Epoch 43/100\n",
      "1/1 - 0s - 58ms/step - loss: nan - val_loss: nan\n",
      "Epoch 44/100\n",
      "1/1 - 0s - 54ms/step - loss: nan - val_loss: nan\n",
      "Epoch 45/100\n",
      "1/1 - 0s - 53ms/step - loss: nan - val_loss: nan\n",
      "Epoch 46/100\n",
      "1/1 - 0s - 54ms/step - loss: nan - val_loss: nan\n",
      "Epoch 47/100\n",
      "1/1 - 0s - 49ms/step - loss: nan - val_loss: nan\n",
      "Epoch 48/100\n",
      "1/1 - 0s - 52ms/step - loss: nan - val_loss: nan\n",
      "Epoch 49/100\n",
      "1/1 - 0s - 57ms/step - loss: nan - val_loss: nan\n",
      "Epoch 50/100\n",
      "1/1 - 0s - 52ms/step - loss: nan - val_loss: nan\n",
      "Epoch 51/100\n",
      "1/1 - 0s - 51ms/step - loss: nan - val_loss: nan\n",
      "Epoch 52/100\n",
      "1/1 - 0s - 58ms/step - loss: nan - val_loss: nan\n",
      "Epoch 53/100\n",
      "1/1 - 0s - 62ms/step - loss: nan - val_loss: nan\n",
      "Epoch 54/100\n",
      "1/1 - 0s - 62ms/step - loss: nan - val_loss: nan\n",
      "Epoch 55/100\n",
      "1/1 - 0s - 78ms/step - loss: nan - val_loss: nan\n",
      "Epoch 56/100\n",
      "1/1 - 0s - 87ms/step - loss: nan - val_loss: nan\n",
      "Epoch 57/100\n",
      "1/1 - 0s - 70ms/step - loss: nan - val_loss: nan\n",
      "Epoch 58/100\n",
      "1/1 - 0s - 62ms/step - loss: nan - val_loss: nan\n",
      "Epoch 59/100\n",
      "1/1 - 0s - 64ms/step - loss: nan - val_loss: nan\n",
      "Epoch 60/100\n",
      "1/1 - 0s - 60ms/step - loss: nan - val_loss: nan\n",
      "Epoch 61/100\n",
      "1/1 - 0s - 70ms/step - loss: nan - val_loss: nan\n",
      "Epoch 62/100\n",
      "1/1 - 0s - 59ms/step - loss: nan - val_loss: nan\n",
      "Epoch 63/100\n",
      "1/1 - 0s - 56ms/step - loss: nan - val_loss: nan\n",
      "Epoch 64/100\n",
      "1/1 - 0s - 58ms/step - loss: nan - val_loss: nan\n",
      "Epoch 65/100\n",
      "1/1 - 0s - 55ms/step - loss: nan - val_loss: nan\n",
      "Epoch 66/100\n",
      "1/1 - 0s - 70ms/step - loss: nan - val_loss: nan\n",
      "Epoch 67/100\n",
      "1/1 - 0s - 50ms/step - loss: nan - val_loss: nan\n",
      "Epoch 68/100\n",
      "1/1 - 0s - 55ms/step - loss: nan - val_loss: nan\n",
      "Epoch 69/100\n",
      "1/1 - 0s - 61ms/step - loss: nan - val_loss: nan\n",
      "Epoch 70/100\n",
      "1/1 - 0s - 49ms/step - loss: nan - val_loss: nan\n",
      "Epoch 71/100\n",
      "1/1 - 0s - 49ms/step - loss: nan - val_loss: nan\n",
      "Epoch 72/100\n",
      "1/1 - 0s - 56ms/step - loss: nan - val_loss: nan\n",
      "Epoch 73/100\n",
      "1/1 - 0s - 57ms/step - loss: nan - val_loss: nan\n",
      "Epoch 74/100\n",
      "1/1 - 0s - 57ms/step - loss: nan - val_loss: nan\n",
      "Epoch 75/100\n",
      "1/1 - 0s - 55ms/step - loss: nan - val_loss: nan\n",
      "Epoch 76/100\n",
      "1/1 - 0s - 53ms/step - loss: nan - val_loss: nan\n",
      "Epoch 77/100\n",
      "1/1 - 0s - 61ms/step - loss: nan - val_loss: nan\n",
      "Epoch 78/100\n",
      "1/1 - 0s - 66ms/step - loss: nan - val_loss: nan\n",
      "Epoch 79/100\n",
      "1/1 - 0s - 58ms/step - loss: nan - val_loss: nan\n",
      "Epoch 80/100\n",
      "1/1 - 0s - 53ms/step - loss: nan - val_loss: nan\n",
      "Epoch 81/100\n",
      "1/1 - 0s - 49ms/step - loss: nan - val_loss: nan\n",
      "Epoch 82/100\n",
      "1/1 - 0s - 50ms/step - loss: nan - val_loss: nan\n",
      "Epoch 83/100\n",
      "1/1 - 0s - 62ms/step - loss: nan - val_loss: nan\n",
      "Epoch 84/100\n",
      "1/1 - 0s - 59ms/step - loss: nan - val_loss: nan\n",
      "Epoch 85/100\n",
      "1/1 - 0s - 56ms/step - loss: nan - val_loss: nan\n",
      "Epoch 86/100\n",
      "1/1 - 0s - 49ms/step - loss: nan - val_loss: nan\n",
      "Epoch 87/100\n",
      "1/1 - 0s - 65ms/step - loss: nan - val_loss: nan\n",
      "Epoch 88/100\n",
      "1/1 - 0s - 58ms/step - loss: nan - val_loss: nan\n",
      "Epoch 89/100\n",
      "1/1 - 0s - 57ms/step - loss: nan - val_loss: nan\n",
      "Epoch 90/100\n",
      "1/1 - 0s - 60ms/step - loss: nan - val_loss: nan\n",
      "Epoch 91/100\n",
      "1/1 - 0s - 53ms/step - loss: nan - val_loss: nan\n",
      "Epoch 92/100\n",
      "1/1 - 0s - 57ms/step - loss: nan - val_loss: nan\n",
      "Epoch 93/100\n",
      "1/1 - 0s - 62ms/step - loss: nan - val_loss: nan\n",
      "Epoch 94/100\n",
      "1/1 - 0s - 72ms/step - loss: nan - val_loss: nan\n",
      "Epoch 95/100\n",
      "1/1 - 0s - 65ms/step - loss: nan - val_loss: nan\n",
      "Epoch 96/100\n",
      "1/1 - 0s - 66ms/step - loss: nan - val_loss: nan\n",
      "Epoch 97/100\n",
      "1/1 - 0s - 51ms/step - loss: nan - val_loss: nan\n",
      "Epoch 98/100\n",
      "1/1 - 0s - 63ms/step - loss: nan - val_loss: nan\n",
      "Epoch 99/100\n",
      "1/1 - 0s - 51ms/step - loss: nan - val_loss: nan\n",
      "Epoch 100/100\n",
      "1/1 - 0s - 51ms/step - loss: nan - val_loss: nan\n"
     ]
    },
    {
     "data": {
      "text/plain": [
       "nan"
      ]
     },
     "execution_count": 4,
     "metadata": {},
     "output_type": "execute_result"
    }
   ],
   "source": [
    "network.compile()\n",
    "history = network.fit_model(verbose=2)\n",
    "network.score"
   ]
  },
  {
   "cell_type": "code",
   "execution_count": 5,
   "metadata": {},
   "outputs": [],
   "source": [
    "nuclei = [pyna.Nucleus(\"h1\"),\n",
    "          pyna.Nucleus(\"he4\"),\n",
    "          pyna.Nucleus(\"c12\"),\n",
    "          pyna.Nucleus(\"o16\"),\n",
    "          pyna.Nucleus(\"n14\"),\n",
    "          pyna.Nucleus(\"ca40\")]\n",
    "\n",
    "reactants = [pyna.Nucleus(\"c12\"), pyna.Nucleus(\"he4\")]\n",
    "\n",
    "comp = pyna.Composition(nuclei=nuclei)\n",
    "comp.set_solar_like()\n",
    "\n",
    "scn_fac = pyna.make_screen_factors(*reactants)"
   ]
  },
  {
   "cell_type": "code",
   "execution_count": 6,
   "metadata": {},
   "outputs": [],
   "source": [
    "dens, temp = 2.e4, 1.5e9\n",
    "\n",
    "plasma = pyna.make_plasma_state(temp, dens, comp.get_molar())"
   ]
  },
  {
   "cell_type": "code",
   "execution_count": 7,
   "metadata": {},
   "outputs": [
    {
     "data": {
      "text/plain": [
       "1.0053474914264091"
      ]
     },
     "execution_count": 7,
     "metadata": {},
     "output_type": "execute_result"
    }
   ],
   "source": [
    "chugunov_2009(plasma, scn_fac)"
   ]
  },
  {
   "cell_type": "code",
   "execution_count": 8,
   "metadata": {},
   "outputs": [
    {
     "data": {
      "text/plain": [
       "array(nan)"
      ]
     },
     "execution_count": 8,
     "metadata": {},
     "output_type": "execute_result"
    }
   ],
   "source": [
    "network.predict(temp=temp, dens=dens, comp=comp, nuclei=reactants)"
   ]
  }
 ],
 "metadata": {
  "kernelspec": {
   "display_name": "Python 3",
   "language": "python",
   "name": "python3"
  },
  "language_info": {
   "codemirror_mode": {
    "name": "ipython",
    "version": 3
   },
   "file_extension": ".py",
   "mimetype": "text/x-python",
   "name": "python",
   "nbconvert_exporter": "python",
   "pygments_lexer": "ipython3",
   "version": "3.12.2"
  }
 },
 "nbformat": 4,
 "nbformat_minor": 2
}
