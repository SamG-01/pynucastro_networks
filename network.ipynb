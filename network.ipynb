{
 "cells": [
  {
   "cell_type": "code",
   "execution_count": 1,
   "metadata": {},
   "outputs": [],
   "source": [
    "from pynucastro.screening import chugunov_2009\n",
    "from keras_network import ScreeningFactorData, ScreeningFactorNetwork\n",
    "\n",
    "import pynucastro as pyna\n",
    "import numpy as np"
   ]
  },
  {
   "cell_type": "code",
   "execution_count": 2,
   "metadata": {},
   "outputs": [],
   "source": [
    "data = ScreeningFactorData(screen_func=chugunov_2009, threshold=1.01, size=10**6, seed=1)"
   ]
  },
  {
   "cell_type": "code",
   "execution_count": 3,
   "metadata": {},
   "outputs": [
    {
     "data": {
      "text/plain": [
       "0.003618333333333279"
      ]
     },
     "execution_count": 3,
     "metadata": {},
     "output_type": "execute_result"
    }
   ],
   "source": [
    "1 - data.frac_pos"
   ]
  },
  {
   "cell_type": "code",
   "execution_count": 4,
   "metadata": {},
   "outputs": [],
   "source": [
    "network = ScreeningFactorNetwork(data=data, seed=1)"
   ]
  },
  {
   "cell_type": "code",
   "execution_count": 5,
   "metadata": {},
   "outputs": [
    {
     "name": "stdout",
     "output_type": "stream",
     "text": [
      "Epoch 1/100\n",
      "489/489 - 7s - 14ms/step - Brier score: 0.1084 - accuracy: 0.8445 - auc: 0.7968 - cross entropy: 0.3399 - fn: 154048.0000 - fp: 1457.0000 - loss: 0.6895 - prc: 0.9989 - precision: 0.9983 - recall: 0.8454 - tn: 2106.0000 - tp: 842389.0000 - val_Brier score: 0.1216 - val_accuracy: 0.8467 - val_auc: 0.9155 - val_cross entropy: 0.3771 - val_fn: 152412.0000 - val_fp: 889.0000 - val_loss: 0.3770 - val_prc: 0.9996 - val_precision: 0.9989 - val_recall: 0.8470 - val_tn: 2778.0000 - val_tp: 843921.0000\n",
      "Epoch 2/100\n",
      "489/489 - 3s - 5ms/step - Brier score: 0.1386 - accuracy: 0.7955 - auc: 0.8773 - cross entropy: 0.4222 - fn: 203629.0000 - fp: 852.0000 - loss: 0.4276 - prc: 0.9995 - precision: 0.9989 - recall: 0.7956 - tn: 2711.0000 - tp: 792808.0000 - val_Brier score: 0.1121 - val_accuracy: 0.8720 - val_auc: 0.9403 - val_cross entropy: 0.3503 - val_fn: 127214.0000 - val_fp: 789.0000 - val_loss: 0.3503 - val_prc: 0.9998 - val_precision: 0.9991 - val_recall: 0.8723 - val_tn: 2878.0000 - val_tp: 869119.0000\n",
      "Epoch 3/100\n",
      "489/489 - 3s - 6ms/step - Brier score: 0.1308 - accuracy: 0.8053 - auc: 0.8955 - cross entropy: 0.3973 - fn: 193952.0000 - fp: 752.0000 - loss: 0.3943 - prc: 0.9996 - precision: 0.9991 - recall: 0.8054 - tn: 2811.0000 - tp: 802485.0000 - val_Brier score: 0.1044 - val_accuracy: 0.8859 - val_auc: 0.9502 - val_cross entropy: 0.3284 - val_fn: 113420.0000 - val_fp: 721.0000 - val_loss: 0.3284 - val_prc: 0.9998 - val_precision: 0.9992 - val_recall: 0.8862 - val_tn: 2946.0000 - val_tp: 882913.0000\n",
      "Epoch 4/100\n",
      "489/489 - 3s - 5ms/step - Brier score: 0.1261 - accuracy: 0.8116 - auc: 0.9026 - cross entropy: 0.3824 - fn: 187660.0000 - fp: 715.0000 - loss: 0.3812 - prc: 0.9996 - precision: 0.9991 - recall: 0.8117 - tn: 2848.0000 - tp: 808777.0000 - val_Brier score: 0.1075 - val_accuracy: 0.8604 - val_auc: 0.9578 - val_cross entropy: 0.3309 - val_fn: 139415.0000 - val_fp: 232.0000 - val_loss: 0.3308 - val_prc: 0.9998 - val_precision: 0.9997 - val_recall: 0.8601 - val_tn: 3435.0000 - val_tp: 856918.0000\n",
      "Epoch 5/100\n",
      "489/489 - 2s - 4ms/step - Brier score: 0.1209 - accuracy: 0.8192 - auc: 0.9127 - cross entropy: 0.3671 - fn: 180142.0000 - fp: 659.0000 - loss: 0.3615 - prc: 0.9996 - precision: 0.9992 - recall: 0.8192 - tn: 2904.0000 - tp: 816295.0000 - val_Brier score: 0.0987 - val_accuracy: 0.8807 - val_auc: 0.9631 - val_cross entropy: 0.3087 - val_fn: 119055.0000 - val_fp: 208.0000 - val_loss: 0.3086 - val_prc: 0.9999 - val_precision: 0.9998 - val_recall: 0.8805 - val_tn: 3459.0000 - val_tp: 877278.0000\n",
      "Epoch 6/100\n",
      "489/489 - 2s - 3ms/step - Brier score: 0.1168 - accuracy: 0.8250 - auc: 0.9189 - cross entropy: 0.3547 - fn: 174344.0000 - fp: 620.0000 - loss: 0.3490 - prc: 0.9997 - precision: 0.9992 - recall: 0.8250 - tn: 2943.0000 - tp: 822093.0000 - val_Brier score: 0.0996 - val_accuracy: 0.8641 - val_auc: 0.9669 - val_cross entropy: 0.3081 - val_fn: 135814.0000 - val_fp: 97.0000 - val_loss: 0.3081 - val_prc: 0.9999 - val_precision: 0.9999 - val_recall: 0.8637 - val_tn: 3570.0000 - val_tp: 860519.0000\n",
      "Epoch 7/100\n",
      "489/489 - 2s - 3ms/step - Brier score: 0.1140 - accuracy: 0.8288 - auc: 0.9231 - cross entropy: 0.3458 - fn: 170606.0000 - fp: 620.0000 - loss: 0.3394 - prc: 0.9997 - precision: 0.9992 - recall: 0.8288 - tn: 2943.0000 - tp: 825831.0000 - val_Brier score: 0.0993 - val_accuracy: 0.8532 - val_auc: 0.9714 - val_cross entropy: 0.3054 - val_fn: 146739.0000 - val_fp: 36.0000 - val_loss: 0.3053 - val_prc: 0.9999 - val_precision: 1.0000 - val_recall: 0.8527 - val_tn: 3631.0000 - val_tp: 849594.0000\n",
      "Epoch 8/100\n",
      "489/489 - 1s - 3ms/step - Brier score: 0.1090 - accuracy: 0.8369 - auc: 0.9310 - cross entropy: 0.3323 - fn: 162605.0000 - fp: 525.0000 - loss: 0.3240 - prc: 0.9997 - precision: 0.9994 - recall: 0.8368 - tn: 3038.0000 - tp: 833832.0000 - val_Brier score: 0.0969 - val_accuracy: 0.8490 - val_auc: 0.9742 - val_cross entropy: 0.2969 - val_fn: 150994.0000 - val_fp: 33.0000 - val_loss: 0.2968 - val_prc: 0.9999 - val_precision: 1.0000 - val_recall: 0.8485 - val_tn: 3634.0000 - val_tp: 845339.0000\n",
      "Epoch 9/100\n",
      "489/489 - 2s - 3ms/step - Brier score: 0.1051 - accuracy: 0.8429 - auc: 0.9357 - cross entropy: 0.3220 - fn: 156575.0000 - fp: 519.0000 - loss: 0.3129 - prc: 0.9997 - precision: 0.9994 - recall: 0.8429 - tn: 3044.0000 - tp: 839862.0000 - val_Brier score: 0.0937 - val_accuracy: 0.8589 - val_auc: 0.9744 - val_cross entropy: 0.2891 - val_fn: 141107.0000 - val_fp: 25.0000 - val_loss: 0.2890 - val_prc: 0.9999 - val_precision: 1.0000 - val_recall: 0.8584 - val_tn: 3642.0000 - val_tp: 855226.0000\n",
      "Epoch 10/100\n",
      "489/489 - 2s - 3ms/step - Brier score: 0.1020 - accuracy: 0.8478 - auc: 0.9405 - cross entropy: 0.3131 - fn: 151767.0000 - fp: 472.0000 - loss: 0.3010 - prc: 0.9998 - precision: 0.9994 - recall: 0.8477 - tn: 3091.0000 - tp: 844670.0000 - val_Brier score: 0.0916 - val_accuracy: 0.8576 - val_auc: 0.9775 - val_cross entropy: 0.2822 - val_fn: 142359.0000 - val_fp: 23.0000 - val_loss: 0.2821 - val_prc: 0.9999 - val_precision: 1.0000 - val_recall: 0.8571 - val_tn: 3644.0000 - val_tp: 853974.0000\n",
      "Epoch 11/100\n",
      "489/489 - 2s - 3ms/step - Brier score: 0.0978 - accuracy: 0.8544 - auc: 0.9448 - cross entropy: 0.3016 - fn: 145147.0000 - fp: 455.0000 - loss: 0.2908 - prc: 0.9998 - precision: 0.9995 - recall: 0.8543 - tn: 3108.0000 - tp: 851290.0000 - val_Brier score: 0.0918 - val_accuracy: 0.8473 - val_auc: 0.9816 - val_cross entropy: 0.2789 - val_fn: 152723.0000 - val_fp: 18.0000 - val_loss: 0.2789 - val_prc: 0.9999 - val_precision: 1.0000 - val_recall: 0.8467 - val_tn: 3649.0000 - val_tp: 843610.0000\n",
      "Epoch 12/100\n",
      "489/489 - 1s - 3ms/step - Brier score: 0.0943 - accuracy: 0.8598 - auc: 0.9487 - cross entropy: 0.2917 - fn: 139760.0000 - fp: 429.0000 - loss: 0.2809 - prc: 0.9998 - precision: 0.9995 - recall: 0.8597 - tn: 3134.0000 - tp: 856677.0000 - val_Brier score: 0.0856 - val_accuracy: 0.8671 - val_auc: 0.9806 - val_cross entropy: 0.2652 - val_fn: 132920.0000 - val_fp: 21.0000 - val_loss: 0.2652 - val_prc: 0.9999 - val_precision: 1.0000 - val_recall: 0.8666 - val_tn: 3646.0000 - val_tp: 863413.0000\n",
      "Epoch 13/100\n",
      "489/489 - 2s - 3ms/step - Brier score: 0.0915 - accuracy: 0.8642 - auc: 0.9532 - cross entropy: 0.2839 - fn: 135426.0000 - fp: 384.0000 - loss: 0.2679 - prc: 0.9998 - precision: 0.9996 - recall: 0.8641 - tn: 3179.0000 - tp: 861011.0000 - val_Brier score: 0.0804 - val_accuracy: 0.8750 - val_auc: 0.9823 - val_cross entropy: 0.2486 - val_fn: 125023.0000 - val_fp: 25.0000 - val_loss: 0.2485 - val_prc: 0.9999 - val_precision: 1.0000 - val_recall: 0.8745 - val_tn: 3642.0000 - val_tp: 871310.0000\n",
      "Epoch 14/100\n",
      "489/489 - 2s - 3ms/step - Brier score: 0.0861 - accuracy: 0.8730 - auc: 0.9583 - cross entropy: 0.2688 - fn: 126701.0000 - fp: 334.0000 - loss: 0.2548 - prc: 0.9998 - precision: 0.9996 - recall: 0.8728 - tn: 3229.0000 - tp: 869736.0000 - val_Brier score: 0.0805 - val_accuracy: 0.8711 - val_auc: 0.9849 - val_cross entropy: 0.2493 - val_fn: 128836.0000 - val_fp: 20.0000 - val_loss: 0.2492 - val_prc: 0.9999 - val_precision: 1.0000 - val_recall: 0.8707 - val_tn: 3647.0000 - val_tp: 867497.0000\n",
      "Epoch 15/100\n",
      "489/489 - 2s - 3ms/step - Brier score: 0.0834 - accuracy: 0.8774 - auc: 0.9615 - cross entropy: 0.2618 - fn: 122305.0000 - fp: 310.0000 - loss: 0.2450 - prc: 0.9999 - precision: 0.9996 - recall: 0.8773 - tn: 3253.0000 - tp: 874132.0000 - val_Brier score: 0.0780 - val_accuracy: 0.8740 - val_auc: 0.9866 - val_cross entropy: 0.2405 - val_fn: 125998.0000 - val_fp: 19.0000 - val_loss: 0.2405 - val_prc: 0.9999 - val_precision: 1.0000 - val_recall: 0.8735 - val_tn: 3648.0000 - val_tp: 870335.0000\n",
      "Epoch 16/100\n",
      "489/489 - 1s - 3ms/step - Brier score: 0.0785 - accuracy: 0.8849 - auc: 0.9661 - cross entropy: 0.2476 - fn: 114809.0000 - fp: 288.0000 - loss: 0.2310 - prc: 0.9999 - precision: 0.9997 - recall: 0.8848 - tn: 3275.0000 - tp: 881628.0000 - val_Brier score: 0.0691 - val_accuracy: 0.8957 - val_auc: 0.9869 - val_cross entropy: 0.2179 - val_fn: 104267.0000 - val_fp: 18.0000 - val_loss: 0.2179 - val_prc: 1.0000 - val_precision: 1.0000 - val_recall: 0.8953 - val_tn: 3649.0000 - val_tp: 892066.0000\n",
      "Epoch 17/100\n",
      "489/489 - 2s - 3ms/step - Brier score: 0.0767 - accuracy: 0.8877 - auc: 0.9671 - cross entropy: 0.2431 - fn: 112057.0000 - fp: 265.0000 - loss: 0.2272 - prc: 0.9999 - precision: 0.9997 - recall: 0.8875 - tn: 3298.0000 - tp: 884380.0000 - val_Brier score: 0.0680 - val_accuracy: 0.8950 - val_auc: 0.9882 - val_cross entropy: 0.2138 - val_fn: 104946.0000 - val_fp: 23.0000 - val_loss: 0.2138 - val_prc: 1.0000 - val_precision: 1.0000 - val_recall: 0.8947 - val_tn: 3644.0000 - val_tp: 891387.0000\n",
      "Epoch 18/100\n",
      "489/489 - 1s - 3ms/step - Brier score: 0.0734 - accuracy: 0.8936 - auc: 0.9700 - cross entropy: 0.2348 - fn: 106132.0000 - fp: 246.0000 - loss: 0.2169 - prc: 0.9999 - precision: 0.9997 - recall: 0.8935 - tn: 3317.0000 - tp: 890305.0000 - val_Brier score: 0.0716 - val_accuracy: 0.8852 - val_auc: 0.9893 - val_cross entropy: 0.2225 - val_fn: 114804.0000 - val_fp: 20.0000 - val_loss: 0.2224 - val_prc: 1.0000 - val_precision: 1.0000 - val_recall: 0.8848 - val_tn: 3647.0000 - val_tp: 881529.0000\n",
      "Epoch 19/100\n",
      "489/489 - 2s - 3ms/step - Brier score: 0.0706 - accuracy: 0.8978 - auc: 0.9723 - cross entropy: 0.2264 - fn: 101996.0000 - fp: 223.0000 - loss: 0.2082 - prc: 0.9999 - precision: 0.9998 - recall: 0.8976 - tn: 3340.0000 - tp: 894441.0000 - val_Brier score: 0.0624 - val_accuracy: 0.9064 - val_auc: 0.9894 - val_cross entropy: 0.1989 - val_fn: 93545.0000 - val_fp: 22.0000 - val_loss: 0.1988 - val_prc: 1.0000 - val_precision: 1.0000 - val_recall: 0.9061 - val_tn: 3645.0000 - val_tp: 902788.0000\n",
      "Epoch 20/100\n",
      "489/489 - 1s - 3ms/step - Brier score: 0.0680 - accuracy: 0.9022 - auc: 0.9741 - cross entropy: 0.2201 - fn: 97555.0000 - fp: 198.0000 - loss: 0.2014 - prc: 0.9999 - precision: 0.9998 - recall: 0.9021 - tn: 3365.0000 - tp: 898882.0000 - val_Brier score: 0.0612 - val_accuracy: 0.9068 - val_auc: 0.9900 - val_cross entropy: 0.1936 - val_fn: 93188.0000 - val_fp: 31.0000 - val_loss: 0.1936 - val_prc: 1.0000 - val_precision: 1.0000 - val_recall: 0.9065 - val_tn: 3636.0000 - val_tp: 903145.0000\n",
      "Epoch 21/100\n",
      "489/489 - 1s - 3ms/step - Brier score: 0.0637 - accuracy: 0.9095 - auc: 0.9769 - cross entropy: 0.2082 - fn: 90316.0000 - fp: 189.0000 - loss: 0.1905 - prc: 0.9999 - precision: 0.9998 - recall: 0.9094 - tn: 3374.0000 - tp: 906121.0000 - val_Brier score: 0.0603 - val_accuracy: 0.9079 - val_auc: 0.9910 - val_cross entropy: 0.1903 - val_fn: 92039.0000 - val_fp: 24.0000 - val_loss: 0.1903 - val_prc: 1.0000 - val_precision: 1.0000 - val_recall: 0.9076 - val_tn: 3643.0000 - val_tp: 904294.0000\n",
      "Epoch 22/100\n",
      "489/489 - 1s - 3ms/step - Brier score: 0.0615 - accuracy: 0.9128 - auc: 0.9788 - cross entropy: 0.2012 - fn: 87001.0000 - fp: 171.0000 - loss: 0.1822 - prc: 0.9999 - precision: 0.9998 - recall: 0.9127 - tn: 3392.0000 - tp: 909436.0000 - val_Brier score: 0.0586 - val_accuracy: 0.9127 - val_auc: 0.9910 - val_cross entropy: 0.1879 - val_fn: 87322.0000 - val_fp: 22.0000 - val_loss: 0.1878 - val_prc: 1.0000 - val_precision: 1.0000 - val_recall: 0.9124 - val_tn: 3645.0000 - val_tp: 909011.0000\n",
      "Epoch 23/100\n",
      "489/489 - 2s - 3ms/step - Brier score: 0.0593 - accuracy: 0.9164 - auc: 0.9800 - cross entropy: 0.1959 - fn: 83396.0000 - fp: 156.0000 - loss: 0.1766 - prc: 0.9999 - precision: 0.9998 - recall: 0.9163 - tn: 3407.0000 - tp: 913041.0000 - val_Brier score: 0.0533 - val_accuracy: 0.9219 - val_auc: 0.9924 - val_cross entropy: 0.1731 - val_fn: 78076.0000 - val_fp: 17.0000 - val_loss: 0.1730 - val_prc: 1.0000 - val_precision: 1.0000 - val_recall: 0.9216 - val_tn: 3650.0000 - val_tp: 918257.0000\n",
      "Epoch 24/100\n",
      "489/489 - 2s - 3ms/step - Brier score: 0.0562 - accuracy: 0.9212 - auc: 0.9818 - cross entropy: 0.1872 - fn: 78663.0000 - fp: 161.0000 - loss: 0.1680 - prc: 0.9999 - precision: 0.9998 - recall: 0.9211 - tn: 3402.0000 - tp: 917774.0000 - val_Brier score: 0.0503 - val_accuracy: 0.9286 - val_auc: 0.9923 - val_cross entropy: 0.1669 - val_fn: 71349.0000 - val_fp: 12.0000 - val_loss: 0.1669 - val_prc: 1.0000 - val_precision: 1.0000 - val_recall: 0.9284 - val_tn: 3655.0000 - val_tp: 924984.0000\n",
      "Epoch 25/100\n",
      "489/489 - 2s - 3ms/step - Brier score: 0.0545 - accuracy: 0.9240 - auc: 0.9830 - cross entropy: 0.1819 - fn: 75879.0000 - fp: 131.0000 - loss: 0.1621 - prc: 0.9999 - precision: 0.9999 - recall: 0.9238 - tn: 3432.0000 - tp: 920558.0000 - val_Brier score: 0.0484 - val_accuracy: 0.9310 - val_auc: 0.9929 - val_cross entropy: 0.1608 - val_fn: 68970.0000 - val_fp: 17.0000 - val_loss: 0.1608 - val_prc: 1.0000 - val_precision: 1.0000 - val_recall: 0.9308 - val_tn: 3650.0000 - val_tp: 927363.0000\n",
      "Epoch 26/100\n",
      "489/489 - 2s - 3ms/step - Brier score: 0.0526 - accuracy: 0.9270 - auc: 0.9834 - cross entropy: 0.1772 - fn: 72885.0000 - fp: 162.0000 - loss: 0.1593 - prc: 0.9999 - precision: 0.9998 - recall: 0.9269 - tn: 3401.0000 - tp: 923552.0000 - val_Brier score: 0.0453 - val_accuracy: 0.9354 - val_auc: 0.9936 - val_cross entropy: 0.1501 - val_fn: 64546.0000 - val_fp: 15.0000 - val_loss: 0.1501 - val_prc: 1.0000 - val_precision: 1.0000 - val_recall: 0.9352 - val_tn: 3652.0000 - val_tp: 931787.0000\n",
      "Epoch 27/100\n",
      "489/489 - 1s - 3ms/step - Brier score: 0.0513 - accuracy: 0.9290 - auc: 0.9840 - cross entropy: 0.1738 - fn: 70841.0000 - fp: 134.0000 - loss: 0.1556 - prc: 0.9999 - precision: 0.9999 - recall: 0.9289 - tn: 3429.0000 - tp: 925596.0000 - val_Brier score: 0.0470 - val_accuracy: 0.9327 - val_auc: 0.9938 - val_cross entropy: 0.1555 - val_fn: 67296.0000 - val_fp: 10.0000 - val_loss: 0.1554 - val_prc: 1.0000 - val_precision: 1.0000 - val_recall: 0.9325 - val_tn: 3657.0000 - val_tp: 929037.0000\n",
      "Epoch 28/100\n",
      "489/489 - 2s - 3ms/step - Brier score: 0.0493 - accuracy: 0.9319 - auc: 0.9853 - cross entropy: 0.1677 - fn: 67992.0000 - fp: 126.0000 - loss: 0.1486 - prc: 0.9999 - precision: 0.9999 - recall: 0.9318 - tn: 3437.0000 - tp: 928445.0000 - val_Brier score: 0.0407 - val_accuracy: 0.9433 - val_auc: 0.9943 - val_cross entropy: 0.1377 - val_fn: 56666.0000 - val_fp: 14.0000 - val_loss: 0.1376 - val_prc: 1.0000 - val_precision: 1.0000 - val_recall: 0.9431 - val_tn: 3653.0000 - val_tp: 939667.0000\n",
      "Epoch 29/100\n",
      "489/489 - 2s - 3ms/step - Brier score: 0.0468 - accuracy: 0.9359 - auc: 0.9865 - cross entropy: 0.1601 - fn: 63972.0000 - fp: 111.0000 - loss: 0.1422 - prc: 1.0000 - precision: 0.9999 - recall: 0.9358 - tn: 3452.0000 - tp: 932465.0000 - val_Brier score: 0.0476 - val_accuracy: 0.9317 - val_auc: 0.9945 - val_cross entropy: 0.1572 - val_fn: 68266.0000 - val_fp: 10.0000 - val_loss: 0.1572 - val_prc: 1.0000 - val_precision: 1.0000 - val_recall: 0.9315 - val_tn: 3657.0000 - val_tp: 928067.0000\n",
      "Epoch 30/100\n",
      "489/489 - 2s - 3ms/step - Brier score: 0.0459 - accuracy: 0.9370 - auc: 0.9871 - cross entropy: 0.1581 - fn: 62887.0000 - fp: 103.0000 - loss: 0.1376 - prc: 1.0000 - precision: 0.9999 - recall: 0.9369 - tn: 3460.0000 - tp: 933550.0000 - val_Brier score: 0.0393 - val_accuracy: 0.9452 - val_auc: 0.9949 - val_cross entropy: 0.1336 - val_fn: 54838.0000 - val_fp: 10.0000 - val_loss: 0.1336 - val_prc: 1.0000 - val_precision: 1.0000 - val_recall: 0.9450 - val_tn: 3657.0000 - val_tp: 941495.0000\n",
      "Epoch 31/100\n",
      "489/489 - 2s - 3ms/step - Brier score: 0.0436 - accuracy: 0.9407 - auc: 0.9883 - cross entropy: 0.1507 - fn: 59173.0000 - fp: 96.0000 - loss: 0.1311 - prc: 1.0000 - precision: 0.9999 - recall: 0.9406 - tn: 3467.0000 - tp: 937264.0000 - val_Brier score: 0.0422 - val_accuracy: 0.9406 - val_auc: 0.9950 - val_cross entropy: 0.1418 - val_fn: 59379.0000 - val_fp: 6.0000 - val_loss: 0.1418 - val_prc: 1.0000 - val_precision: 1.0000 - val_recall: 0.9404 - val_tn: 3661.0000 - val_tp: 936954.0000\n",
      "Epoch 32/100\n",
      "489/489 - 2s - 3ms/step - Brier score: 0.0425 - accuracy: 0.9424 - auc: 0.9885 - cross entropy: 0.1477 - fn: 57502.0000 - fp: 107.0000 - loss: 0.1296 - prc: 1.0000 - precision: 0.9999 - recall: 0.9423 - tn: 3456.0000 - tp: 938935.0000 - val_Brier score: 0.0381 - val_accuracy: 0.9479 - val_auc: 0.9953 - val_cross entropy: 0.1319 - val_fn: 52109.0000 - val_fp: 5.0000 - val_loss: 0.1319 - val_prc: 1.0000 - val_precision: 1.0000 - val_recall: 0.9477 - val_tn: 3662.0000 - val_tp: 944224.0000\n",
      "Epoch 33/100\n",
      "489/489 - 1s - 3ms/step - Brier score: 0.0410 - accuracy: 0.9447 - auc: 0.9892 - cross entropy: 0.1442 - fn: 55176.0000 - fp: 91.0000 - loss: 0.1251 - prc: 1.0000 - precision: 0.9999 - recall: 0.9446 - tn: 3472.0000 - tp: 941261.0000 - val_Brier score: 0.0354 - val_accuracy: 0.9514 - val_auc: 0.9957 - val_cross entropy: 0.1222 - val_fn: 48558.0000 - val_fp: 7.0000 - val_loss: 0.1222 - val_prc: 1.0000 - val_precision: 1.0000 - val_recall: 0.9513 - val_tn: 3660.0000 - val_tp: 947775.0000\n",
      "Epoch 34/100\n",
      "489/489 - 1s - 3ms/step - Brier score: 0.0404 - accuracy: 0.9455 - auc: 0.9892 - cross entropy: 0.1419 - fn: 54402.0000 - fp: 102.0000 - loss: 0.1246 - prc: 1.0000 - precision: 0.9999 - recall: 0.9454 - tn: 3461.0000 - tp: 942035.0000 - val_Brier score: 0.0345 - val_accuracy: 0.9526 - val_auc: 0.9961 - val_cross entropy: 0.1191 - val_fn: 47432.0000 - val_fp: 6.0000 - val_loss: 0.1191 - val_prc: 1.0000 - val_precision: 1.0000 - val_recall: 0.9524 - val_tn: 3661.0000 - val_tp: 948901.0000\n",
      "Epoch 35/100\n",
      "489/489 - 2s - 3ms/step - Brier score: 0.0392 - accuracy: 0.9472 - auc: 0.9898 - cross entropy: 0.1381 - fn: 52673.0000 - fp: 94.0000 - loss: 0.1205 - prc: 1.0000 - precision: 0.9999 - recall: 0.9471 - tn: 3469.0000 - tp: 943764.0000 - val_Brier score: 0.0335 - val_accuracy: 0.9543 - val_auc: 0.9959 - val_cross entropy: 0.1166 - val_fn: 45670.0000 - val_fp: 7.0000 - val_loss: 0.1165 - val_prc: 1.0000 - val_precision: 1.0000 - val_recall: 0.9542 - val_tn: 3660.0000 - val_tp: 950663.0000\n",
      "Epoch 36/100\n",
      "489/489 - 1s - 3ms/step - Brier score: 0.0375 - accuracy: 0.9497 - auc: 0.9906 - cross entropy: 0.1332 - fn: 50185.0000 - fp: 103.0000 - loss: 0.1154 - prc: 1.0000 - precision: 0.9999 - recall: 0.9496 - tn: 3460.0000 - tp: 946252.0000 - val_Brier score: 0.0330 - val_accuracy: 0.9551 - val_auc: 0.9962 - val_cross entropy: 0.1154 - val_fn: 44912.0000 - val_fp: 6.0000 - val_loss: 0.1153 - val_prc: 1.0000 - val_precision: 1.0000 - val_recall: 0.9549 - val_tn: 3661.0000 - val_tp: 951421.0000\n",
      "Epoch 37/100\n",
      "489/489 - 2s - 3ms/step - Brier score: 0.0370 - accuracy: 0.9504 - auc: 0.9907 - cross entropy: 0.1318 - fn: 49513.0000 - fp: 75.0000 - loss: 0.1131 - prc: 1.0000 - precision: 0.9999 - recall: 0.9503 - tn: 3488.0000 - tp: 946924.0000 - val_Brier score: 0.0338 - val_accuracy: 0.9541 - val_auc: 0.9963 - val_cross entropy: 0.1183 - val_fn: 45865.0000 - val_fp: 5.0000 - val_loss: 0.1183 - val_prc: 1.0000 - val_precision: 1.0000 - val_recall: 0.9540 - val_tn: 3662.0000 - val_tp: 950468.0000\n",
      "Epoch 38/100\n",
      "489/489 - 2s - 3ms/step - Brier score: 0.0367 - accuracy: 0.9511 - auc: 0.9907 - cross entropy: 0.1314 - fn: 48827.0000 - fp: 88.0000 - loss: 0.1134 - prc: 1.0000 - precision: 0.9999 - recall: 0.9510 - tn: 3475.0000 - tp: 947610.0000 - val_Brier score: 0.0321 - val_accuracy: 0.9560 - val_auc: 0.9969 - val_cross entropy: 0.1110 - val_fn: 44038.0000 - val_fp: 3.0000 - val_loss: 0.1110 - val_prc: 1.0000 - val_precision: 1.0000 - val_recall: 0.9558 - val_tn: 3664.0000 - val_tp: 952295.0000\n",
      "Epoch 39/100\n",
      "489/489 - 2s - 3ms/step - Brier score: 0.0361 - accuracy: 0.9520 - auc: 0.9911 - cross entropy: 0.1293 - fn: 47873.0000 - fp: 83.0000 - loss: 0.1112 - prc: 1.0000 - precision: 0.9999 - recall: 0.9520 - tn: 3480.0000 - tp: 948564.0000 - val_Brier score: 0.0306 - val_accuracy: 0.9587 - val_auc: 0.9970 - val_cross entropy: 0.1075 - val_fn: 41325.0000 - val_fp: 2.0000 - val_loss: 0.1075 - val_prc: 1.0000 - val_precision: 1.0000 - val_recall: 0.9585 - val_tn: 3665.0000 - val_tp: 955008.0000\n",
      "Epoch 40/100\n",
      "489/489 - 1s - 3ms/step - Brier score: 0.0343 - accuracy: 0.9544 - auc: 0.9918 - cross entropy: 0.1237 - fn: 45531.0000 - fp: 83.0000 - loss: 0.1060 - prc: 1.0000 - precision: 0.9999 - recall: 0.9543 - tn: 3480.0000 - tp: 950906.0000 - val_Brier score: 0.0343 - val_accuracy: 0.9531 - val_auc: 0.9969 - val_cross entropy: 0.1186 - val_fn: 46927.0000 - val_fp: 2.0000 - val_loss: 0.1185 - val_prc: 1.0000 - val_precision: 1.0000 - val_recall: 0.9529 - val_tn: 3665.0000 - val_tp: 949406.0000\n",
      "Epoch 41/100\n",
      "489/489 - 2s - 3ms/step - Brier score: 0.0342 - accuracy: 0.9546 - auc: 0.9918 - cross entropy: 0.1233 - fn: 45390.0000 - fp: 54.0000 - loss: 0.1047 - prc: 1.0000 - precision: 0.9999 - recall: 0.9544 - tn: 3509.0000 - tp: 951047.0000 - val_Brier score: 0.0334 - val_accuracy: 0.9546 - val_auc: 0.9971 - val_cross entropy: 0.1154 - val_fn: 45405.0000 - val_fp: 3.0000 - val_loss: 0.1154 - val_prc: 1.0000 - val_precision: 1.0000 - val_recall: 0.9544 - val_tn: 3664.0000 - val_tp: 950928.0000\n",
      "Epoch 42/100\n",
      "489/489 - 2s - 3ms/step - Brier score: 0.0329 - accuracy: 0.9565 - auc: 0.9925 - cross entropy: 0.1190 - fn: 43444.0000 - fp: 69.0000 - loss: 0.1002 - prc: 1.0000 - precision: 0.9999 - recall: 0.9564 - tn: 3494.0000 - tp: 952993.0000 - val_Brier score: 0.0288 - val_accuracy: 0.9609 - val_auc: 0.9974 - val_cross entropy: 0.1010 - val_fn: 39102.0000 - val_fp: 2.0000 - val_loss: 0.1009 - val_prc: 1.0000 - val_precision: 1.0000 - val_recall: 0.9608 - val_tn: 3665.0000 - val_tp: 957231.0000\n",
      "Epoch 43/100\n",
      "489/489 - 1s - 3ms/step - Brier score: 0.0330 - accuracy: 0.9563 - auc: 0.9922 - cross entropy: 0.1200 - fn: 43638.0000 - fp: 84.0000 - loss: 0.1023 - prc: 1.0000 - precision: 0.9999 - recall: 0.9562 - tn: 3479.0000 - tp: 952799.0000 - val_Brier score: 0.0292 - val_accuracy: 0.9604 - val_auc: 0.9974 - val_cross entropy: 0.1027 - val_fn: 39595.0000 - val_fp: 1.0000 - val_loss: 0.1027 - val_prc: 1.0000 - val_precision: 1.0000 - val_recall: 0.9603 - val_tn: 3666.0000 - val_tp: 956738.0000\n",
      "Epoch 44/100\n",
      "489/489 - 2s - 3ms/step - Brier score: 0.0320 - accuracy: 0.9578 - auc: 0.9926 - cross entropy: 0.1171 - fn: 42120.0000 - fp: 70.0000 - loss: 0.0989 - prc: 1.0000 - precision: 0.9999 - recall: 0.9577 - tn: 3493.0000 - tp: 954317.0000 - val_Brier score: 0.0254 - val_accuracy: 0.9664 - val_auc: 0.9972 - val_cross entropy: 0.0924 - val_fn: 33603.0000 - val_fp: 2.0000 - val_loss: 0.0924 - val_prc: 1.0000 - val_precision: 1.0000 - val_recall: 0.9663 - val_tn: 3665.0000 - val_tp: 962730.0000\n",
      "Epoch 45/100\n",
      "489/489 - 2s - 3ms/step - Brier score: 0.0314 - accuracy: 0.9587 - auc: 0.9927 - cross entropy: 0.1155 - fn: 41256.0000 - fp: 73.0000 - loss: 0.0979 - prc: 1.0000 - precision: 0.9999 - recall: 0.9586 - tn: 3490.0000 - tp: 955181.0000 - val_Brier score: 0.0265 - val_accuracy: 0.9647 - val_auc: 0.9976 - val_cross entropy: 0.0955 - val_fn: 35284.0000 - val_fp: 1.0000 - val_loss: 0.0955 - val_prc: 1.0000 - val_precision: 1.0000 - val_recall: 0.9646 - val_tn: 3666.0000 - val_tp: 961049.0000\n",
      "Epoch 46/100\n",
      "489/489 - 2s - 3ms/step - Brier score: 0.0306 - accuracy: 0.9596 - auc: 0.9931 - cross entropy: 0.1128 - fn: 40347.0000 - fp: 64.0000 - loss: 0.0947 - prc: 1.0000 - precision: 0.9999 - recall: 0.9595 - tn: 3499.0000 - tp: 956090.0000 - val_Brier score: 0.0289 - val_accuracy: 0.9613 - val_auc: 0.9975 - val_cross entropy: 0.1033 - val_fn: 38676.0000 - val_fp: 1.0000 - val_loss: 0.1032 - val_prc: 1.0000 - val_precision: 1.0000 - val_recall: 0.9612 - val_tn: 3666.0000 - val_tp: 957657.0000\n",
      "Epoch 47/100\n",
      "489/489 - 2s - 3ms/step - Brier score: 0.0307 - accuracy: 0.9597 - auc: 0.9931 - cross entropy: 0.1130 - fn: 40270.0000 - fp: 66.0000 - loss: 0.0939 - prc: 1.0000 - precision: 0.9999 - recall: 0.9596 - tn: 3497.0000 - tp: 956167.0000 - val_Brier score: 0.0272 - val_accuracy: 0.9636 - val_auc: 0.9977 - val_cross entropy: 0.0963 - val_fn: 36435.0000 - val_fp: 1.0000 - val_loss: 0.0963 - val_prc: 1.0000 - val_precision: 1.0000 - val_recall: 0.9634 - val_tn: 3666.0000 - val_tp: 959898.0000\n",
      "Epoch 48/100\n",
      "489/489 - 1s - 3ms/step - Brier score: 0.0300 - accuracy: 0.9605 - auc: 0.9933 - cross entropy: 0.1106 - fn: 39431.0000 - fp: 72.0000 - loss: 0.0936 - prc: 1.0000 - precision: 0.9999 - recall: 0.9604 - tn: 3491.0000 - tp: 957006.0000 - val_Brier score: 0.0280 - val_accuracy: 0.9623 - val_auc: 0.9979 - val_cross entropy: 0.0985 - val_fn: 37699.0000 - val_fp: 1.0000 - val_loss: 0.0984 - val_prc: 1.0000 - val_precision: 1.0000 - val_recall: 0.9622 - val_tn: 3666.0000 - val_tp: 958634.0000\n",
      "Epoch 49/100\n",
      "489/489 - 2s - 3ms/step - Brier score: 0.0298 - accuracy: 0.9610 - auc: 0.9931 - cross entropy: 0.1105 - fn: 38947.0000 - fp: 52.0000 - loss: 0.0928 - prc: 1.0000 - precision: 0.9999 - recall: 0.9609 - tn: 3511.0000 - tp: 957490.0000 - val_Brier score: 0.0242 - val_accuracy: 0.9676 - val_auc: 0.9980 - val_cross entropy: 0.0870 - val_fn: 32376.0000 - val_fp: 3.0000 - val_loss: 0.0869 - val_prc: 1.0000 - val_precision: 1.0000 - val_recall: 0.9675 - val_tn: 3664.0000 - val_tp: 963957.0000\n",
      "Epoch 50/100\n",
      "489/489 - 1s - 3ms/step - Brier score: 0.0290 - accuracy: 0.9620 - auc: 0.9936 - cross entropy: 0.1079 - fn: 37908.0000 - fp: 78.0000 - loss: 0.0906 - prc: 1.0000 - precision: 0.9999 - recall: 0.9620 - tn: 3485.0000 - tp: 958529.0000 - val_Brier score: 0.0234 - val_accuracy: 0.9691 - val_auc: 0.9979 - val_cross entropy: 0.0857 - val_fn: 30943.0000 - val_fp: 1.0000 - val_loss: 0.0856 - val_prc: 1.0000 - val_precision: 1.0000 - val_recall: 0.9689 - val_tn: 3666.0000 - val_tp: 965390.0000\n",
      "Epoch 51/100\n",
      "489/489 - 1s - 3ms/step - Brier score: 0.0286 - accuracy: 0.9626 - auc: 0.9936 - cross entropy: 0.1071 - fn: 37305.0000 - fp: 74.0000 - loss: 0.0904 - prc: 1.0000 - precision: 0.9999 - recall: 0.9626 - tn: 3489.0000 - tp: 959132.0000 - val_Brier score: 0.0241 - val_accuracy: 0.9678 - val_auc: 0.9982 - val_cross entropy: 0.0866 - val_fn: 32244.0000 - val_fp: 1.0000 - val_loss: 0.0866 - val_prc: 1.0000 - val_precision: 1.0000 - val_recall: 0.9676 - val_tn: 3666.0000 - val_tp: 964089.0000\n",
      "Epoch 52/100\n",
      "489/489 - 2s - 3ms/step - Brier score: 0.0279 - accuracy: 0.9636 - auc: 0.9940 - cross entropy: 0.1047 - fn: 36352.0000 - fp: 76.0000 - loss: 0.0876 - prc: 1.0000 - precision: 0.9999 - recall: 0.9635 - tn: 3487.0000 - tp: 960085.0000 - val_Brier score: 0.0249 - val_accuracy: 0.9669 - val_auc: 0.9982 - val_cross entropy: 0.0901 - val_fn: 33053.0000 - val_fp: 1.0000 - val_loss: 0.0901 - val_prc: 1.0000 - val_precision: 1.0000 - val_recall: 0.9668 - val_tn: 3666.0000 - val_tp: 963280.0000\n",
      "Epoch 53/100\n",
      "489/489 - 2s - 3ms/step - Brier score: 0.0282 - accuracy: 0.9632 - auc: 0.9939 - cross entropy: 0.1055 - fn: 36747.0000 - fp: 70.0000 - loss: 0.0881 - prc: 1.0000 - precision: 0.9999 - recall: 0.9631 - tn: 3493.0000 - tp: 959690.0000 - val_Brier score: 0.0225 - val_accuracy: 0.9702 - val_auc: 0.9981 - val_cross entropy: 0.0827 - val_fn: 29820.0000 - val_fp: 1.0000 - val_loss: 0.0826 - val_prc: 1.0000 - val_precision: 1.0000 - val_recall: 0.9701 - val_tn: 3666.0000 - val_tp: 966513.0000\n",
      "Epoch 54/100\n",
      "489/489 - 1s - 3ms/step - Brier score: 0.0269 - accuracy: 0.9649 - auc: 0.9943 - cross entropy: 0.1011 - fn: 35046.0000 - fp: 51.0000 - loss: 0.0839 - prc: 1.0000 - precision: 0.9999 - recall: 0.9648 - tn: 3512.0000 - tp: 961391.0000 - val_Brier score: 0.0237 - val_accuracy: 0.9686 - val_auc: 0.9984 - val_cross entropy: 0.0858 - val_fn: 31431.0000 - val_fp: 1.0000 - val_loss: 0.0858 - val_prc: 1.0000 - val_precision: 1.0000 - val_recall: 0.9685 - val_tn: 3666.0000 - val_tp: 964902.0000\n",
      "Epoch 55/100\n",
      "489/489 - 1s - 3ms/step - Brier score: 0.0271 - accuracy: 0.9648 - auc: 0.9942 - cross entropy: 0.1022 - fn: 35154.0000 - fp: 55.0000 - loss: 0.0843 - prc: 1.0000 - precision: 0.9999 - recall: 0.9647 - tn: 3508.0000 - tp: 961283.0000 - val_Brier score: 0.0211 - val_accuracy: 0.9718 - val_auc: 0.9985 - val_cross entropy: 0.0765 - val_fn: 28180.0000 - val_fp: 2.0000 - val_loss: 0.0764 - val_prc: 1.0000 - val_precision: 1.0000 - val_recall: 0.9717 - val_tn: 3665.0000 - val_tp: 968153.0000\n",
      "Epoch 56/100\n",
      "489/489 - 1s - 3ms/step - Brier score: 0.0260 - accuracy: 0.9662 - auc: 0.9946 - cross entropy: 0.0983 - fn: 33740.0000 - fp: 48.0000 - loss: 0.0802 - prc: 1.0000 - precision: 1.0000 - recall: 0.9661 - tn: 3515.0000 - tp: 962697.0000 - val_Brier score: 0.0221 - val_accuracy: 0.9709 - val_auc: 0.9981 - val_cross entropy: 0.0818 - val_fn: 29098.0000 - val_fp: 1.0000 - val_loss: 0.0817 - val_prc: 1.0000 - val_precision: 1.0000 - val_recall: 0.9708 - val_tn: 3666.0000 - val_tp: 967235.0000\n",
      "Epoch 57/100\n",
      "489/489 - 2s - 3ms/step - Brier score: 0.0263 - accuracy: 0.9658 - auc: 0.9945 - cross entropy: 0.0997 - fn: 34100.0000 - fp: 68.0000 - loss: 0.0832 - prc: 1.0000 - precision: 0.9999 - recall: 0.9658 - tn: 3495.0000 - tp: 962337.0000 - val_Brier score: 0.0235 - val_accuracy: 0.9690 - val_auc: 0.9984 - val_cross entropy: 0.0859 - val_fn: 31048.0000 - val_fp: 1.0000 - val_loss: 0.0859 - val_prc: 1.0000 - val_precision: 1.0000 - val_recall: 0.9688 - val_tn: 3666.0000 - val_tp: 965285.0000\n",
      "Epoch 58/100\n",
      "489/489 - 2s - 3ms/step - Brier score: 0.0257 - accuracy: 0.9667 - auc: 0.9946 - cross entropy: 0.0979 - fn: 33248.0000 - fp: 54.0000 - loss: 0.0800 - prc: 1.0000 - precision: 0.9999 - recall: 0.9666 - tn: 3509.0000 - tp: 963189.0000 - val_Brier score: 0.0243 - val_accuracy: 0.9676 - val_auc: 0.9985 - val_cross entropy: 0.0872 - val_fn: 32420.0000 - val_fp: 1.0000 - val_loss: 0.0872 - val_prc: 1.0000 - val_precision: 1.0000 - val_recall: 0.9675 - val_tn: 3666.0000 - val_tp: 963913.0000\n",
      "Epoch 59/100\n",
      "489/489 - 2s - 3ms/step - Brier score: 0.0261 - accuracy: 0.9662 - auc: 0.9944 - cross entropy: 0.0994 - fn: 33703.0000 - fp: 60.0000 - loss: 0.0818 - prc: 1.0000 - precision: 0.9999 - recall: 0.9662 - tn: 3503.0000 - tp: 962734.0000 - val_Brier score: 0.0231 - val_accuracy: 0.9692 - val_auc: 0.9985 - val_cross entropy: 0.0836 - val_fn: 30842.0000 - val_fp: 2.0000 - val_loss: 0.0835 - val_prc: 1.0000 - val_precision: 1.0000 - val_recall: 0.9690 - val_tn: 3665.0000 - val_tp: 965491.0000\n",
      "Epoch 60/100\n",
      "489/489 - 2s - 3ms/step - Brier score: 0.0250 - accuracy: 0.9676 - auc: 0.9949 - cross entropy: 0.0956 - fn: 32316.0000 - fp: 53.0000 - loss: 0.0783 - prc: 1.0000 - precision: 0.9999 - recall: 0.9676 - tn: 3510.0000 - tp: 964121.0000 - val_Brier score: 0.0253 - val_accuracy: 0.9665 - val_auc: 0.9986 - val_cross entropy: 0.0909 - val_fn: 33493.0000 - val_fp: 1.0000 - val_loss: 0.0908 - val_prc: 1.0000 - val_precision: 1.0000 - val_recall: 0.9664 - val_tn: 3666.0000 - val_tp: 962840.0000\n",
      "Epoch 61/100\n",
      "489/489 - 2s - 3ms/step - Brier score: 0.0256 - accuracy: 0.9670 - auc: 0.9945 - cross entropy: 0.0982 - fn: 32929.0000 - fp: 76.0000 - loss: 0.0826 - prc: 1.0000 - precision: 0.9999 - recall: 0.9670 - tn: 3487.0000 - tp: 963508.0000 - val_Brier score: 0.0209 - val_accuracy: 0.9726 - val_auc: 0.9984 - val_cross entropy: 0.0777 - val_fn: 27381.0000 - val_fp: 1.0000 - val_loss: 0.0777 - val_prc: 1.0000 - val_precision: 1.0000 - val_recall: 0.9725 - val_tn: 3666.0000 - val_tp: 968952.0000\n",
      "Epoch 62/100\n",
      "489/489 - 1s - 3ms/step - Brier score: 0.0243 - accuracy: 0.9687 - auc: 0.9949 - cross entropy: 0.0936 - fn: 31294.0000 - fp: 53.0000 - loss: 0.0768 - prc: 1.0000 - precision: 0.9999 - recall: 0.9686 - tn: 3510.0000 - tp: 965143.0000 - val_Brier score: 0.0211 - val_accuracy: 0.9723 - val_auc: 0.9984 - val_cross entropy: 0.0777 - val_fn: 27696.0000 - val_fp: 1.0000 - val_loss: 0.0776 - val_prc: 1.0000 - val_precision: 1.0000 - val_recall: 0.9722 - val_tn: 3666.0000 - val_tp: 968637.0000\n",
      "Epoch 63/100\n",
      "489/489 - 1s - 3ms/step - Brier score: 0.0241 - accuracy: 0.9690 - auc: 0.9950 - cross entropy: 0.0929 - fn: 30974.0000 - fp: 54.0000 - loss: 0.0760 - prc: 1.0000 - precision: 0.9999 - recall: 0.9689 - tn: 3509.0000 - tp: 965463.0000 - val_Brier score: 0.0233 - val_accuracy: 0.9692 - val_auc: 0.9985 - val_cross entropy: 0.0863 - val_fn: 30775.0000 - val_fp: 1.0000 - val_loss: 0.0862 - val_prc: 1.0000 - val_precision: 1.0000 - val_recall: 0.9691 - val_tn: 3666.0000 - val_tp: 965558.0000\n",
      "Epoch 64/100\n",
      "489/489 - 2s - 3ms/step - Brier score: 0.0244 - accuracy: 0.9684 - auc: 0.9950 - cross entropy: 0.0943 - fn: 31570.0000 - fp: 62.0000 - loss: 0.0776 - prc: 1.0000 - precision: 0.9999 - recall: 0.9683 - tn: 3501.0000 - tp: 964867.0000 - val_Brier score: 0.0210 - val_accuracy: 0.9724 - val_auc: 0.9986 - val_cross entropy: 0.0779 - val_fn: 27555.0000 - val_fp: 1.0000 - val_loss: 0.0779 - val_prc: 1.0000 - val_precision: 1.0000 - val_recall: 0.9723 - val_tn: 3666.0000 - val_tp: 968778.0000\n",
      "Epoch 65/100\n",
      "489/489 - 2s - 3ms/step - Brier score: 0.0240 - accuracy: 0.9691 - auc: 0.9950 - cross entropy: 0.0928 - fn: 30863.0000 - fp: 55.0000 - loss: 0.0758 - prc: 1.0000 - precision: 0.9999 - recall: 0.9690 - tn: 3508.0000 - tp: 965574.0000 - val_Brier score: 0.0212 - val_accuracy: 0.9724 - val_auc: 0.9982 - val_cross entropy: 0.0796 - val_fn: 27571.0000 - val_fp: 1.0000 - val_loss: 0.0796 - val_prc: 1.0000 - val_precision: 1.0000 - val_recall: 0.9723 - val_tn: 3666.0000 - val_tp: 968762.0000\n",
      "Epoch 66/100\n",
      "489/489 - 1s - 3ms/step - Brier score: 0.0245 - accuracy: 0.9685 - auc: 0.9947 - cross entropy: 0.0953 - fn: 31471.0000 - fp: 57.0000 - loss: 0.0781 - prc: 1.0000 - precision: 0.9999 - recall: 0.9684 - tn: 3506.0000 - tp: 964966.0000 - val_Brier score: 0.0215 - val_accuracy: 0.9720 - val_auc: 0.9985 - val_cross entropy: 0.0804 - val_fn: 28037.0000 - val_fp: 1.0000 - val_loss: 0.0804 - val_prc: 1.0000 - val_precision: 1.0000 - val_recall: 0.9719 - val_tn: 3666.0000 - val_tp: 968296.0000\n",
      "Epoch 67/100\n",
      "489/489 - 1s - 3ms/step - Brier score: 0.0233 - accuracy: 0.9700 - auc: 0.9953 - cross entropy: 0.0910 - fn: 29896.0000 - fp: 59.0000 - loss: 0.0744 - prc: 1.0000 - precision: 0.9999 - recall: 0.9700 - tn: 3504.0000 - tp: 966541.0000 - val_Brier score: 0.0206 - val_accuracy: 0.9729 - val_auc: 0.9988 - val_cross entropy: 0.0764 - val_fn: 27069.0000 - val_fp: 1.0000 - val_loss: 0.0764 - val_prc: 1.0000 - val_precision: 1.0000 - val_recall: 0.9728 - val_tn: 3666.0000 - val_tp: 969264.0000\n",
      "Epoch 68/100\n",
      "489/489 - 2s - 3ms/step - Brier score: 0.0232 - accuracy: 0.9701 - auc: 0.9951 - cross entropy: 0.0904 - fn: 29855.0000 - fp: 56.0000 - loss: 0.0755 - prc: 1.0000 - precision: 0.9999 - recall: 0.9700 - tn: 3507.0000 - tp: 966582.0000 - val_Brier score: 0.0235 - val_accuracy: 0.9690 - val_auc: 0.9986 - val_cross entropy: 0.0864 - val_fn: 30955.0000 - val_fp: 0.0000e+00 - val_loss: 0.0864 - val_prc: 1.0000 - val_precision: 1.0000 - val_recall: 0.9689 - val_tn: 3667.0000 - val_tp: 965378.0000\n",
      "Epoch 69/100\n",
      "489/489 - 2s - 3ms/step - Brier score: 0.0237 - accuracy: 0.9696 - auc: 0.9951 - cross entropy: 0.0922 - fn: 30324.0000 - fp: 64.0000 - loss: 0.0750 - prc: 1.0000 - precision: 0.9999 - recall: 0.9696 - tn: 3499.0000 - tp: 966113.0000 - val_Brier score: 0.0220 - val_accuracy: 0.9711 - val_auc: 0.9987 - val_cross entropy: 0.0806 - val_fn: 28866.0000 - val_fp: 1.0000 - val_loss: 0.0805 - val_prc: 1.0000 - val_precision: 1.0000 - val_recall: 0.9710 - val_tn: 3666.0000 - val_tp: 967467.0000\n",
      "Epoch 70/100\n",
      "489/489 - 2s - 3ms/step - Brier score: 0.0232 - accuracy: 0.9701 - auc: 0.9952 - cross entropy: 0.0910 - fn: 29823.0000 - fp: 61.0000 - loss: 0.0746 - prc: 1.0000 - precision: 0.9999 - recall: 0.9701 - tn: 3502.0000 - tp: 966614.0000 - val_Brier score: 0.0234 - val_accuracy: 0.9694 - val_auc: 0.9987 - val_cross entropy: 0.0865 - val_fn: 30556.0000 - val_fp: 1.0000 - val_loss: 0.0864 - val_prc: 1.0000 - val_precision: 1.0000 - val_recall: 0.9693 - val_tn: 3666.0000 - val_tp: 965777.0000\n",
      "Epoch 71/100\n",
      "489/489 - 1s - 3ms/step - Brier score: 0.0231 - accuracy: 0.9704 - auc: 0.9952 - cross entropy: 0.0910 - fn: 29497.0000 - fp: 54.0000 - loss: 0.0745 - prc: 1.0000 - precision: 0.9999 - recall: 0.9704 - tn: 3509.0000 - tp: 966940.0000 - val_Brier score: 0.0220 - val_accuracy: 0.9713 - val_auc: 0.9988 - val_cross entropy: 0.0814 - val_fn: 28657.0000 - val_fp: 1.0000 - val_loss: 0.0814 - val_prc: 1.0000 - val_precision: 1.0000 - val_recall: 0.9712 - val_tn: 3666.0000 - val_tp: 967676.0000\n",
      "Epoch 72/100\n",
      "489/489 - 2s - 3ms/step - Brier score: 0.0230 - accuracy: 0.9704 - auc: 0.9953 - cross entropy: 0.0905 - fn: 29519.0000 - fp: 60.0000 - loss: 0.0741 - prc: 1.0000 - precision: 0.9999 - recall: 0.9704 - tn: 3503.0000 - tp: 966918.0000 - val_Brier score: 0.0240 - val_accuracy: 0.9686 - val_auc: 0.9986 - val_cross entropy: 0.0883 - val_fn: 31371.0000 - val_fp: 1.0000 - val_loss: 0.0882 - val_prc: 1.0000 - val_precision: 1.0000 - val_recall: 0.9685 - val_tn: 3666.0000 - val_tp: 964962.0000\n",
      "Epoch 73/100\n",
      "489/489 - 2s - 3ms/step - Brier score: 0.0227 - accuracy: 0.9711 - auc: 0.9953 - cross entropy: 0.0895 - fn: 28859.0000 - fp: 54.0000 - loss: 0.0731 - prc: 1.0000 - precision: 0.9999 - recall: 0.9710 - tn: 3509.0000 - tp: 967578.0000 - val_Brier score: 0.0216 - val_accuracy: 0.9719 - val_auc: 0.9985 - val_cross entropy: 0.0809 - val_fn: 28126.0000 - val_fp: 1.0000 - val_loss: 0.0809 - val_prc: 1.0000 - val_precision: 1.0000 - val_recall: 0.9718 - val_tn: 3666.0000 - val_tp: 968207.0000\n",
      "Epoch 74/100\n",
      "489/489 - 1s - 3ms/step - Brier score: 0.0225 - accuracy: 0.9713 - auc: 0.9953 - cross entropy: 0.0890 - fn: 28686.0000 - fp: 55.0000 - loss: 0.0735 - prc: 1.0000 - precision: 0.9999 - recall: 0.9712 - tn: 3508.0000 - tp: 967751.0000 - val_Brier score: 0.0205 - val_accuracy: 0.9733 - val_auc: 0.9988 - val_cross entropy: 0.0768 - val_fn: 26726.0000 - val_fp: 0.0000e+00 - val_loss: 0.0768 - val_prc: 1.0000 - val_precision: 1.0000 - val_recall: 0.9732 - val_tn: 3667.0000 - val_tp: 969607.0000\n",
      "Epoch 75/100\n",
      "489/489 - 1s - 3ms/step - Brier score: 0.0217 - accuracy: 0.9724 - auc: 0.9957 - cross entropy: 0.0859 - fn: 27557.0000 - fp: 38.0000 - loss: 0.0684 - prc: 1.0000 - precision: 1.0000 - recall: 0.9723 - tn: 3525.0000 - tp: 968880.0000 - val_Brier score: 0.0181 - val_accuracy: 0.9763 - val_auc: 0.9989 - val_cross entropy: 0.0680 - val_fn: 23658.0000 - val_fp: 1.0000 - val_loss: 0.0679 - val_prc: 1.0000 - val_precision: 1.0000 - val_recall: 0.9763 - val_tn: 3666.0000 - val_tp: 972675.0000\n",
      "Epoch 76/100\n",
      "489/489 - 2s - 3ms/step - Brier score: 0.0217 - accuracy: 0.9723 - auc: 0.9956 - cross entropy: 0.0856 - fn: 27619.0000 - fp: 59.0000 - loss: 0.0700 - prc: 1.0000 - precision: 0.9999 - recall: 0.9723 - tn: 3504.0000 - tp: 968818.0000 - val_Brier score: 0.0196 - val_accuracy: 0.9745 - val_auc: 0.9988 - val_cross entropy: 0.0733 - val_fn: 25466.0000 - val_fp: 1.0000 - val_loss: 0.0733 - val_prc: 1.0000 - val_precision: 1.0000 - val_recall: 0.9744 - val_tn: 3666.0000 - val_tp: 970867.0000\n",
      "Epoch 77/100\n",
      "489/489 - 2s - 3ms/step - Brier score: 0.0223 - accuracy: 0.9716 - auc: 0.9954 - cross entropy: 0.0885 - fn: 28347.0000 - fp: 62.0000 - loss: 0.0724 - prc: 1.0000 - precision: 0.9999 - recall: 0.9716 - tn: 3501.0000 - tp: 968090.0000 - val_Brier score: 0.0221 - val_accuracy: 0.9711 - val_auc: 0.9989 - val_cross entropy: 0.0821 - val_fn: 28941.0000 - val_fp: 1.0000 - val_loss: 0.0820 - val_prc: 1.0000 - val_precision: 1.0000 - val_recall: 0.9710 - val_tn: 3666.0000 - val_tp: 967392.0000\n",
      "Epoch 78/100\n",
      "489/489 - 2s - 3ms/step - Brier score: 0.0216 - accuracy: 0.9723 - auc: 0.9957 - cross entropy: 0.0858 - fn: 27633.0000 - fp: 54.0000 - loss: 0.0698 - prc: 1.0000 - precision: 0.9999 - recall: 0.9723 - tn: 3509.0000 - tp: 968804.0000 - val_Brier score: 0.0201 - val_accuracy: 0.9737 - val_auc: 0.9989 - val_cross entropy: 0.0747 - val_fn: 26288.0000 - val_fp: 1.0000 - val_loss: 0.0746 - val_prc: 1.0000 - val_precision: 1.0000 - val_recall: 0.9736 - val_tn: 3666.0000 - val_tp: 970045.0000\n",
      "Epoch 79/100\n",
      "489/489 - 1s - 3ms/step - Brier score: 0.0214 - accuracy: 0.9726 - auc: 0.9957 - cross entropy: 0.0851 - fn: 27366.0000 - fp: 47.0000 - loss: 0.0687 - prc: 1.0000 - precision: 1.0000 - recall: 0.9725 - tn: 3516.0000 - tp: 969071.0000 - val_Brier score: 0.0213 - val_accuracy: 0.9724 - val_auc: 0.9987 - val_cross entropy: 0.0804 - val_fn: 27577.0000 - val_fp: 0.0000e+00 - val_loss: 0.0803 - val_prc: 1.0000 - val_precision: 1.0000 - val_recall: 0.9723 - val_tn: 3667.0000 - val_tp: 968756.0000\n",
      "Epoch 80/100\n",
      "489/489 - 2s - 3ms/step - Brier score: 0.0216 - accuracy: 0.9726 - auc: 0.9956 - cross entropy: 0.0867 - fn: 27333.0000 - fp: 52.0000 - loss: 0.0702 - prc: 1.0000 - precision: 0.9999 - recall: 0.9726 - tn: 3511.0000 - tp: 969104.0000 - val_Brier score: 0.0218 - val_accuracy: 0.9718 - val_auc: 0.9988 - val_cross entropy: 0.0825 - val_fn: 28229.0000 - val_fp: 0.0000e+00 - val_loss: 0.0825 - val_prc: 1.0000 - val_precision: 1.0000 - val_recall: 0.9717 - val_tn: 3667.0000 - val_tp: 968104.0000\n",
      "Epoch 81/100\n",
      "489/489 - 2s - 3ms/step - Brier score: 0.0213 - accuracy: 0.9729 - auc: 0.9957 - cross entropy: 0.0859 - fn: 27072.0000 - fp: 59.0000 - loss: 0.0694 - prc: 1.0000 - precision: 0.9999 - recall: 0.9728 - tn: 3504.0000 - tp: 969365.0000 - val_Brier score: 0.0188 - val_accuracy: 0.9756 - val_auc: 0.9987 - val_cross entropy: 0.0714 - val_fn: 24379.0000 - val_fp: 1.0000 - val_loss: 0.0714 - val_prc: 1.0000 - val_precision: 1.0000 - val_recall: 0.9755 - val_tn: 3666.0000 - val_tp: 971954.0000\n",
      "Epoch 82/100\n",
      "489/489 - 2s - 3ms/step - Brier score: 0.0218 - accuracy: 0.9722 - auc: 0.9956 - cross entropy: 0.0874 - fn: 27712.0000 - fp: 57.0000 - loss: 0.0709 - prc: 1.0000 - precision: 0.9999 - recall: 0.9722 - tn: 3506.0000 - tp: 968725.0000 - val_Brier score: 0.0185 - val_accuracy: 0.9761 - val_auc: 0.9988 - val_cross entropy: 0.0700 - val_fn: 23934.0000 - val_fp: 1.0000 - val_loss: 0.0700 - val_prc: 1.0000 - val_precision: 1.0000 - val_recall: 0.9760 - val_tn: 3666.0000 - val_tp: 972399.0000\n",
      "Epoch 83/100\n",
      "489/489 - 1s - 3ms/step - Brier score: 0.0216 - accuracy: 0.9726 - auc: 0.9957 - cross entropy: 0.0868 - fn: 27333.0000 - fp: 60.0000 - loss: 0.0694 - prc: 1.0000 - precision: 0.9999 - recall: 0.9726 - tn: 3503.0000 - tp: 969104.0000 - val_Brier score: 0.0212 - val_accuracy: 0.9725 - val_auc: 0.9988 - val_cross entropy: 0.0796 - val_fn: 27471.0000 - val_fp: 1.0000 - val_loss: 0.0795 - val_prc: 1.0000 - val_precision: 1.0000 - val_recall: 0.9724 - val_tn: 3666.0000 - val_tp: 968862.0000\n",
      "Epoch 84/100\n",
      "489/489 - 2s - 3ms/step - Brier score: 0.0205 - accuracy: 0.9739 - auc: 0.9960 - cross entropy: 0.0829 - fn: 26048.0000 - fp: 49.0000 - loss: 0.0661 - prc: 1.0000 - precision: 0.9999 - recall: 0.9739 - tn: 3514.0000 - tp: 970389.0000 - val_Brier score: 0.0159 - val_accuracy: 0.9793 - val_auc: 0.9991 - val_cross entropy: 0.0604 - val_fn: 20666.0000 - val_fp: 1.0000 - val_loss: 0.0604 - val_prc: 1.0000 - val_precision: 1.0000 - val_recall: 0.9793 - val_tn: 3666.0000 - val_tp: 975667.0000\n",
      "Epoch 85/100\n",
      "489/489 - 2s - 3ms/step - Brier score: 0.0213 - accuracy: 0.9730 - auc: 0.9956 - cross entropy: 0.0862 - fn: 26960.0000 - fp: 51.0000 - loss: 0.0692 - prc: 1.0000 - precision: 0.9999 - recall: 0.9729 - tn: 3512.0000 - tp: 969477.0000 - val_Brier score: 0.0192 - val_accuracy: 0.9753 - val_auc: 0.9988 - val_cross entropy: 0.0738 - val_fn: 24745.0000 - val_fp: 0.0000e+00 - val_loss: 0.0738 - val_prc: 1.0000 - val_precision: 1.0000 - val_recall: 0.9752 - val_tn: 3667.0000 - val_tp: 971588.0000\n",
      "Epoch 86/100\n",
      "489/489 - 2s - 3ms/step - Brier score: 0.0206 - accuracy: 0.9740 - auc: 0.9958 - cross entropy: 0.0832 - fn: 25989.0000 - fp: 43.0000 - loss: 0.0679 - prc: 1.0000 - precision: 1.0000 - recall: 0.9739 - tn: 3520.0000 - tp: 970448.0000 - val_Brier score: 0.0168 - val_accuracy: 0.9781 - val_auc: 0.9990 - val_cross entropy: 0.0638 - val_fn: 21879.0000 - val_fp: 1.0000 - val_loss: 0.0637 - val_prc: 1.0000 - val_precision: 1.0000 - val_recall: 0.9780 - val_tn: 3666.0000 - val_tp: 974454.0000\n",
      "Epoch 87/100\n",
      "489/489 - 2s - 3ms/step - Brier score: 0.0211 - accuracy: 0.9733 - auc: 0.9957 - cross entropy: 0.0856 - fn: 26632.0000 - fp: 62.0000 - loss: 0.0697 - prc: 1.0000 - precision: 0.9999 - recall: 0.9733 - tn: 3501.0000 - tp: 969805.0000 - val_Brier score: 0.0226 - val_accuracy: 0.9706 - val_auc: 0.9990 - val_cross entropy: 0.0847 - val_fn: 29372.0000 - val_fp: 1.0000 - val_loss: 0.0846 - val_prc: 1.0000 - val_precision: 1.0000 - val_recall: 0.9705 - val_tn: 3666.0000 - val_tp: 966961.0000\n",
      "Epoch 88/100\n",
      "489/489 - 2s - 3ms/step - Brier score: 0.0210 - accuracy: 0.9734 - auc: 0.9956 - cross entropy: 0.0851 - fn: 26559.0000 - fp: 57.0000 - loss: 0.0694 - prc: 1.0000 - precision: 0.9999 - recall: 0.9733 - tn: 3506.0000 - tp: 969878.0000 - val_Brier score: 0.0221 - val_accuracy: 0.9713 - val_auc: 0.9988 - val_cross entropy: 0.0823 - val_fn: 28747.0000 - val_fp: 1.0000 - val_loss: 0.0823 - val_prc: 1.0000 - val_precision: 1.0000 - val_recall: 0.9711 - val_tn: 3666.0000 - val_tp: 967586.0000\n",
      "Epoch 89/100\n",
      "489/489 - 2s - 3ms/step - Brier score: 0.0203 - accuracy: 0.9743 - auc: 0.9959 - cross entropy: 0.0831 - fn: 25655.0000 - fp: 44.0000 - loss: 0.0656 - prc: 1.0000 - precision: 1.0000 - recall: 0.9743 - tn: 3519.0000 - tp: 970782.0000 - val_Brier score: 0.0171 - val_accuracy: 0.9779 - val_auc: 0.9988 - val_cross entropy: 0.0653 - val_fn: 22128.0000 - val_fp: 1.0000 - val_loss: 0.0653 - val_prc: 1.0000 - val_precision: 1.0000 - val_recall: 0.9778 - val_tn: 3666.0000 - val_tp: 974205.0000\n",
      "Epoch 90/100\n",
      "489/489 - 2s - 3ms/step - Brier score: 0.0202 - accuracy: 0.9746 - auc: 0.9958 - cross entropy: 0.0825 - fn: 25364.0000 - fp: 63.0000 - loss: 0.0679 - prc: 1.0000 - precision: 0.9999 - recall: 0.9745 - tn: 3500.0000 - tp: 971073.0000 - val_Brier score: 0.0210 - val_accuracy: 0.9730 - val_auc: 0.9988 - val_cross entropy: 0.0804 - val_fn: 26968.0000 - val_fp: 0.0000e+00 - val_loss: 0.0804 - val_prc: 1.0000 - val_precision: 1.0000 - val_recall: 0.9729 - val_tn: 3667.0000 - val_tp: 969365.0000\n",
      "Epoch 91/100\n",
      "489/489 - 1s - 3ms/step - Brier score: 0.0206 - accuracy: 0.9740 - auc: 0.9958 - cross entropy: 0.0848 - fn: 25952.0000 - fp: 39.0000 - loss: 0.0663 - prc: 1.0000 - precision: 1.0000 - recall: 0.9740 - tn: 3524.0000 - tp: 970485.0000 - val_Brier score: 0.0176 - val_accuracy: 0.9772 - val_auc: 0.9990 - val_cross entropy: 0.0668 - val_fn: 22812.0000 - val_fp: 1.0000 - val_loss: 0.0668 - val_prc: 1.0000 - val_precision: 1.0000 - val_recall: 0.9771 - val_tn: 3666.0000 - val_tp: 973521.0000\n",
      "Epoch 92/100\n",
      "489/489 - 2s - 3ms/step - Brier score: 0.0198 - accuracy: 0.9750 - auc: 0.9961 - cross entropy: 0.0809 - fn: 24970.0000 - fp: 42.0000 - loss: 0.0636 - prc: 1.0000 - precision: 1.0000 - recall: 0.9749 - tn: 3521.0000 - tp: 971467.0000 - val_Brier score: 0.0201 - val_accuracy: 0.9740 - val_auc: 0.9990 - val_cross entropy: 0.0752 - val_fn: 26006.0000 - val_fp: 1.0000 - val_loss: 0.0752 - val_prc: 1.0000 - val_precision: 1.0000 - val_recall: 0.9739 - val_tn: 3666.0000 - val_tp: 970327.0000\n",
      "Epoch 93/100\n",
      "489/489 - 2s - 3ms/step - Brier score: 0.0199 - accuracy: 0.9748 - auc: 0.9960 - cross entropy: 0.0814 - fn: 25186.0000 - fp: 51.0000 - loss: 0.0656 - prc: 1.0000 - precision: 0.9999 - recall: 0.9747 - tn: 3512.0000 - tp: 971251.0000 - val_Brier score: 0.0196 - val_accuracy: 0.9749 - val_auc: 0.9988 - val_cross entropy: 0.0752 - val_fn: 25097.0000 - val_fp: 0.0000e+00 - val_loss: 0.0752 - val_prc: 1.0000 - val_precision: 1.0000 - val_recall: 0.9748 - val_tn: 3667.0000 - val_tp: 971236.0000\n",
      "Epoch 94/100\n",
      "489/489 - 2s - 3ms/step - Brier score: 0.0208 - accuracy: 0.9737 - auc: 0.9957 - cross entropy: 0.0856 - fn: 26253.0000 - fp: 66.0000 - loss: 0.0692 - prc: 1.0000 - precision: 0.9999 - recall: 0.9737 - tn: 3497.0000 - tp: 970184.0000 - val_Brier score: 0.0186 - val_accuracy: 0.9764 - val_auc: 0.9986 - val_cross entropy: 0.0734 - val_fn: 23649.0000 - val_fp: 1.0000 - val_loss: 0.0734 - val_prc: 1.0000 - val_precision: 1.0000 - val_recall: 0.9763 - val_tn: 3666.0000 - val_tp: 972684.0000\n",
      "Epoch 94: early stopping\n",
      "Restoring model weights from the end of the best epoch: 84.\n"
     ]
    },
    {
     "data": {
      "text/plain": [
       "[0.06077270209789276,\n",
       " 0.015987329185009003,\n",
       " 0.9790390133857727,\n",
       " 0.9990506172180176,\n",
       " 0.06077270209789276,\n",
       " 20959.0,\n",
       " 2.0,\n",
       " 0.9999966025352478,\n",
       " 0.9999979734420776,\n",
       " 0.9789647459983826,\n",
       " 3623.0,\n",
       " 975416.0]"
      ]
     },
     "execution_count": 5,
     "metadata": {},
     "output_type": "execute_result"
    }
   ],
   "source": [
    "network.compile()\n",
    "history = network.fit_model(verbose=2)\n",
    "network.score"
   ]
  },
  {
   "cell_type": "code",
   "execution_count": 6,
   "metadata": {},
   "outputs": [],
   "source": [
    "nuclei = [pyna.Nucleus(\"h1\"),\n",
    "          pyna.Nucleus(\"he4\"),\n",
    "          pyna.Nucleus(\"c12\"),\n",
    "          pyna.Nucleus(\"o16\"),\n",
    "          pyna.Nucleus(\"n14\"),\n",
    "          pyna.Nucleus(\"ca40\")]\n",
    "\n",
    "reactants = [pyna.Nucleus(\"c12\"), pyna.Nucleus(\"he4\")]\n",
    "\n",
    "comp = pyna.Composition(nuclei=nuclei)\n",
    "comp.set_solar_like()\n",
    "\n",
    "scn_fac = pyna.make_screen_factors(*reactants)"
   ]
  },
  {
   "cell_type": "code",
   "execution_count": 7,
   "metadata": {},
   "outputs": [],
   "source": [
    "dens, temp = 2.e4, 1.5e9\n",
    "\n",
    "plasma = pyna.make_plasma_state(temp, dens, comp.get_molar())"
   ]
  },
  {
   "cell_type": "code",
   "execution_count": 8,
   "metadata": {},
   "outputs": [
    {
     "data": {
      "text/plain": [
       "1.0053474914264091"
      ]
     },
     "execution_count": 8,
     "metadata": {},
     "output_type": "execute_result"
    }
   ],
   "source": [
    "chugunov_2009(plasma, scn_fac)"
   ]
  },
  {
   "cell_type": "code",
   "execution_count": 9,
   "metadata": {},
   "outputs": [
    {
     "data": {
      "text/plain": [
       "array(True)"
      ]
     },
     "execution_count": 9,
     "metadata": {},
     "output_type": "execute_result"
    }
   ],
   "source": [
    "network.predict(temp=temp, dens=dens, comp=comp, nuclei=reactants)"
   ]
  },
  {
   "cell_type": "code",
   "execution_count": 10,
   "metadata": {},
   "outputs": [],
   "source": [
    "T_, D_ = 10**np.linspace(8, 11), 10**np.linspace(4, 8)\n",
    "T, D = np.meshgrid(T_, D_)"
   ]
  },
  {
   "cell_type": "code",
   "execution_count": 11,
   "metadata": {},
   "outputs": [],
   "source": [
    "#network.predict(temp=T, dens=D, comp=comp, nuclei=reactants)"
   ]
  },
  {
   "cell_type": "code",
   "execution_count": 12,
   "metadata": {},
   "outputs": [
    {
     "data": {
      "text/plain": [
       "array([[ 9.86040323e+00,  4.93746392e+00,  9.08862473e+00, ...,\n",
       "         6.56607644e+00,  2.36600246e+00,  4.77081146e+00],\n",
       "       [ 8.04518199e+00,  6.56226335e+00, -5.56400146e-01, ...,\n",
       "         1.64825761e+01,  7.65136314e+01,  1.45974167e+02],\n",
       "       [ 9.90176196e+00,  4.48713677e+00,  5.10196244e+00, ...,\n",
       "         3.92391698e+00,  3.80509160e+01,  8.23997105e+01],\n",
       "       ...,\n",
       "       [ 9.97870813e+00,  6.09682196e+00, -8.93683810e-02, ...,\n",
       "         8.11545750e+01,  1.00828016e+02,  2.04913659e+02],\n",
       "       [ 9.28597810e+00,  4.87511388e+00, -4.03114348e-01, ...,\n",
       "         1.44143294e+02,  7.97685245e+01,  1.58287424e+02],\n",
       "       [ 9.91091690e+00,  5.91187649e+00, -2.45845303e-01, ...,\n",
       "         1.46335049e+02,  8.82915907e+01,  1.68039142e+02]])"
      ]
     },
     "execution_count": 12,
     "metadata": {},
     "output_type": "execute_result"
    }
   ],
   "source": [
    "x_test = data.x[\"test\"]\n",
    "hits = x_test[(data.y[\"test\"] == 0).flatten()]\n",
    "hits"
   ]
  }
 ],
 "metadata": {
  "kernelspec": {
   "display_name": "Python 3",
   "language": "python",
   "name": "python3"
  },
  "language_info": {
   "codemirror_mode": {
    "name": "ipython",
    "version": 3
   },
   "file_extension": ".py",
   "mimetype": "text/x-python",
   "name": "python",
   "nbconvert_exporter": "python",
   "pygments_lexer": "ipython3",
   "version": "3.12.2"
  }
 },
 "nbformat": 4,
 "nbformat_minor": 2
}
