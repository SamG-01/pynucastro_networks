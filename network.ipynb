{
 "cells": [
  {
   "cell_type": "code",
   "execution_count": null,
   "metadata": {},
   "outputs": [],
   "source": [
    "from pynucastro.screening import chugunov_2009\n",
    "from keras_network import ScreeningFactorData, ScreeningFactorNetwork\n",
    "\n",
    "import pynucastro as pyna\n",
    "import numpy as np"
   ]
  },
  {
   "cell_type": "code",
   "execution_count": null,
   "metadata": {},
   "outputs": [],
   "source": [
    "data = ScreeningFactorData(screen_func=chugunov_2009, size=10**6, seed=1)"
   ]
  },
  {
   "cell_type": "code",
   "execution_count": null,
   "metadata": {},
   "outputs": [],
   "source": [
    "1 - data.frac_pos"
   ]
  },
  {
   "cell_type": "code",
   "execution_count": null,
   "metadata": {},
   "outputs": [],
   "source": [
    "network = ScreeningFactorNetwork(data=data, seed=1)"
   ]
  },
  {
   "cell_type": "code",
   "execution_count": null,
   "metadata": {},
   "outputs": [],
   "source": [
    "network.compile()\n",
    "history = network.fit_model(verbose=2)\n",
    "network.score"
   ]
  },
  {
   "cell_type": "code",
   "execution_count": null,
   "metadata": {},
   "outputs": [],
   "source": [
    "nuclei = [pyna.Nucleus(\"h1\"),\n",
    "          pyna.Nucleus(\"he4\"),\n",
    "          pyna.Nucleus(\"c12\"),\n",
    "          pyna.Nucleus(\"o16\"),\n",
    "          pyna.Nucleus(\"n14\"),\n",
    "          pyna.Nucleus(\"ca40\")]\n",
    "\n",
    "reactants = [pyna.Nucleus(\"c12\"), pyna.Nucleus(\"he4\")]\n",
    "\n",
    "comp = pyna.Composition(nuclei=nuclei)\n",
    "comp.set_solar_like()\n",
    "\n",
    "scn_fac = pyna.make_screen_factors(*reactants)"
   ]
  },
  {
   "cell_type": "code",
   "execution_count": null,
   "metadata": {},
   "outputs": [],
   "source": [
    "dens, temp = 2.e4, 1.5e9\n",
    "\n",
    "plasma = pyna.make_plasma_state(temp, dens, comp.get_molar())"
   ]
  },
  {
   "cell_type": "code",
   "execution_count": null,
   "metadata": {},
   "outputs": [],
   "source": [
    "chugunov_2009(plasma, scn_fac)"
   ]
  },
  {
   "cell_type": "code",
   "execution_count": null,
   "metadata": {},
   "outputs": [],
   "source": [
    "network.predict(temp=temp, dens=dens, comp=comp, nuclei=reactants)"
   ]
  }
 ],
 "metadata": {
  "kernelspec": {
   "display_name": "Python 3",
   "language": "python",
   "name": "python3"
  },
  "language_info": {
   "codemirror_mode": {
    "name": "ipython",
    "version": 3
   },
   "file_extension": ".py",
   "mimetype": "text/x-python",
   "name": "python",
   "nbconvert_exporter": "python",
   "pygments_lexer": "ipython3",
   "version": "3.12.2"
  }
 },
 "nbformat": 4,
 "nbformat_minor": 2
}
