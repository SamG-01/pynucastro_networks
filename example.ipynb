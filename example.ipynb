{
 "cells": [
  {
   "cell_type": "code",
   "execution_count": 1,
   "metadata": {},
   "outputs": [],
   "source": [
    "from ScreeningFactorData import CompositionData, ScreeningFactorData\n",
    "from ScreeningFactorNetwork import ScreeningFactorNetwork\n",
    "import pynucastro as pyna\n",
    "import numpy as np"
   ]
  },
  {
   "cell_type": "code",
   "execution_count": 2,
   "metadata": {},
   "outputs": [],
   "source": [
    "nuclei = [\"h1\", \"he4\", \"c12\", \"o16\", \"n14\", \"ca40\"]\n",
    "num_nuclei = len(nuclei)\n",
    "comp = pyna.Composition([pyna.Nucleus(n) for n in nuclei])\n",
    "\n",
    "reactants = [\"c12\", \"he4\"]\n",
    "\n",
    "temp_range = (1.e7, 1.e10)\n",
    "dens_range = (1.e4, 1.e8)\n",
    "\n",
    "input_kwargs = {\n",
    "    \"temperature_range\": temp_range,\n",
    "    \"density_range\": dens_range,\n",
    "    \"num_nuclei\": num_nuclei,\n",
    "    \"size\": 10**5\n",
    "}\n",
    "\n",
    "output_kwargs = {\n",
    "    \"comp\": comp,\n",
    "    \"reactants\": reactants,\n",
    "    \"threshold\": 1.01\n",
    "}"
   ]
  },
  {
   "cell_type": "code",
   "execution_count": 3,
   "metadata": {},
   "outputs": [],
   "source": [
    "training = ScreeningFactorData(\n",
    "    inputs=CompositionData(**input_kwargs, seed=0),\n",
    "    **output_kwargs\n",
    ")\n",
    "testing = ScreeningFactorData(\n",
    "    inputs=CompositionData(**input_kwargs, seed=1),\n",
    "    **output_kwargs\n",
    ")"
   ]
  },
  {
   "cell_type": "code",
   "execution_count": 4,
   "metadata": {},
   "outputs": [
    {
     "data": {
      "text/plain": [
       "array([[0.63696169, 0.60699537, 0.10167085, ..., 0.28562701, 0.0544318 ,\n",
       "        0.12996116],\n",
       "       [0.26978671, 0.21254401, 0.10483623, ..., 0.44504448, 0.0438048 ,\n",
       "        0.01901465],\n",
       "       [0.04097352, 0.55624315, 0.1967304 , ..., 0.32866369, 0.05964874,\n",
       "        0.35713564],\n",
       "       ...,\n",
       "       [0.77706236, 0.05828959, 0.27655458, ..., 0.16259219, 0.07665661,\n",
       "        0.0426203 ],\n",
       "       [0.57903921, 0.73793846, 0.23899268, ..., 0.04268075, 0.23729338,\n",
       "        0.09504649],\n",
       "       [0.50626261, 0.44679832, 0.14992474, ..., 0.01028611, 0.29169643,\n",
       "        0.12387776]])"
      ]
     },
     "execution_count": 4,
     "metadata": {},
     "output_type": "execute_result"
    }
   ],
   "source": [
    "training.inputs.x"
   ]
  },
  {
   "cell_type": "code",
   "execution_count": 5,
   "metadata": {},
   "outputs": [],
   "source": [
    "network = ScreeningFactorNetwork(\n",
    "    training_data=training,\n",
    "    testing_data=testing,\n",
    "    seed=0\n",
    ")"
   ]
  },
  {
   "cell_type": "code",
   "execution_count": 6,
   "metadata": {},
   "outputs": [
    {
     "name": "stdout",
     "output_type": "stream",
     "text": [
      "Epoch 1/20\n",
      "425/425 - 3s - 7ms/step - accuracy: 0.9723 - loss: 0.0688 - val_accuracy: 0.9933 - val_loss: 0.0250\n",
      "Epoch 2/20\n",
      "425/425 - 2s - 5ms/step - accuracy: 0.9858 - loss: 0.0327 - val_accuracy: 0.9877 - val_loss: 0.0246\n",
      "Epoch 3/20\n",
      "425/425 - 2s - 5ms/step - accuracy: 0.9881 - loss: 0.0275 - val_accuracy: 0.9947 - val_loss: 0.0164\n",
      "Epoch 4/20\n",
      "425/425 - 2s - 5ms/step - accuracy: 0.9895 - loss: 0.0249 - val_accuracy: 0.9955 - val_loss: 0.0139\n",
      "Epoch 5/20\n",
      "425/425 - 2s - 5ms/step - accuracy: 0.9901 - loss: 0.0226 - val_accuracy: 0.9970 - val_loss: 0.0118\n",
      "Epoch 6/20\n",
      "425/425 - 2s - 5ms/step - accuracy: 0.9907 - loss: 0.0213 - val_accuracy: 0.9964 - val_loss: 0.0117\n",
      "Epoch 7/20\n",
      "425/425 - 2s - 5ms/step - accuracy: 0.9910 - loss: 0.0203 - val_accuracy: 0.9972 - val_loss: 0.0110\n",
      "Epoch 8/20\n",
      "425/425 - 2s - 5ms/step - accuracy: 0.9916 - loss: 0.0198 - val_accuracy: 0.9981 - val_loss: 0.0103\n",
      "Epoch 9/20\n",
      "425/425 - 2s - 6ms/step - accuracy: 0.9920 - loss: 0.0189 - val_accuracy: 0.9981 - val_loss: 0.0106\n",
      "Epoch 10/20\n",
      "425/425 - 2s - 5ms/step - accuracy: 0.9926 - loss: 0.0176 - val_accuracy: 0.9924 - val_loss: 0.0150\n"
     ]
    }
   ],
   "source": [
    "network.fit_model(verbose=2)"
   ]
  },
  {
   "cell_type": "code",
   "execution_count": 7,
   "metadata": {},
   "outputs": [
    {
     "name": "stdout",
     "output_type": "stream",
     "text": [
      "\u001b[1m1/1\u001b[0m \u001b[32m━━━━━━━━━━━━━━━━━━━━\u001b[0m\u001b[37m\u001b[0m \u001b[1m0s\u001b[0m 64ms/step\n"
     ]
    },
    {
     "data": {
      "text/plain": [
       "array([[9.187461e-20, 1.000000e+00]], dtype=float32)"
      ]
     },
     "execution_count": 7,
     "metadata": {},
     "output_type": "execute_result"
    }
   ],
   "source": [
    "network.predict(\n",
    "    temp=1.e8,\n",
    "    dens=1.e6,\n",
    "    mass_frac=np.ones(6)/6\n",
    ")"
   ]
  },
  {
   "cell_type": "code",
   "execution_count": 8,
   "metadata": {},
   "outputs": [
    {
     "name": "stdout",
     "output_type": "stream",
     "text": [
      "\u001b[1m1/1\u001b[0m \u001b[32m━━━━━━━━━━━━━━━━━━━━\u001b[0m\u001b[37m\u001b[0m \u001b[1m0s\u001b[0m 64ms/step\n"
     ]
    },
    {
     "data": {
      "text/plain": [
       "array([[4.6579681e-20, 1.0000000e+00],\n",
       "       [6.6265685e-14, 1.0000000e+00]], dtype=float32)"
      ]
     },
     "execution_count": 8,
     "metadata": {},
     "output_type": "execute_result"
    }
   ],
   "source": [
    "network.predict(\n",
    "    temp=[1.e8, 1.e9],\n",
    "    dens=[1.e6, 1.e7],\n",
    "    mass_frac=testing.inputs.rng.dirichlet(alpha=[1]*num_nuclei, size=(2,))\n",
    ")"
   ]
  },
  {
   "cell_type": "code",
   "execution_count": 16,
   "metadata": {},
   "outputs": [
    {
     "name": "stdout",
     "output_type": "stream",
     "text": [
      "\u001b[1m3125/3125\u001b[0m \u001b[32m━━━━━━━━━━━━━━━━━━━━\u001b[0m\u001b[37m\u001b[0m \u001b[1m4s\u001b[0m 1ms/step\n"
     ]
    },
    {
     "data": {
      "text/plain": [
       "array([[0.26161213, 0.77217487, 0.07142857, ..., 0.35714286, 0.07142857,\n",
       "        0.14285714],\n",
       "       [0.29849114, 0.0677453 , 0.07142857, ..., 0.35714286, 0.07142857,\n",
       "        0.14285714],\n",
       "       [0.81422574, 0.75680663, 0.07142857, ..., 0.35714286, 0.07142857,\n",
       "        0.14285714],\n",
       "       ...,\n",
       "       [0.35486088, 0.8514249 , 0.07142857, ..., 0.35714286, 0.07142857,\n",
       "        0.14285714],\n",
       "       [0.21557881, 0.41608896, 0.07142857, ..., 0.35714286, 0.07142857,\n",
       "        0.14285714],\n",
       "       [0.27102194, 0.90353063, 0.07142857, ..., 0.35714286, 0.07142857,\n",
       "        0.14285714]])"
      ]
     },
     "metadata": {},
     "output_type": "display_data"
    },
    {
     "data": {
      "text/plain": [
       "array([[3.8706370e-25, 1.0000000e+00],\n",
       "       [1.0847571e-15, 1.0000000e+00],\n",
       "       [1.2901570e-09, 1.0000000e+00],\n",
       "       ...,\n",
       "       [1.6462951e-23, 1.0000000e+00],\n",
       "       [4.0989261e-22, 1.0000000e+00],\n",
       "       [1.7912996e-26, 1.0000000e+00]], dtype=float32)"
      ]
     },
     "metadata": {},
     "output_type": "display_data"
    }
   ],
   "source": [
    "input_kwargs_2 = input_kwargs\n",
    "input_kwargs_2[\"num_nuclei\"] = [1, 2, 3, 5, 1, 2]\n",
    "\n",
    "test2 = CompositionData(**input_kwargs_2, seed=2)\n",
    "\n",
    "display(\n",
    "    test2.x,\n",
    "    network.model.predict(test2.x)\n",
    ")"
   ]
  }
 ],
 "metadata": {
  "kernelspec": {
   "display_name": "Python 3",
   "language": "python",
   "name": "python3"
  },
  "language_info": {
   "codemirror_mode": {
    "name": "ipython",
    "version": 3
   },
   "file_extension": ".py",
   "mimetype": "text/x-python",
   "name": "python",
   "nbconvert_exporter": "python",
   "pygments_lexer": "ipython3",
   "version": "3.12.2"
  }
 },
 "nbformat": 4,
 "nbformat_minor": 2
}
