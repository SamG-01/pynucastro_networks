{
 "cells": [
  {
   "cell_type": "code",
   "execution_count": 1,
   "metadata": {},
   "outputs": [],
   "source": [
    "from ScreeningFactorData import ExpLogData, MassFractionData, ScreeningFactorData\n",
    "from ScreeningFactorNetwork import ScreeningFactorNetwork\n",
    "import pynucastro as pyna\n",
    "import numpy as np\n",
    "\n",
    "rng = np.random.default_rng"
   ]
  },
  {
   "cell_type": "code",
   "execution_count": 2,
   "metadata": {},
   "outputs": [],
   "source": [
    "nuclei = [\"h1\", \"he4\", \"c12\", \"o16\", \"n14\", \"ca40\"]\n",
    "num_nuclei = len(nuclei)\n",
    "comp = pyna.Composition([pyna.Nucleus(n) for n in nuclei])\n",
    "\n",
    "reactants = [\"c12\", \"he4\"]\n",
    "\n",
    "temp_range = (1.e7, 1.e10)\n",
    "dens_range = (1.e4, 1.e8)\n",
    "\n",
    "size = 10**5\n",
    "\n",
    "data_kwargs = {\n",
    "    \"comp\": comp,\n",
    "    \"reactants\": reactants,\n",
    "    \"threshold\": 1.01\n",
    "}"
   ]
  },
  {
   "cell_type": "code",
   "execution_count": 3,
   "metadata": {},
   "outputs": [],
   "source": [
    "training = ScreeningFactorData(\n",
    "    temperatures = ExpLogData.from_uniform(data_range = temp_range, size = size, rng = rng(0)),\n",
    "    densities = ExpLogData.from_uniform(data_range = dens_range, size = size, rng = rng(1)),\n",
    "    mass_fractions = MassFractionData.from_dirichlet(num_nuclei = num_nuclei, size = size, rng = rng(2)),\n",
    "    **data_kwargs\n",
    ")\n",
    "\n",
    "testing = ScreeningFactorData(\n",
    "    temperatures = ExpLogData.from_uniform(data_range = temp_range, size = size, rng = rng(3)),\n",
    "    densities = ExpLogData.from_uniform(data_range = dens_range, size = size, rng = rng(4)),\n",
    "    mass_fractions = MassFractionData.from_dirichlet(num_nuclei = num_nuclei, size = size, rng = rng(5)),\n",
    "    **data_kwargs\n",
    ")"
   ]
  },
  {
   "cell_type": "code",
   "execution_count": 4,
   "metadata": {},
   "outputs": [
    {
     "data": {
      "text/plain": [
       "array([[6.36961687e-01, 5.11821625e-01, 3.15002848e-02, ...,\n",
       "        1.71614603e-01, 2.94273646e-01, 3.24987445e-01],\n",
       "       [2.69786714e-01, 9.50463696e-01, 6.67871600e-02, ...,\n",
       "        1.55136448e-01, 4.98444706e-01, 9.61838095e-02],\n",
       "       [4.09735239e-02, 1.44159613e-01, 9.54844360e-02, ...,\n",
       "        2.87291323e-01, 1.70207080e-01, 2.91424312e-01],\n",
       "       ...,\n",
       "       [7.77062361e-01, 6.64051367e-01, 1.62622741e-01, ...,\n",
       "        7.43402705e-02, 9.33532695e-02, 1.27407454e-03],\n",
       "       [5.79039209e-01, 4.47016407e-01, 5.45221391e-01, ...,\n",
       "        2.00136996e-04, 2.14633204e-01, 3.86479497e-02],\n",
       "       [5.06262615e-01, 3.91678724e-01, 4.86514601e-01, ...,\n",
       "        5.02892443e-02, 3.77907906e-01, 3.78349107e-02]])"
      ]
     },
     "execution_count": 4,
     "metadata": {},
     "output_type": "execute_result"
    }
   ],
   "source": [
    "training.inputs"
   ]
  },
  {
   "cell_type": "code",
   "execution_count": 5,
   "metadata": {},
   "outputs": [],
   "source": [
    "network = ScreeningFactorNetwork(\n",
    "    training=training,\n",
    "    testing=testing,\n",
    "    seed=0\n",
    ")"
   ]
  },
  {
   "cell_type": "code",
   "execution_count": 6,
   "metadata": {},
   "outputs": [
    {
     "name": "stdout",
     "output_type": "stream",
     "text": [
      "Epoch 1/20\n",
      "425/425 - 3s - 8ms/step - accuracy: 0.9723 - loss: 0.0688 - val_accuracy: 0.9889 - val_loss: 0.0270\n",
      "Epoch 2/20\n",
      "425/425 - 2s - 5ms/step - accuracy: 0.9855 - loss: 0.0334 - val_accuracy: 0.9817 - val_loss: 0.0358\n",
      "Epoch 3/20\n",
      "425/425 - 2s - 5ms/step - accuracy: 0.9880 - loss: 0.0277 - val_accuracy: 0.9875 - val_loss: 0.0246\n",
      "Epoch 4/20\n",
      "425/425 - 2s - 5ms/step - accuracy: 0.9895 - loss: 0.0248 - val_accuracy: 0.9783 - val_loss: 0.0513\n",
      "Epoch 5/20\n",
      "425/425 - 2s - 5ms/step - accuracy: 0.9904 - loss: 0.0227 - val_accuracy: 0.9785 - val_loss: 0.0537\n"
     ]
    }
   ],
   "source": [
    "network.fit_model(verbose=2)"
   ]
  },
  {
   "cell_type": "code",
   "execution_count": 9,
   "metadata": {},
   "outputs": [],
   "source": [
    "testing2 = ScreeningFactorData(\n",
    "    temperatures = ExpLogData.from_uniform(data_range = temp_range, size = 2, rng = rng(6)),\n",
    "    densities = ExpLogData.from_uniform(data_range = dens_range, size = 2, rng = rng(7)),\n",
    "    mass_fractions = MassFractionData.from_static([1/6]*6, size=2),\n",
    "    **data_kwargs\n",
    ")"
   ]
  },
  {
   "cell_type": "code",
   "execution_count": 11,
   "metadata": {},
   "outputs": [
    {
     "name": "stdout",
     "output_type": "stream",
     "text": [
      "\u001b[1m1/1\u001b[0m \u001b[32m━━━━━━━━━━━━━━━━━━━━\u001b[0m\u001b[37m\u001b[0m \u001b[1m0s\u001b[0m 32ms/step\n"
     ]
    },
    {
     "data": {
      "text/plain": [
       "array([[4.4287856e-14, 1.0000000e+00]], dtype=float32)"
      ]
     },
     "execution_count": 11,
     "metadata": {},
     "output_type": "execute_result"
    }
   ],
   "source": [
    "network.predict(testing2)"
   ]
  }
 ],
 "metadata": {
  "kernelspec": {
   "display_name": "Python 3",
   "language": "python",
   "name": "python3"
  },
  "language_info": {
   "codemirror_mode": {
    "name": "ipython",
    "version": 3
   },
   "file_extension": ".py",
   "mimetype": "text/x-python",
   "name": "python",
   "nbconvert_exporter": "python",
   "pygments_lexer": "ipython3",
   "version": "3.12.2"
  }
 },
 "nbformat": 4,
 "nbformat_minor": 2
}
