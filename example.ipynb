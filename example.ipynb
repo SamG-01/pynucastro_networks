{
 "cells": [
  {
   "cell_type": "code",
   "execution_count": 1,
   "metadata": {},
   "outputs": [],
   "source": [
    "from ScreeningFactorNetwork import ScreeningFactorData, ScreeningFactorNetwork\n",
    "import pynucastro as pyna"
   ]
  },
  {
   "cell_type": "code",
   "execution_count": 2,
   "metadata": {},
   "outputs": [],
   "source": [
    "nuclei = [\"h1\", \"he4\", \"c12\", \"o16\", \"n14\", \"ca40\"]\n",
    "comp = pyna.Composition([pyna.Nucleus(n) for n in nuclei])\n",
    "\n",
    "reactants = [\"c12\", \"he4\"]\n",
    "\n",
    "temp_range = (1.e7, 1.e10)\n",
    "dens_range = (1.e4, 1.e8)"
   ]
  },
  {
   "cell_type": "code",
   "execution_count": 3,
   "metadata": {},
   "outputs": [],
   "source": [
    "data = ScreeningFactorData(comp=comp, reactants=reactants, temperature_range=temp_range, density_range=dens_range, size=10**5, threshold=1.01)"
   ]
  },
  {
   "cell_type": "code",
   "execution_count": 4,
   "metadata": {},
   "outputs": [],
   "source": [
    "network = ScreeningFactorNetwork(data)"
   ]
  },
  {
   "cell_type": "code",
   "execution_count": 5,
   "metadata": {},
   "outputs": [],
   "source": [
    "network.plot_model()"
   ]
  },
  {
   "cell_type": "code",
   "execution_count": 6,
   "metadata": {},
   "outputs": [
    {
     "name": "stdout",
     "output_type": "stream",
     "text": [
      "Epoch 1/20\n",
      "425/425 - 3s - 7ms/step - accuracy: 0.9706 - loss: 0.0701 - val_accuracy: 0.9949 - val_loss: 0.0240\n",
      "Epoch 2/20\n",
      "425/425 - 2s - 4ms/step - accuracy: 0.9861 - loss: 0.0320 - val_accuracy: 0.9751 - val_loss: 0.0539\n",
      "Epoch 3/20\n",
      "425/425 - 2s - 4ms/step - accuracy: 0.9880 - loss: 0.0276 - val_accuracy: 0.9913 - val_loss: 0.0197\n",
      "Epoch 4/20\n",
      "425/425 - 2s - 4ms/step - accuracy: 0.9893 - loss: 0.0242 - val_accuracy: 0.9893 - val_loss: 0.0211\n",
      "Epoch 5/20\n",
      "425/425 - 2s - 4ms/step - accuracy: 0.9905 - loss: 0.0221 - val_accuracy: 0.9951 - val_loss: 0.0131\n",
      "Epoch 6/20\n",
      "425/425 - 2s - 4ms/step - accuracy: 0.9909 - loss: 0.0218 - val_accuracy: 0.9748 - val_loss: 0.0610\n",
      "Epoch 7/20\n",
      "425/425 - 2s - 4ms/step - accuracy: 0.9916 - loss: 0.0201 - val_accuracy: 0.9914 - val_loss: 0.0171\n"
     ]
    }
   ],
   "source": [
    "network.fit_model(verbose=2)"
   ]
  },
  {
   "cell_type": "code",
   "execution_count": 7,
   "metadata": {},
   "outputs": [
    {
     "data": {
      "text/plain": [
       "0.9927499890327454"
      ]
     },
     "execution_count": 7,
     "metadata": {},
     "output_type": "execute_result"
    }
   ],
   "source": [
    "network.accuracy"
   ]
  },
  {
   "cell_type": "code",
   "execution_count": 8,
   "metadata": {},
   "outputs": [
    {
     "name": "stdout",
     "output_type": "stream",
     "text": [
      "\u001b[1m3125/3125\u001b[0m \u001b[32m━━━━━━━━━━━━━━━━━━━━\u001b[0m\u001b[37m\u001b[0m \u001b[1m3s\u001b[0m 902us/step\n"
     ]
    },
    {
     "data": {
      "text/plain": [
       "array([[2.1820760e-24, 1.0000000e+00],\n",
       "       [1.2792545e-10, 1.0000000e+00],\n",
       "       [3.8278640e-06, 9.9999619e-01],\n",
       "       ...,\n",
       "       [4.6098573e-18, 1.0000000e+00],\n",
       "       [1.3937686e-17, 1.0000000e+00],\n",
       "       [8.0029869e-23, 1.0000000e+00]], dtype=float32)"
      ]
     },
     "execution_count": 8,
     "metadata": {},
     "output_type": "execute_result"
    }
   ],
   "source": [
    "network.model.predict(network.data.testing[\"input\"].x[\"scaled\"])"
   ]
  }
 ],
 "metadata": {
  "kernelspec": {
   "display_name": "Python 3",
   "language": "python",
   "name": "python3"
  },
  "language_info": {
   "codemirror_mode": {
    "name": "ipython",
    "version": 3
   },
   "file_extension": ".py",
   "mimetype": "text/x-python",
   "name": "python",
   "nbconvert_exporter": "python",
   "pygments_lexer": "ipython3",
   "version": "3.12.2"
  }
 },
 "nbformat": 4,
 "nbformat_minor": 2
}
