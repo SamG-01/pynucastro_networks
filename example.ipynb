{
 "cells": [
  {
   "cell_type": "code",
   "execution_count": 1,
   "metadata": {},
   "outputs": [],
   "source": [
    "from ScreeningFactorData import ScreeningFactorData\n",
    "from ScreeningFactorNetwork import ScreeningFactorNetwork\n",
    "import pynucastro as pyna\n",
    "import numpy as np"
   ]
  },
  {
   "cell_type": "code",
   "execution_count": 2,
   "metadata": {},
   "outputs": [],
   "source": [
    "nuclei = [\"h1\", \"he4\", \"c12\", \"o16\", \"n14\", \"ca40\"]\n",
    "comp = pyna.Composition([pyna.Nucleus(n) for n in nuclei])\n",
    "\n",
    "reactants = [\"c12\", \"he4\"]\n",
    "\n",
    "temp_range = (1.e7, 1.e10)\n",
    "dens_range = (1.e4, 1.e8)"
   ]
  },
  {
   "cell_type": "code",
   "execution_count": 3,
   "metadata": {},
   "outputs": [],
   "source": [
    "data = ScreeningFactorData(\n",
    "    comp=comp,\n",
    "    reactants=reactants,\n",
    "    temperature_range=temp_range,\n",
    "    density_range=dens_range,\n",
    "    size=10**5,\n",
    "    threshold=1.01,\n",
    "    seed=0\n",
    ")"
   ]
  },
  {
   "cell_type": "code",
   "execution_count": 4,
   "metadata": {},
   "outputs": [
    {
     "data": {
      "text/plain": [
       "array([[0.63696169, 0.60699537, 0.10167085, ..., 0.28562701, 0.0544318 ,\n",
       "        0.12996116],\n",
       "       [0.26978671, 0.21254401, 0.10483623, ..., 0.44504448, 0.0438048 ,\n",
       "        0.01901465],\n",
       "       [0.04097352, 0.55624315, 0.1967304 , ..., 0.32866369, 0.05964874,\n",
       "        0.35713564],\n",
       "       ...,\n",
       "       [0.77706236, 0.05828959, 0.27655458, ..., 0.16259219, 0.07665661,\n",
       "        0.0426203 ],\n",
       "       [0.57903921, 0.73793846, 0.23899268, ..., 0.04268075, 0.23729338,\n",
       "        0.09504649],\n",
       "       [0.50626261, 0.44679832, 0.14992474, ..., 0.01028611, 0.29169643,\n",
       "        0.12387776]])"
      ]
     },
     "execution_count": 4,
     "metadata": {},
     "output_type": "execute_result"
    }
   ],
   "source": [
    "data.training[\"input\"].x[\"scaled\"]"
   ]
  },
  {
   "cell_type": "code",
   "execution_count": 5,
   "metadata": {},
   "outputs": [],
   "source": [
    "network = ScreeningFactorNetwork(data)"
   ]
  },
  {
   "cell_type": "code",
   "execution_count": 6,
   "metadata": {},
   "outputs": [
    {
     "name": "stdout",
     "output_type": "stream",
     "text": [
      "Epoch 1/20\n",
      "425/425 - 3s - 8ms/step - accuracy: 0.9723 - loss: 0.0688 - val_accuracy: 0.9933 - val_loss: 0.0250\n",
      "Epoch 2/20\n",
      "425/425 - 2s - 5ms/step - accuracy: 0.9858 - loss: 0.0327 - val_accuracy: 0.9877 - val_loss: 0.0246\n",
      "Epoch 3/20\n",
      "425/425 - 2s - 5ms/step - accuracy: 0.9881 - loss: 0.0275 - val_accuracy: 0.9947 - val_loss: 0.0164\n",
      "Epoch 4/20\n",
      "425/425 - 2s - 5ms/step - accuracy: 0.9895 - loss: 0.0249 - val_accuracy: 0.9955 - val_loss: 0.0139\n",
      "Epoch 5/20\n",
      "425/425 - 2s - 5ms/step - accuracy: 0.9901 - loss: 0.0226 - val_accuracy: 0.9970 - val_loss: 0.0118\n",
      "Epoch 6/20\n",
      "425/425 - 2s - 5ms/step - accuracy: 0.9907 - loss: 0.0213 - val_accuracy: 0.9964 - val_loss: 0.0117\n",
      "Epoch 7/20\n",
      "425/425 - 2s - 5ms/step - accuracy: 0.9910 - loss: 0.0203 - val_accuracy: 0.9972 - val_loss: 0.0110\n",
      "Epoch 8/20\n",
      "425/425 - 2s - 5ms/step - accuracy: 0.9916 - loss: 0.0198 - val_accuracy: 0.9981 - val_loss: 0.0103\n",
      "Epoch 9/20\n",
      "425/425 - 2s - 5ms/step - accuracy: 0.9920 - loss: 0.0189 - val_accuracy: 0.9981 - val_loss: 0.0106\n",
      "Epoch 10/20\n",
      "425/425 - 2s - 5ms/step - accuracy: 0.9926 - loss: 0.0176 - val_accuracy: 0.9924 - val_loss: 0.0150\n"
     ]
    }
   ],
   "source": [
    "network.fit_model(verbose=2)"
   ]
  },
  {
   "cell_type": "code",
   "execution_count": 7,
   "metadata": {},
   "outputs": [
    {
     "name": "stdout",
     "output_type": "stream",
     "text": [
      "\u001b[1m1/1\u001b[0m \u001b[32m━━━━━━━━━━━━━━━━━━━━\u001b[0m\u001b[37m\u001b[0m \u001b[1m0s\u001b[0m 64ms/step\n"
     ]
    },
    {
     "data": {
      "text/plain": [
       "array([[9.187461e-20, 1.000000e+00]], dtype=float32)"
      ]
     },
     "execution_count": 7,
     "metadata": {},
     "output_type": "execute_result"
    }
   ],
   "source": [
    "network.predict(temp=1.e8, dens=1.e6, mass_frac=np.ones(6)/6)"
   ]
  }
 ],
 "metadata": {
  "kernelspec": {
   "display_name": "Python 3",
   "language": "python",
   "name": "python3"
  },
  "language_info": {
   "codemirror_mode": {
    "name": "ipython",
    "version": 3
   },
   "file_extension": ".py",
   "mimetype": "text/x-python",
   "name": "python",
   "nbconvert_exporter": "python",
   "pygments_lexer": "ipython3",
   "version": "3.12.2"
  }
 },
 "nbformat": 4,
 "nbformat_minor": 2
}
