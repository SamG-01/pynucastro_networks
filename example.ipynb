{
 "cells": [
  {
   "cell_type": "code",
   "execution_count": 1,
   "metadata": {},
   "outputs": [],
   "source": [
    "from ScreeningFactorData import CompositionData, ScreeningFactorData\n",
    "from ScreeningFactorNetwork import ScreeningFactorNetwork\n",
    "import pynucastro as pyna"
   ]
  },
  {
   "cell_type": "code",
   "execution_count": 2,
   "metadata": {},
   "outputs": [],
   "source": [
    "nuclei = [\"h1\", \"he4\", \"c12\", \"o16\", \"n14\", \"ca40\"]\n",
    "comp = pyna.Composition([pyna.Nucleus(n) for n in nuclei])\n",
    "\n",
    "reactants = [\"c12\", \"he4\"]\n",
    "\n",
    "temp_range = (1.e7, 1.e10)\n",
    "dens_range = (1.e4, 1.e8)"
   ]
  },
  {
   "cell_type": "code",
   "execution_count": 3,
   "metadata": {},
   "outputs": [],
   "source": [
    "data = ScreeningFactorData(\n",
    "    comp=comp,\n",
    "    reactants=reactants,\n",
    "    temperature_range=temp_range,\n",
    "    density_range=dens_range,\n",
    "    size=10**5,\n",
    "    threshold=1.01\n",
    ")"
   ]
  },
  {
   "cell_type": "code",
   "execution_count": 4,
   "metadata": {},
   "outputs": [],
   "source": [
    "network = ScreeningFactorNetwork(data)"
   ]
  },
  {
   "cell_type": "code",
   "execution_count": 5,
   "metadata": {},
   "outputs": [
    {
     "name": "stdout",
     "output_type": "stream",
     "text": [
      "Epoch 1/20\n",
      "425/425 - 3s - 6ms/step - accuracy: 0.9719 - loss: 0.0680 - val_accuracy: 0.9747 - val_loss: 0.0482\n",
      "Epoch 2/20\n",
      "425/425 - 2s - 4ms/step - accuracy: 0.9862 - loss: 0.0326 - val_accuracy: 0.9948 - val_loss: 0.0181\n",
      "Epoch 3/20\n",
      "425/425 - 2s - 4ms/step - accuracy: 0.9881 - loss: 0.0274 - val_accuracy: 0.9742 - val_loss: 0.0566\n",
      "Epoch 4/20\n",
      "425/425 - 2s - 4ms/step - accuracy: 0.9890 - loss: 0.0246 - val_accuracy: 0.9889 - val_loss: 0.0218\n"
     ]
    }
   ],
   "source": [
    "network.fit_model(verbose=2)"
   ]
  },
  {
   "cell_type": "code",
   "execution_count": 6,
   "metadata": {},
   "outputs": [
    {
     "name": "stdout",
     "output_type": "stream",
     "text": [
      "\u001b[1m1/1\u001b[0m \u001b[32m━━━━━━━━━━━━━━━━━━━━\u001b[0m\u001b[37m\u001b[0m \u001b[1m0s\u001b[0m 46ms/step\n"
     ]
    },
    {
     "data": {
      "text/plain": [
       "array([[6.829349e-17, 1.000000e+00]], dtype=float32)"
      ]
     },
     "execution_count": 6,
     "metadata": {},
     "output_type": "execute_result"
    }
   ],
   "source": [
    "network.predict(temp=1.e8, dens=1.e6)"
   ]
  }
 ],
 "metadata": {
  "kernelspec": {
   "display_name": "Python 3",
   "language": "python",
   "name": "python3"
  },
  "language_info": {
   "codemirror_mode": {
    "name": "ipython",
    "version": 3
   },
   "file_extension": ".py",
   "mimetype": "text/x-python",
   "name": "python",
   "nbconvert_exporter": "python",
   "pygments_lexer": "ipython3",
   "version": "3.12.2"
  }
 },
 "nbformat": 4,
 "nbformat_minor": 2
}
